{
 "cells": [
  {
   "cell_type": "raw",
   "metadata": {
    "vscode": {
     "languageId": "raw"
    }
   },
   "source": [
    "---\n",
    "layout: post\n",
    "title: GitHub Pages Hacks \n",
    "description: Objective is to be able to work fully with Notebooks, Submenus, and Anatomy to create your own personal interest blog.\n",
    "categories: [Github Pages]\n",
    "permalink: /github/pages/hacks\n",
    "menu: nav/github_pages.html\n",
    "toc: true\n",
    "comments: true\n",
    "---"
   ]
  },
  {
   "cell_type": "markdown",
   "metadata": {},
   "source": [
    "## GitHub Pages Hacks\n",
    "Enhance or update your GitHub Pages using your new knowledge from Previous Hacks.\n",
    "\n",
    "- Alter index.md with images and links according to some of your personal interests projet.\n",
    "- Make your index.md contain a submenu that points to several Notebooks.\n",
    "- Make one of the Notebooks a planning document on what you attempted to do versus accomplishment.\n",
    "- Make one of the Notebooks running a JavaScript cell\n",
    "- Make one of the Notebooks and About Pages"
   ]
  },
  {
   "cell_type": "markdown",
   "metadata": {},
   "source": [
    "## Theme Hacks\n",
    "- Setup your blog so you can rotate between two different themes, one in _config.yml and one in _sass/minima\n",
    "- Be prepared for live demonstration and show you have equivalent functionality.\n",
    "- Be sure you have something in your blog that uses Nighthawk SASS."
   ]
  },
  {
   "cell_type": "markdown",
   "metadata": {},
   "source": [
    "## Jekyll and Liquid Hack\n",
    "- **Alter the appearance of the blogs**.  Modify the layout, style, or content of your blog posts to reflect your personal taste."
   ]
  },
  {
   "cell_type": "markdown",
   "metadata": {},
   "source": [
    "## Utterances Hacks\n",
    "- Setup your blogs for direct feedback.  \n",
    "- Get two other people to mutually share work.\n",
    "- Each should evaluate how many thing were accomplished versus asked."
   ]
  }
 ],
 "metadata": {
  "language_info": {
   "name": "python"
  }
 },
 "nbformat": 4,
 "nbformat_minor": 2
}
