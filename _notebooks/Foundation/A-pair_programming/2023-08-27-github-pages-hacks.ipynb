{
 "cells": [
  {
   "cell_type": "raw",
   "metadata": {
    "vscode": {
     "languageId": "raw"
    }
   },
   "source": [
    "---\n",
    "layout: post\n",
    "title: GitHub Pages Hacks \n",
    "description: Objective is to be able to work fully with Notebooks, Submenus, and Anatomy to create your own personal interest blog.\n",
    "categories: [Github Pages]\n",
    "permalink: /github/pages/hacks\n",
    "menu: nav/github_pages.html\n",
    "toc: true\n",
    "comments: true\n",
    "---"
   ]
  },
  {
   "cell_type": "markdown",
   "metadata": {},
   "source": [
    "## GitHub Pages Hacks\n",
    "Enhance or update your GitHub Pages using your new knowledge from Previous Hacks.\n",
    "\n",
    "- Alter index.md with images and links according to some of your personal interests projet.\n",
    "- Make your index.md contain a submenu that points to several Notebooks.\n",
    "- Make one of the Notebooks a planning document on what you attempted to do versus accomplishment.\n",
    "- Make one of the Notebooks running a JavaScript cell\n",
    "- Make one of the Notebooks and About Pages"
   ]
  },
  {
   "cell_type": "markdown",
   "metadata": {},
   "source": [
    "## Theme Hacks\n",
    "- Setup your blog so you can rotate between two different themes, one in _config.yml and one in _sass/minima\n",
    "- Be prepared for live demonstration and show you have equivalent functionality.\n",
    "- Be sure you have something in your blog that uses Nighthawk SASS."
   ]
  },
  {
   "cell_type": "markdown",
   "metadata": {},
   "source": [
    "## Jekyll and Liquid Hack\n",
    "- **Alter the appearance of the blogs**.  Modify the layout, style, or content of your blog posts to reflect your personal taste."
   ]
  },
  {
   "cell_type": "markdown",
   "metadata": {},
   "source": [
    "## Utterances Hacks\n",
    "- Setup your blogs for direct feedback.  \n",
    "- Get two other people to mutually share work.\n",
    "- Each should evaluate how many thing were accomplished versus asked."
   ]
  },
  {
   "cell_type": "markdown",
   "metadata": {},
   "source": [
    "## Final SCSS With Updates\n",
    "<img width=\"1496\" alt=\"Screenshot 2024-09-09 at 17 37 39\" src=\"https://github.com/user-attachments/assets/2ae1d75b-f4ae-4916-a1fa-800d540495d4\">   \n",
    "\n",
    "## SCSS before I fixed it\n",
    "<img width=\"1496\" alt=\"Screenshot 2024-09-09 at 17 37 58\" src=\"https://github.com/user-attachments/assets/075e1cf7-9db5-454d-88bc-f5d8b8996c41\">\n",
    "\n",
    "## Default Cayman SCSS\n",
    "<img width=\"1496\" alt=\"Screenshot 2024-09-09 at 17 38 13\" src=\"https://github.com/user-attachments/assets/56b5e403-d9dd-46ed-aed9-998ff67b246b\">"
   ]
  }
 ],
 "metadata": {
  "language_info": {
   "name": "python"
  }
 },
 "nbformat": 4,
 "nbformat_minor": 2
}
