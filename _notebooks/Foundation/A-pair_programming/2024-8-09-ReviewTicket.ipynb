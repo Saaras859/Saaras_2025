{
 "cells": [
  {
   "cell_type": "markdown",
   "metadata": {},
   "source": [
    "---\n",
    "layout: post\n",
    "title: Review Tickets\n",
    "description: Experiment with SASS using your project\n",
    "categories: [SASS]\n",
    "permalink: /sass_basics/play\n",
    "menu: nav/sass_basics.html\n",
    "toc: true\n",
    "comments: true\n",
    "---"
   ]
  },
  {
   "cell_type": "markdown",
   "metadata": {},
   "source": [
    "## Hacks Tools & Equipment Play\t\n",
    "[2023-08-17 Tool Hacks Notebook](https://saaras859.github.io/Saaras_2025/pair/habits)\n",
    "\n",
    "\n",
    "## Hacks GitHub Pages Playground\t\n",
    "- Changed the theme to Cayman\n",
    "- Successfully run one of the Java blogs\n",
    "- Created an \"About\" page to showcase\n",
    "- Altered the appearance of blogs\n",
    "\n",
    "## Hacks Frontend\n",
    "- I altered about me pages using the blog\n",
    "\n"
   ]
  }
 ],
 "metadata": {
  "language_info": {
   "name": "python"
  }
 },
 "nbformat": 4,
 "nbformat_minor": 2
}
