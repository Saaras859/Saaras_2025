{
 "cells": [
  {
   "cell_type": "markdown",
   "metadata": {},
   "source": [
    "---\n",
    "layout: post\n",
    "title: Review Tickets\n",
    "description: Experiment with SASS using your project\n",
    "categories: [SASS]\n",
    "permalink: /sass_basics/play\n",
    "menu: nav/sass_basics.html\n",
    "toc: true\n",
    "comments: true\n",
    "---"
   ]
  },
  {
   "cell_type": "markdown",
   "metadata": {},
   "source": [
    "## Hacks Tools & Equipment Play\t\n",
    "[Jupyter Notebook+Hacks](https://saaras859.github.io/Saaras_2025/jupyter/notebook/python)\n",
    "\n",
    "## Hacks GitHub Pages Playground\t\n",
    "## Final SCSS With Updates\n",
    "<img width=\"1496\" alt=\"Screenshot 2024-09-09 at 17 37 39\" src=\"https://github.com/user-attachments/assets/2ae1d75b-f4ae-4916-a1fa-800d540495d4\">   \n",
    "\n",
    "## SCSS before I fixed it\n",
    "<img width=\"1496\" alt=\"Screenshot 2024-09-09 at 17 37 58\" src=\"https://github.com/user-attachments/assets/075e1cf7-9db5-454d-88bc-f5d8b8996c41\">\n",
    "\n",
    "## Default Cayman SCSS\n",
    "<img width=\"1496\" alt=\"Screenshot 2024-09-09 at 17 38 13\" src=\"https://github.com/user-attachments/assets/56b5e403-d9dd-46ed-aed9-998ff67b246b\">\n"
   ]
  }
 ],
 "metadata": {
  "language_info": {
   "name": "python"
  }
 },
 "nbformat": 4,
 "nbformat_minor": 2
}
