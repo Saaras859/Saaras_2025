{
 "cells": [
  {
   "cell_type": "markdown",
   "metadata": {},
   "source": [
    "---\n",
    "layout: post\n",
    "title: Review Tickets\n",
    "description: Experiment with SASS using your project\n",
    "categories: [SASS]\n",
    "permalink: /sass_basic/play\n",
    "menu: nav/sass_basic.html\n",
    "toc: true\n",
    "comments: true\n",
    "---"
   ]
  },
  {
   "cell_type": "markdown",
   "metadata": {},
   "source": [
    "## Hacks Tools & Equipment Play\t\n",
    "[Jupyter Notebook+Hacks](https://saaras859.github.io/Saaras_2025/jupyter/notebook/python)\n",
    "\n",
    "## Hacks GitHub Pages Playground\t\n",
    "[All of the Visual Hacks](https://saaras859.github.io/Saaras_2025/github/pages/hacks)\n"
   ]
  }
 ],
 "metadata": {
  "language_info": {
   "name": "python"
  }
 },
 "nbformat": 4,
 "nbformat_minor": 2
}
