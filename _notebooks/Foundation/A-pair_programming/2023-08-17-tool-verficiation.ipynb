{
 "cells": [
  {
   "cell_type": "raw",
   "metadata": {
    "vscode": {
     "languageId": "raw"
    }
   },
   "source": [
    "---\n",
    "layout: post\n",
    "title: Tool Verification\n",
    "description: Establishing pair programming habits in the classroom.  This will extend to other forms of collaboration, such as group work and team projects. \n",
    "categories: [Collaboration]\n",
    "courses: { csse: {week: 1}, csp: {week: 1}, csa: {week: 1} }\n",
    "menu: nav/pair_programming.html\n",
    "permalink: /pair/habits\n",
    "type: collab\n",
    "comments: true\n",
    "sticky_rank: 1\n",
    "---"
   ]
  },
  {
   "cell_type": "markdown",
   "metadata": {},
   "source": [
    "### Proof that I am in the correct repository cloned correctly etc\n",
    "![Proof that I am in the correct repository cloned correctly etc](https://github.com/user-attachments/assets/0f793249-bb67-4b13-aa09-2cf92bf3cb44)\n",
    "\n",
    "### Making sure that I am in the correct area in regards to my files existing\n",
    "![Making sure that I am in the correct area in regards to my files existing](https://github.com/user-attachments/assets/2a0f9466-c415-4bd2-9d43-ef20154a1137)\n",
    "\n",
    "### Using ls to display all items within my repository\n",
    "![Using ls to display all items within my repository](https://github.com/user-attachments/assets/95edec2f-bf8e-4967-ac32-b58ea77258ff)\n",
    "\n",
    "### ls -lR recursively lists all of my posts\n",
    "![ls -lR recursively lists all of my posts](https://github.com/user-attachments/assets/458eed09-5caf-4551-b58e-610f0f8c4945)\n",
    "\n",
    "### ls -lR recursively lists all of my notebooks\n",
    "![ls -lR recursively lists all of my notebooks](https://github.com/user-attachments/assets/3a00ce62-f3b4-480d-8dd5-0c2d5437eea5)\n",
    "\n",
    "### ls -lR recursively lists all of my notebooks when in image directory\n",
    "![ls -lR recursively lists all of my notebooks when in image directory](https://github.com/user-attachments/assets/b43da8bc-45c5-4d22-a0f1-2e4b2514aab5)\n",
    "\n",
    "### VERY IMPORTANT: make sure to run the env command to show configured virtual environment\n",
    "![VERY IMPORTANT: make sure to run the env command to show configured virtual environment](https://github.com/user-attachments/assets/c7c45cd3-dbdf-4697-9a26-28c983f71311)\n",
    "\n",
    "### cat displays all text within a file as standard output to make it easy for me to read could be useful for accessing code through terminal\n",
    "![cat displays all text within a file as standard output to make it easy for me to read could be useful for accessing code through terminal](https://github.com/user-attachments/assets/f9b02472-7f07-40ae-abbb-7238ffa324c4)\n"
   ]
  }
 ],
 "metadata": {
  "kernelspec": {
   "display_name": "Python 3",
   "language": "python",
   "name": "python3"
  },
  "language_info": {
   "codemirror_mode": {
    "name": "ipython",
    "version": 3
   },
   "file_extension": ".py",
   "mimetype": "text/x-python",
   "name": "python",
   "nbconvert_exporter": "python",
   "pygments_lexer": "ipython3",
   "version": "3.11.9"
  },
  "orig_nbformat": 4
 },
 "nbformat": 4,
 "nbformat_minor": 2
}
