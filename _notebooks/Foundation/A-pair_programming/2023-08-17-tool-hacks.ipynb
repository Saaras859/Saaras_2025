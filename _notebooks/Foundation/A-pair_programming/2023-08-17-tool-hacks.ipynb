{
 "cells": [
  {
   "cell_type": "raw",
   "metadata": {
    "vscode": {
     "languageId": "raw"
    }
   },
   "source": [
    "---\n",
    "layout: post\n",
    "title: Tool Hacks\n",
    "description: Establishing pair programming habits in the classroom.  This will extend to other forms of collaboration, such as group work and team projects. \n",
    "categories: [Collaboration]\n",
    "courses: { csse: {week: 1}, csp: {week: 1}, csa: {week: 1} }\n",
    "menu: nav/pair_programming.html\n",
    "permalink: /pair/habits\n",
    "type: collab\n",
    "comments: true\n",
    "sticky_rank: 1\n",
    "---"
   ]
  },
  {
   "cell_type": "markdown",
   "metadata": {},
   "source": [
    "### Shell Commands Used in the Installation Procedure\n",
    "\n",
    "On my Unix-based macOS, I used the following shell commands:\n",
    "\n",
    "- **`cd`**: To change directories.\n",
    "- **`git`**: For version control and managing code.\n",
    "- **`brew`**: For installing and managing software.\n",
    "\n",
    "I'm not using WSL since macOS is a Unix-based system.\n",
    "\n",
    "### Version Control in the Development Process\n",
    "\n",
    "- **Cloning Files from GitHub**: I used `git clone` to bring files from GitHub to my local machine, navigating to them using `cd`.\n",
    "\n",
    "  ![Screenshot 2024-08-28 at 15 51 18](https://github.com/user-attachments/assets/56d7ce21-9c08-49d6-a030-03a53d1f7fbe)\n",
    "  \n",
    "- **Updating Files on GitHub**: After making changes, I commit and push updates to GitHub. Files are navigated via GitHub's web interface or local terminal.\n",
    "\n",
    "### Portfolio_2025 Repository Updates\n",
    "\n",
    "To update the `portfolio_2025` template for my course, I would customize it to align with specific course requirements.\n",
    "\n",
    "### Localhost vs. Deployed Server\n",
    "\n",
    "- **Localhost**: The URL is `http://localhost:xxxx` (where `xxxx` is the port). Only I can see it.\n",
    "- **Deployed Server**: The GitHub Pages URL is public, allowing others to view the project.\n",
    "\n",
    "### DNS and GitHub Pages\n",
    "\n",
    "- **Domain**: The GitHub Pages URL serves as my project's domain.\n",
    "- **URL Uniqueness**: My GitHub Pages URL differs from others'. I can change it if needed.\n"
   ]
  },
  {
   "cell_type": "markdown",
   "metadata": {},
   "source": [
    "Version check evidence all are in line\n",
    "<img width=\"375\" alt=\"Screenshot 2024-08-28 at 15 59 52\" src=\"https://github.com/user-attachments/assets/dbd76049-adec-4cf4-b232-9a62ddf5582c\">"
   ]
  }
 ],
 "metadata": {
  "kernelspec": {
   "display_name": "Python 3",
   "language": "python",
   "name": "python3"
  },
  "language_info": {
   "codemirror_mode": {
    "name": "ipython",
    "version": 3
   },
   "file_extension": ".py",
   "mimetype": "text/x-python",
   "name": "python",
   "nbconvert_exporter": "python",
   "pygments_lexer": "ipython3",
   "version": "3.11.9"
  },
  "orig_nbformat": 4
 },
 "nbformat": 4,
 "nbformat_minor": 2
}
