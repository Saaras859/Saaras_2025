{
 "cells": [
  {
   "cell_type": "markdown",
   "metadata": {},
   "source": [
    "# Iteration: For and While Loops\n",
    "In this lesson, we will explore for and while loops in Java. These loops help execute code repeatedly under certain conditions."
   ]
  },
  {
   "cell_type": "markdown",
   "metadata": {},
   "source": [
    "### For Loop:\n"
   ]
  },
  {
   "cell_type": "raw",
   "metadata": {
    "vscode": {
     "languageId": "javascript"
    }
   },
   "source": [
    "for (initialization, condition, iteration) {\n",
    "    // code to be executed (aka the body)\n",
    "}"
   ]
  },
  {
   "cell_type": "markdown",
   "metadata": {},
   "source": [
    "### For Each Loop: (Can Iterate through lists & arrays)"
   ]
  },
  {
   "cell_type": "code",
   "execution_count": 14,
   "metadata": {
    "vscode": {
     "languageId": "java"
    }
   },
   "outputs": [
    {
     "name": "stdout",
     "output_type": "stream",
     "text": [
      "1\n",
      "2\n",
      "3\n",
      "4\n",
      "5\n"
     ]
    }
   ],
   "source": [
    "int[] list = {1, 2, 3, 4, 5}; // any list\n",
    "for (int item : list) { // for each item in the list, execute the body\n",
    "    System.out.println(item); // body code\n",
    "}\n"
   ]
  },
  {
   "cell_type": "markdown",
   "metadata": {},
   "source": [
    "### While Loop"
   ]
  },
  {
   "cell_type": "code",
   "execution_count": 15,
   "metadata": {
    "vscode": {
     "languageId": "java"
    }
   },
   "outputs": [
    {
     "name": "stdout",
     "output_type": "stream",
     "text": [
      "0\n",
      "1\n",
      "2\n",
      "3\n",
      "4\n"
     ]
    }
   ],
   "source": [
    "int index = 0; // iterating value\n",
    "while (index < 5) { // condition, if this is false, the loop terminates\n",
    "    System.out.println(index); // body code\n",
    "    index++; // iterates the iterating value\n",
    "}\n"
   ]
  },
  {
   "cell_type": "markdown",
   "metadata": {},
   "source": [
    "### Do While Loop: (Makes sure to run the while loop AT LEAST one time)"
   ]
  },
  {
   "cell_type": "code",
   "execution_count": 16,
   "metadata": {
    "vscode": {
     "languageId": "java"
    }
   },
   "outputs": [
    {
     "name": "stdout",
     "output_type": "stream",
     "text": [
      "0\n",
      "1\n",
      "2\n",
      "3\n",
      "4\n"
     ]
    }
   ],
   "source": [
    "int i = 0; // iterating value\n",
    "do { // this makes sure the code runs at least once\n",
    "    System.out.println(i); // body code\n",
    "    i++; // iterates the iterating value\n",
    "} while (i < 5); // condition, if this is false, loop terminates\n",
    "\n",
    "\n"
   ]
  },
  {
   "cell_type": "markdown",
   "metadata": {},
   "source": [
    "## Hacks (Test Your Knowledge!)\n"
   ]
  },
  {
   "cell_type": "markdown",
   "metadata": {},
   "source": [
    "### While Loop Hack"
   ]
  },
  {
   "cell_type": "markdown",
   "metadata": {},
   "source": [
    "Palindromes are numbers that have the same value when reversed (ex: “123321” or “323”). \n",
    "\n",
    "Create a program that outputs all palindromes in any given list. test_list = [5672, 235, 5537, 6032, 317, 8460, 1672, 8104, 7770, 4442, 913, 2508, 1116, 9969, 9091, 522, 8756, 9527, 7968, 1520, 4444, 515, 2882, 6556, 595]\n",
    "Answer: 4444, 515, 2882, 6556, and 595\n"
   ]
  },
  {
   "cell_type": "code",
   "execution_count": null,
   "metadata": {
    "vscode": {
     "languageId": "java"
    }
   },
   "outputs": [],
   "source": []
  },
  {
   "cell_type": "markdown",
   "metadata": {},
   "source": [
    "### Awesome hack 👍\n",
    "## Find and fix the missing increment in the while loop.:\n"
   ]
  },
  {
   "cell_type": "code",
   "execution_count": 17,
   "metadata": {
    "vscode": {
     "languageId": "java"
    }
   },
   "outputs": [],
   "source": [
    "public class LoopDemo {\n",
    "    public static void main(String[] args) {\n",
    "        // For Loop\n",
    "        for (int i = 0; i < 5; i++) {\n",
    "            System.out.println(i);\n",
    "        }\n",
    "        \n",
    "        // For Each Loop\n",
    "        int[] numbers = {1, 2, 3, 4, 5};\n",
    "        for (int num : numbers) {\n",
    "            System.out.println(num);\n",
    "        }\n",
    "        \n",
    "        // While Loop\n",
    "        int i = 0;\n",
    "        while (i < 5) {\n",
    "            System.out.println(i);\n",
    "            // Oops! Missing increment, i++;\n",
    "        }\n",
    "        \n",
    "        // Do While Loop\n",
    "        int j = 0;\n",
    "        do {\n",
    "            System.out.println(j);\n",
    "            j++;\n",
    "        } while (j < 5);\n",
    "    }\n",
    "}\n"
   ]
  },
  {
   "cell_type": "markdown",
   "metadata": {},
   "source": [
    "#### The goal is to count how many numbers between 1 and 50 are divisible by 3 or 5, \n",
    "#### calculate the sum of those numbers, and store those numbers in a list.\n"
   ]
  },
  {
   "cell_type": "markdown",
   "metadata": {},
   "source": [
    "## Extra Credit Bonus Hack 🎉🎉🎉🎉🎉🎉🎉🎉🎉🎉🎉🎉🎉 for over 90%:\n"
   ]
  },
  {
   "cell_type": "markdown",
   "metadata": {},
   "source": [
    "### Use a for loop to output a spiral matrix with size n\n",
    "For example:\n",
    "Input: n=3\n",
    "Output: [[1, 2, 3], \n",
    "   [8, 9, 4], \n",
    "   [7, 6, 5]]\n",
    "dont use chatgpt and include comments or it doesnt count\n"
   ]
  },
  {
   "cell_type": "markdown",
   "metadata": {},
   "source": []
  },
  {
   "cell_type": "code",
   "execution_count": 29,
   "metadata": {
    "vscode": {
     "languageId": "java"
    }
   },
   "outputs": [],
   "source": [
    "public class InvertedNumberTriangle {\n",
    "    public static void main(String[] args) {\n",
    "        int rows = 5; // Hardcoded value\n",
    "        \n",
    "        for (int i = rows; i >= 1; i--) {\n",
    "            for (int j = 1; j <= i; j++) {\n",
    "                System.out.println(j); // Debugging: print each number on a new line\n",
    "            }\n",
    "            System.out.println(); // Move to the next row\n",
    "        }\n",
    "    }\n",
    "}\n"
   ]
  },
  {
   "cell_type": "markdown",
   "metadata": {},
   "source": [
    "<img width=\"506\" alt=\"Screenshot 2024-09-18 at 22 38 42\" src=\"https://github.com/user-attachments/assets/f27ede0f-142d-407a-979f-c2d5e03d9d25\">\n"
   ]
  },
  {
   "cell_type": "code",
   "execution_count": 4,
   "metadata": {
    "vscode": {
     "languageId": "java"
    }
   },
   "outputs": [
    {
     "name": "stdout",
     "output_type": "stream",
     "text": [
      "The count of numbers divisible by 3 or 5 between 1 and 50 is: 23\n",
      "The sum of those numbers is: 593\n",
      "The average of those numbers is: 25.782608695652176\n",
      "The numbers divisible by 3 or 5 are: [3, 5, 6, 9, 10, 12, 15, 18, 20, 21, 24, 25, 27, 30, 33, 35, 36, 39, 40, 42, 45, 48, 50]\n"
     ]
    }
   ],
   "source": [
    "\n",
    "    int count = 0;\n",
    "    int totalSum = 0;\n",
    "    ArrayList<Integer> divisibleNumbers = new ArrayList<>();\n",
    "    // Iterate over numbers from 1 to 50\n",
    "    for (int i = 1; i <= 50; i++) {\n",
    "        if (i % 3 == 0 || i % 5 == 0) {\n",
    "            count++;\n",
    "            totalSum += i;\n",
    "            divisibleNumbers.add(i);\n",
    "        }\n",
    "    }\n",
    "    // Now, calculate the average of those divisible numbers\n",
    "    double average = (count > 0) ? (double) totalSum / count : 0;  // Handles division by zero case\n",
    "    System.out.println(\"The count of numbers divisible by 3 or 5 between 1 and 50 is: \" + count);\n",
    "    System.out.println(\"The sum of those numbers is: \" + totalSum);\n",
    "    System.out.println(\"The average of those numbers is: \" + average);\n",
    "    System.out.println(\"The numbers divisible by 3 or 5 are: \" + divisibleNumbers);\n"
   ]
  },
  {
   "cell_type": "code",
   "execution_count": 39,
   "metadata": {
    "vscode": {
     "languageId": "java"
    }
   },
   "outputs": [
    {
     "name": "stdout",
     "output_type": "stream",
     "text": [
      "Outer loop iteration: 1\n",
      "    Inner loop iteration: 1\n",
      "    Inner loop iteration: 2\n",
      "    Inner loop iteration: 3\n",
      "Outer loop iteration: 2\n",
      "    Inner loop iteration: 1\n",
      "    Inner loop iteration: 2\n",
      "    Inner loop iteration: 3\n",
      "Outer loop iteration: 3\n",
      "    Inner loop iteration: 1\n",
      "    Inner loop iteration: 2\n",
      "    Inner loop iteration: 3\n"
     ]
    }
   ],
   "source": [
    "for (int i = 1; i <= 3; i++) { // Outer loop\n",
    "    System.out.println(\"Outer loop iteration: \" + i);\n",
    "    for (int j = 1; j <= 3; j++) { // Inner loop\n",
    "        System.out.println(\"    Inner loop iteration: \" + j);\n",
    "        }\n",
    "    }\n",
    "\n"
   ]
  },
  {
   "cell_type": "markdown",
   "metadata": {},
   "source": [
    "<img width=\"493\" alt=\"Screenshot 2024-09-18 at 22 41 09\" src=\"https://github.com/user-attachments/assets/0e6a6c73-1580-4001-8f99-cae02dea8a4d\">"
   ]
  },
  {
   "cell_type": "code",
   "execution_count": null,
   "metadata": {
    "vscode": {
     "languageId": "java"
    }
   },
   "outputs": [],
   "source": []
  },
  {
   "cell_type": "markdown",
   "metadata": {},
   "source": [
    "<img width=\"500\" alt=\"Screenshot 2024-09-18 at 22 39 11\" src=\"https://github.com/user-attachments/assets/cde5e58f-f3db-4cd7-bccb-3d21d6e52615\">"
   ]
  },
  {
   "cell_type": "code",
   "execution_count": null,
   "metadata": {
    "vscode": {
     "languageId": "java"
    }
   },
   "outputs": [],
   "source": []
  }
 ],
 "metadata": {
  "kernelspec": {
   "display_name": "java (IJava/j!)",
   "language": "java",
   "name": "jbang-ijava"
  },
  "language_info": {
   "codemirror_mode": "java",
   "file_extension": ".jshell",
   "mimetype": "text/x-java-source",
   "name": "Java",
   "pygments_lexer": "java",
   "version": "17.0.12+8-LTS-286"
  }
 },
 "nbformat": 4,
 "nbformat_minor": 2
}
