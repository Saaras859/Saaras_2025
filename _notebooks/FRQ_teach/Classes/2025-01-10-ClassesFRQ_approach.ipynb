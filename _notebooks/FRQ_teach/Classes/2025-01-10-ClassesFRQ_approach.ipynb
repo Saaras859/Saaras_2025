{
 "cells": [
  {
   "cell_type": "markdown",
   "metadata": {},
   "source": [
    "---\n",
    "layout: post\n",
    "toc: true\n",
    "title: FRQ Teaching | Classes | Approach\n",
    "description: Lesson for class FRQs\n",
    "categories: [AP CSA]\n",
    "menu: nav/FRQ_teach/p1-classes.html\n",
    "author: Ian Wu, Trevor Huang, Alisha Hussain\n",
    "permalink: /csa/p1-frq-classes/approach\n",
    "---"
   ]
  },
  {
   "cell_type": "markdown",
   "metadata": {},
   "source": [
    "# The Problem - 2024 FRQ #2\n",
    "\n",
    "![Problem Text](../../images/FRQ_teach/image.png)\n",
    "![Sample Problem Code](../../images/FRQ_teach/image-1.png)"
   ]
  },
  {
   "cell_type": "markdown",
   "metadata": {},
   "source": [
    "# 0 - Penalties\n",
    "\n",
    "These are ways to lose points. They apply to all kinds of FRQs, not just classes-related ones. Do not do these things!!\n",
    "\n",
    "---\n",
    "\n",
    "## 1. Array/Collection Access Confusion (`[]` vs `get`)\n",
    "\n",
    "**Explanation**  \n",
    "This penalty is applied when there is confusion between accessing elements in arrays and collections:\n",
    "\n",
    "```java\n",
    "int[] arr = {1, 2, 3};\n",
    "System.out.println(arr[1]); // Correct for arrays\n",
    "\n",
    "ArrayList<Integer> list = new ArrayList<>();\n",
    "list.add(10);\n",
    "System.out.println(list[0]); // Incorrect: should use list.get(0)\n",
    "```\n",
    "\n",
    "## 2. Extraneous Code That Causes Side Effects\n",
    "\n",
    "**Explanation**  \n",
    "This penalty is given for including unnecessary code that impacts the program's behavior, often unintentionally. For example:\n",
    "\n",
    "```java\n",
    "public int addNumbers(int a, int b) {\n",
    "    System.out.println(\"Adding numbers...\"); // Side-effect: unnecessary printing\n",
    "    return a + b;\n",
    "}\n",
    "```\n",
    "\n",
    "## 3. Local Variables Used but None Declared\n",
    "\n",
    "**Explanation**  \n",
    "This penalty is for using local variables in a method or block without declaring them:\n",
    "\n",
    "```java\n",
    "public int calculateSum() {\n",
    "    total += 5; // Incorrect: 'total' is used but not declared\n",
    "    int total = 0; // This declaration should come first\n",
    "    total += 5; // Correct\n",
    "    return total;\n",
    "}\n",
    "```\n",
    "\n",
    "## 4. Destruction of Persistent Data\n",
    "\n",
    "**Explanation**  \n",
    "This deduction is for modifying data in a way that unintentionally alters persistent values (like those referenced by parameters):\n",
    "\n",
    "```java\n",
    "public void changeName(StringBuilder name) {\n",
    "    name.append(\" Smith\"); // Modifies the original object unintentionally\n",
    "}\n",
    "StringBuilder studentName = new StringBuilder(\"John\");\n",
    "changeName(studentName);\n",
    "System.out.println(studentName); // Output: \"John Smith\" (persistent data altered)\n",
    "```\n",
    "\n",
    "## 5. Void Method or Constructor That Returns a Value\n",
    "\n",
    "**Explanation**  \n",
    "This deduction is for attempting to return a value from a method or constructor declared void:\n",
    "\n",
    "```java\n",
    "public void printMessage() {\n",
    "    return \"Hello\"; // Incorrect: void methods cannot return a value\n",
    "}\n",
    "\n",
    "public class MyClass {\n",
    "    public MyClass() {\n",
    "        return; // Correct: constructors can return nothing implicitly\n",
    "    }\n",
    "}\n",
    "```\n"
   ]
  },
  {
   "cell_type": "markdown",
   "metadata": {},
   "source": [
    "# I - The Free Points\n",
    "4 points that you should get, even if you have no idea how to code.\n",
    "\n",
    "#### Point 1\n",
    "Declares class header: class Scoreboard\n",
    "\n",
    " - Do NOT forget public\n",
    " - Do NOT write the name wrong"
   ]
  },
  {
   "cell_type": "code",
   "execution_count": null,
   "metadata": {
    "vscode": {
     "languageId": "java"
    }
   },
   "outputs": [],
   "source": [
    "public class Scoreboard {\n",
    "    \n",
    "}"
   ]
  },
  {
   "cell_type": "markdown",
   "metadata": {},
   "source": [
    "#### Point 2\n",
    "Declares at least one private String instance variable and one private int instance variable\n",
    "\n",
    "###### Figuring out variables\n",
    " - Identify what is fed into construction. Create variables for those.\n",
    " - Identify what is being returned by the methods\n",
    "     - If it can be constructed from already existing variables, no need to create mote\n",
    "     - In this case, it would be easier to store integer variables rather than using casting and substrings to modify an output string\n",
    "     - Identify any other variable you might need. This can be done later. In this case, we need a variable to identify whose turn it is"
   ]
  },
  {
   "cell_type": "code",
   "execution_count": null,
   "metadata": {
    "vscode": {
     "languageId": "java"
    }
   },
   "outputs": [],
   "source": [
    "public class Scoreboard {\n",
    "    private String Team1;\n",
    "    private String Team2;\n",
    "    private int turn;\n",
    "    private int score1;\n",
    "    private int score2;\n",
    "}"
   ]
  },
  {
   "cell_type": "markdown",
   "metadata": {},
   "source": [
    "#### Point 3\n",
    "Declares constructor header: Scoreboard(String ___,  String ___) and constructor initializes both team name instance variables using parameters\n",
    "\n",
    "- Identify what the constructor takes in\n",
    "- Assign variables appropriately\n",
    "- Make sure your constructure is PUBLIC"
   ]
  },
  {
   "cell_type": "code",
   "execution_count": null,
   "metadata": {
    "vscode": {
     "languageId": "java"
    }
   },
   "outputs": [],
   "source": [
    "public class Scoreboard {\n",
    "   private String Team1;\n",
    "   private String Team2;\n",
    "   private int turn;\n",
    "   private int score1;\n",
    "   private int score2;\n",
    "\n",
    "   public Scoreboard(String team1, String team2) { \n",
    "      this.Team1 = team1; \n",
    "      this.Team2 = team2; \n",
    "      this.whoseTurn = 1; \n",
    "      this.score1 = 0; \n",
    "      this.score2 = 0; \n",
    "   }\n",
    "}"
   ]
  },
  {
   "cell_type": "markdown",
   "metadata": {
    "vscode": {
     "languageId": "java"
    }
   },
   "source": [
    "#### Point 4\n",
    "Declares method headers: `public void recordPlay(int ___)` and `public String getScore()`\n",
    "\n",
    "- Do not mess up the names\n",
    "- Do not mess up the return types or argument types. These are given in the specifications"
   ]
  },
  {
   "cell_type": "code",
   "execution_count": null,
   "metadata": {
    "vscode": {
     "languageId": "java"
    }
   },
   "outputs": [],
   "source": [
    "public class Scoreboard {\n",
    "    private String Team1;\n",
    "    private String Team2;\n",
    "    private int turn;\n",
    "    private int score1;\n",
    "    private int score2;\n",
    " \n",
    "    public Scoreboard(String team1, String team2) { \n",
    "       this.Team1 = team1; \n",
    "       this.Team2 = team2; \n",
    "       this.whoseTurn = 1; \n",
    "       this.score1 = 0; \n",
    "       this.score2 = 0; \n",
    "    }\n",
    "\n",
    "    public void recordPlay(int points) {\n",
    "        \n",
    "    }\n",
    "\n",
    "    public String getScore() {\n",
    "        \n",
    "    }\n",
    " }"
   ]
  },
  {
   "cell_type": "markdown",
   "metadata": {},
   "source": [
    "# II - Rest of the Problem\n",
    "Two methods to create, getScore is just returning a String, while recordPlay has the algorithm. Hence, recordPlay is worth more points, 4, whereas getScore is only worth 1.\n",
    "\n",
    "#### Point 5\n",
    "Accessor method builds and returns specified string (algorithm)\n",
    "\n",
    "- Build string to return from current variables\n",
    "- Always score 1 + \"-\" + score 2 + \"-\"\n",
    "- Team's name depends on whose turn --> if statement"
   ]
  },
  {
   "cell_type": "code",
   "execution_count": null,
   "metadata": {
    "vscode": {
     "languageId": "java"
    }
   },
   "outputs": [],
   "source": [
    "public class Scoreboard {\n",
    "    private String team1;\n",
    "    private String team2;\n",
    "    private int turn;\n",
    "    private int score1;\n",
    "    private int score2;\n",
    " \n",
    "    public Scoreboard(String team1, String team2) { \n",
    "       this.team1 = team1; \n",
    "       this.team2 = team2; \n",
    "       this.turn = 1; \n",
    "       this.score1 = 0; \n",
    "       this.score2 = 0; \n",
    "    }\n",
    "\n",
    "    public void recordPlay(int points) {\n",
    "        \n",
    "    }\n",
    "\n",
    "    public String getScore() {\n",
    "        String result = this.score1 + \"-\" + this.score2 + \"-\"; \n",
    "        if (this.turn == 1) { \n",
    "            result += this.team1; \n",
    "        } else { \n",
    "            result += this.team2; \n",
    "        } \n",
    "        return result;\n",
    "    }\n",
    " }"
   ]
  },
  {
   "cell_type": "markdown",
   "metadata": {},
   "source": [
    "#### The rest - recordPlay\n",
    "- Consider Outcomes:\n",
    "    - turn changes: occurs if points is 0\n",
    "    - score is incremented: occurs if points is not 0\n",
    "\n",
    "Issue with the above:\n",
    " - depending on the turn, a different variable is incremented --> if statement\n",
    " - turn will change to different person depending on existing turn --> if statement"
   ]
  },
  {
   "cell_type": "code",
   "execution_count": 10,
   "metadata": {
    "vscode": {
     "languageId": "java"
    }
   },
   "outputs": [],
   "source": [
    "public class Scoreboard {\n",
    "    private String team1;\n",
    "    private String team2;\n",
    "    private int turn;\n",
    "    private int score1;\n",
    "    private int score2;\n",
    " \n",
    "    public Scoreboard(String team1, String team2) { \n",
    "        this.team1 = team1; \n",
    "        this.team2 = team2; \n",
    "        this.turn = 1; \n",
    "        this.score1 = 0; \n",
    "        this.score2 = 0; \n",
    "    }\n",
    "\n",
    "    public void recordPlay(int points) {\n",
    "        if (points == 0) { \n",
    "            if (this.turn == 1) { \n",
    "                this.turn = 2; \n",
    "            } else { \n",
    "                this.turn = 1; \n",
    "            } \n",
    "        } else { \n",
    "            if (this.turn == 1) { \n",
    "                this.score1 += points; \n",
    "            } else { \n",
    "                this.score2 += points; \n",
    "            } \n",
    "        }\n",
    "    }\n",
    "\n",
    "    public String getScore() {\n",
    "        String result = this.score1 + \"-\" + this.score2 + \"-\"; \n",
    "        if (this.turn == 1) { \n",
    "            result += this.team1; \n",
    "        } else { \n",
    "            result += this.team2; \n",
    "        } \n",
    "        return result;\n",
    "    }\n",
    "}"
   ]
  },
  {
   "cell_type": "markdown",
   "metadata": {},
   "source": [
    "# Key Takeaways/Tips & Tricks\n",
    "1. Always start off with getting your easy points. You can get up to 4 points without understanding what the question is asking you at all. These points include declaring your class header, declaring private instance variables, \n",
    "2. Read the requirements carefully. For example, when the question stated that the `recordPlay` method does not return a value, this means that its method signature needs to be `public void`.\n",
    "3. **Use the table.** In classes related FRQs, there is no code given. You need to use what is expected based on the outputs of the table and explanations to write all the code yourself. I would highly recommend reading through everything before starting.\n",
    "4. Follow all instructions. Luckily the classes FRQ is generally the most straightforward out of all FRQs given during the test. From what I've seen so far, there are no real trick questions like the MCQ. You are graded on how well you followed the instructions given to you."
   ]
  }
 ],
 "metadata": {
  "kernelspec": {
   "display_name": "Java",
   "language": "java",
   "name": "java"
  },
  "language_info": {
   "codemirror_mode": "java",
   "file_extension": ".jshell",
   "mimetype": "text/x-java-source",
   "name": "Java",
   "pygments_lexer": "java",
   "version": "17.0.12+7-Ubuntu-1ubuntu222.04"
  }
 },
 "nbformat": 4,
 "nbformat_minor": 2
}
