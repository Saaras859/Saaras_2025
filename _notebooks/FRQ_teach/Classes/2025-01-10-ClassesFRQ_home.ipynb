{
 "cells": [
  {
   "cell_type": "markdown",
   "metadata": {},
   "source": [
    "---\n",
    "layout: post\n",
    "toc: true\n",
    "title: FRQ Teaching | Classes | Home\n",
    "description: Lesson for class FRQs\n",
    "categories: [AP CSA]\n",
    "courses: { csa: {week: 17} }\n",
    "type: ccc\n",
    "menu: nav/FRQ_teach/p1-classes.html\n",
    "author: Ian Wu, Trevor Huang, Alisha Hussain\n",
    "permalink: /csa/p1-frq-classes/home\n",
    "---"
   ]
  },
  {
   "cell_type": "markdown",
   "metadata": {},
   "source": [
    "# Intro/Review\n",
    "## What Are Classes in Java?\n",
    "### Definition: A class is a blueprint for creating objects. It encapsulates data (fields) and behaviors (methods).\n",
    "1. Why Are Classes Important?\n",
    "  - Organize code into reusable, modular units.\n",
    "  - Support Object-Oriented Programming (OOP) principles:\n",
    "  - Encapsulation: Keep data safe by hiding it.\n",
    "  - Abstraction: Simplify complex systems.\n",
    "  - Inheritance: Reuse code.\n",
    "  - Polymorphism: Make programs more flexible and scalable.\n",
    "2. Components of a Class\n",
    "- Fields (Attributes): Variables that represent the state of the object.\n",
    "- Methods: Functions that define the object’s behavior.\n",
    "- Constructors: Special methods to initialize objects.\n",
    "- Access Modifiers: Define how fields and methods can be accessed (private, public, protected).\n",
    "  - Levels of Access:\n",
    "    - private: Accessible only within the class.\n",
    "    - public: Accessible anywhere.\n",
    "    - protected: Accessible within the package and subclasses.\n",
    "    - Default (no modifier): Accessible within the package."
   ]
  },
  {
   "cell_type": "code",
   "execution_count": null,
   "metadata": {
    "vscode": {
     "languageId": "java"
    }
   },
   "outputs": [],
   "source": [
    "public class Book {\n",
    "    // Private Fields (encapsulation)\n",
    "    private String title;\n",
    "    private String author;\n",
    "    private int pages;\n",
    "\n",
    "    // Constructor\n",
    "    public Book(String title, String author, int pages) {\n",
    "        this.title = title;\n",
    "        this.author = author;\n",
    "        this.pages = pages;\n",
    "    }\n",
    "\n",
    "    // Accessor Methods (Getters)\n",
    "    public String getTitle() {\n",
    "        return title;\n",
    "    }\n",
    "\n",
    "    public String getAuthor() {\n",
    "        return author;\n",
    "    }\n",
    "\n",
    "    // Mutator Methods (Setters)\n",
    "    public void setPages(int pages) {\n",
    "        if (pages > 0) {\n",
    "            this.pages = pages;\n",
    "        } else {\n",
    "            System.out.println(\"Invalid page count.\");\n",
    "        }\n",
    "    }\n",
    "\n",
    "    // Method\n",
    "    public void displayInfo() {\n",
    "        System.out.println(\"Book: \" + title + \" by \" + author + \", Pages: \" + pages);\n",
    "    }\n",
    "}\n"
   ]
  },
  {
   "cell_type": "markdown",
   "metadata": {},
   "source": [
    "## Object Oriented Programming Principles\n",
    "- **encapsulate**: Keep fields private, provide controlled access using getters and setters (ex. book class)\n",
    "- **Inheritance**: Allow a new class (subclass) to inherit from an existing class (superclass)\n",
    "- **Polymorphism**: The ability to use the same method name in different contexts.\n",
    "  - Method **Overloading**: Same method name, different parameter lists.\n",
    "  - Method **Overriding**: Subclass provides a specific implementation of a method from the superclass."
   ]
  },
  {
   "cell_type": "markdown",
   "metadata": {},
   "source": [
    "## During the Exam\n",
    "- Constructors: initialize objects\n",
    "- Static Variables\n",
    "    - Not always given, will need to identify on your own\n",
    "- Methods:\n",
    "    - Names given, code is task. Methods team teach applies here\n",
    "- Levels of Access:\n",
    "    - Will lose points, do not mess up\n"
   ]
  }
 ],
 "metadata": {
  "language_info": {
   "name": "python"
  }
 },
 "nbformat": 4,
 "nbformat_minor": 2
}
