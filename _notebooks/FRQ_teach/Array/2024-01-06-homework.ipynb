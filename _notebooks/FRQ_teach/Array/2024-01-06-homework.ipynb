{
 "cells": [
  {
   "cell_type": "markdown",
   "metadata": {},
   "source": [
    "---\n",
    "layout: post\n",
    "toc: true\n",
    "title: Array/Homework\n",
    "description: AP CSA FRQ Array/Arraylist Homework\n",
    "courses: { csa: {week: 1} }\n",
    "type: ccc\n",
    "categories: [AP CSA]\n",
    "menu: nav/student_toolkit/P3CSATeamTeach/array.html\n",
    "permalink: /teamteach/array/homework\n",
    "---"
   ]
  },
  {
   "cell_type": "markdown",
   "metadata": {},
   "source": [
    "# Homework\n",
    "\n",
    "Write a program that randomly fills in 0s and 1s into an n-by-n matrix, prints the matrix, and finds the rows and columns with the most 1s. (Hint: Use two ArrayLists to store the row and column indices with the most 1s.) \n",
    "\n",
    "Here is a sample run of the program, printed in the console: \n",
    "```\n",
    "Enter the array size n: 4\n",
    "The random array is\n",
    "0011\n",
    "0011\n",
    "1101\n",
    "1010\n",
    "The largest row index: 2\n",
    "The largest column index: 2, 3 \n",
    "```"
   ]
  },
  {
   "cell_type": "code",
   "execution_count": 7,
   "metadata": {
    "vscode": {
     "languageId": "java"
    }
   },
   "outputs": [],
   "source": [
    "import java.util.ArrayList;\n",
    "import java.util.Random;\n",
    "import java.util.Scanner;\n",
    "\n",
    "public class RandomMatrix {\n",
    "\n",
    "    // Function to create a random n-by-n matrix\n",
    "    public static int[][] createRandomMatrix(int n) {\n",
    "        int[][] matrix = new int[n][n];\n",
    "        Random random = new Random();\n",
    "\n",
    "        for (int i = 0; i < n; i++) {\n",
    "            for (int j = 0; j < n; j++) {\n",
    "                matrix[i][j] = random.nextInt(2); // Randomly fills 0 or 1\n",
    "            }\n",
    "        }\n",
    "        return matrix;\n",
    "    }\n",
    "\n",
    "    // Function to find rows with the most 1s\n",
    "    public static ArrayList<Integer> findLargestRowIndices(int[][] matrix) {\n",
    "        ArrayList<Integer> largestRows = new ArrayList<>();\n",
    "        int maxOnes = 0;\n",
    "\n",
    "        for (int i = 0; i < matrix.length; i++) {\n",
    "            int rowSum = 0;\n",
    "            for (int j = 0; j < matrix[i].length; j++) {\n",
    "                rowSum += matrix[i][j];\n",
    "            }\n",
    "\n",
    "            if (rowSum > maxOnes) {\n",
    "                maxOnes = rowSum;\n",
    "                largestRows.clear();\n",
    "                largestRows.add(i);\n",
    "            } else if (rowSum == maxOnes) {\n",
    "                largestRows.add(i);\n",
    "            }\n",
    "        }\n",
    "        return largestRows;\n",
    "    }\n",
    "\n",
    "    // Function to find columns with the most 1s\n",
    "    public static ArrayList<Integer> findLargestColumnIndices(int[][] matrix) {\n",
    "        ArrayList<Integer> largestColumns = new ArrayList<>();\n",
    "        int maxOnes = 0;\n",
    "\n",
    "        for (int j = 0; j < matrix[0].length; j++) {\n",
    "            int colSum = 0;\n",
    "            for (int i = 0; i < matrix.length; i++) {\n",
    "                colSum += matrix[i][j];\n",
    "            }\n",
    "\n",
    "            if (colSum > maxOnes) {\n",
    "                maxOnes = colSum;\n",
    "                largestColumns.clear();\n",
    "                largestColumns.add(j);\n",
    "            } else if (colSum == maxOnes) {\n",
    "                largestColumns.add(j);\n",
    "            }\n",
    "        }\n",
    "        return largestColumns;\n",
    "    }\n",
    "\n",
    "    // Function to print the matrix\n",
    "    public static void printMatrix(int[][] matrix) {\n",
    "        for (int[] row : matrix) {\n",
    "            for (int num : row) {\n",
    "                System.out.print(num);\n",
    "            }\n",
    "            System.out.println();\n",
    "        }\n",
    "    }\n",
    "\n",
    "    // Main function for iJava compatibility\n",
    "    public static void main(String[] args) {\n",
    "        Scanner scanner = new Scanner(System.in);\n",
    "\n",
    "        System.out.print(\"Enter the array size n: \");\n",
    "        int n = scanner.nextInt();\n",
    "\n",
    "        int[][] matrix = createRandomMatrix(n);\n",
    "\n",
    "        System.out.println(\"The random array is\");\n",
    "        printMatrix(matrix);\n",
    "\n",
    "        ArrayList<Integer> largestRows = findLargestRowIndices(matrix);\n",
    "        ArrayList<Integer> largestColumns = findLargestColumnIndices(matrix);\n",
    "\n",
    "        System.out.println(\"The largest row index: \" + largestRows);\n",
    "        System.out.println(\"The largest column index: \" + largestColumns);\n",
    "\n",
    "        scanner.close();\n",
    "    }\n",
    "}\n"
   ]
  },
  {
   "cell_type": "code",
   "execution_count": 8,
   "metadata": {
    "vscode": {
     "languageId": "java"
    }
   },
   "outputs": [
    {
     "name": "stdout",
     "output_type": "stream",
     "text": [
      "0010\n",
      "0111\n",
      "1011\n",
      "1101\n"
     ]
    }
   ],
   "source": [
    "// Create a matrix and store it\n",
    "int[][] matrix = RandomMatrix.createRandomMatrix(4);\n",
    "RandomMatrix.printMatrix(matrix);\n"
   ]
  },
  {
   "cell_type": "code",
   "execution_count": 9,
   "metadata": {
    "vscode": {
     "languageId": "java"
    }
   },
   "outputs": [
    {
     "name": "stdout",
     "output_type": "stream",
     "text": [
      "The largest row index: [1, 2, 3]\n",
      "The largest column index: [2, 3]\n"
     ]
    }
   ],
   "source": [
    "ArrayList<Integer> largestRows = RandomMatrix.findLargestRowIndices(matrix);\n",
    "System.out.println(\"The largest row index: \" + largestRows);\n",
    "ArrayList<Integer> largestColumns = RandomMatrix.findLargestColumnIndices(matrix);\n",
    "System.out.println(\"The largest column index: \" + largestColumns);\n"
   ]
  }
 ],
 "metadata": {
  "kernelspec": {
   "display_name": "java (IJava/j!)",
   "language": "java",
   "name": "jbang-ijava"
  },
  "language_info": {
   "codemirror_mode": "java",
   "file_extension": ".jshell",
   "mimetype": "text/x-java-source",
   "name": "Java",
   "pygments_lexer": "java",
   "version": "17.0.12+8-LTS-286"
  }
 },
 "nbformat": 4,
 "nbformat_minor": 2
}
