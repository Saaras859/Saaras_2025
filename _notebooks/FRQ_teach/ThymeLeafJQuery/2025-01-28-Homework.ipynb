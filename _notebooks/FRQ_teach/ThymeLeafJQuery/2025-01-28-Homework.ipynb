{
 "cells": [
  {
   "cell_type": "markdown",
   "metadata": {},
   "source": [
    "---\n",
    "layout: post\n",
    "toc: true\n",
    "title: JQuery/Thymeleaf Lesson\n",
    "description: Homework for JQuery/Thymeleaf lesson\n",
    "categories: [AP CSA]\n",
    "courses: { csa: {week: 18} }\n",
    "type: ccc\n",
    "menu: nav/FRQ_teach/jquery-thymeleafp3.html\n",
    "author: Akhil, Tarun, Kayden\n",
    "permalink: /period3/jquery-thymeleaf-homework\n",
    "---"
   ]
  },
  {
   "cell_type": "markdown",
   "metadata": {},
   "source": [
    "# Question 1: jQuery - Dynamic Content Update\n",
    "\n",
    "Objective:\n",
    "Use jQuery to dynamically update a p element with user input from an input field when a button is clicked."
   ]
  },
  {
   "cell_type": "markdown",
   "metadata": {},
   "source": [
    "// THIS CODE IS AKHIL APROVED HE LOOKED THROUGH THIS IN THEORY WOULD WORK I CANT DO BECAUSE OF ERRORS\n",
    "\n",
    "<body>\n",
    "    <input type=\"text\" id=\"userInput\" placeholder=\"Enter text here\">\n",
    "    <button id=\"updateButton\">Update</button>\n",
    "    <p id=\"output\">This text will change</p>\n",
    "    <script>\n",
    "        $(document).ready(function() {\n",
    "            $(\"#updateButton\").click(function() {\n",
    "                var userText = $(\"#userInput\").val();\n",
    "                $(\"#output\").text(userText);\n",
    "            });\n",
    "        });\n",
    "    </script>\n",
    "</body>\n"
   ]
  },
  {
   "cell_type": "markdown",
   "metadata": {
    "vscode": {
     "languageId": "html"
    }
   },
   "source": [
    "<head>\n",
    "    <title>jQuery Dynamic Update</title>\n",
    "    <script src=\"https://code.jquery.com/jquery-3.6.0.min.js\"></script>\n",
    "</head>\n",
    "<body>\n",
    "\n",
    "<script>\n",
    "    $(document).ready(function() {\n",
    "        // TODO: Implement live text update\n",
    "        // TODO: Display character count\n",
    "        // TODO: Show warning if character limit is reached\n",
    "    });\n",
    "</script>"
   ]
  },
  {
   "cell_type": "markdown",
   "metadata": {},
   "source": [
    "# Question 2: Thymeleaf - Displaying a List of Items\n",
    "\n",
    "Objective:\n",
    "Use Thymeleaf to display a list of students stored in a backend Java controller.\n",
    "\n",
    "Info you may need:\n",
    "  - student.getStatus(): Returns True if the student passed, returns False if the student failed\n",
    "  - student.getName(): Returns student name\n",
    "  - student.getGrade(): Returns student grade"
   ]
  },
  {
   "cell_type": "markdown",
   "metadata": {},
   "source": [
    "Akhil Approved on this one"
   ]
  },
  {
   "cell_type": "markdown",
   "metadata": {
    "vscode": {
     "languageId": "html"
    }
   },
   "source": [
    "\n",
    "<title>Student List</title>\n",
    "<style>\n",
    "    .failed {\n",
    "        color: red;\n",
    "        font-weight: bold;\n",
    "    }\n",
    "</style>\n",
    "\n",
    "<h2>Student List</h2>\n",
    "<table border=\"1\">\n",
    "    <thead>\n",
    "        <tr>\n",
    "            <th>Name</th>\n",
    "            <th>Grade</th>\n",
    "            <th>Status</th>\n",
    "        </tr>\n",
    "    </thead>\n",
    "    <tbody>\n",
    "    <tr th:each=\"student : ${students}\">\n",
    "        <td th:text=\"${student.name}\"></td>\n",
    "        <td th:text=\"${student.grade}\"></td>\n",
    "        <td th:text=\"${student.status ? 'Passed' : 'Failed'}\" th:class=\"${!student.status} ? 'failed' : ''\"></td>\n",
    "    </tr>\n",
    "    </tbody>\n",
    "</table>"
   ]
  },
  {
   "cell_type": "markdown",
   "metadata": {},
   "source": [
    "# Bonus Question:\n",
    "\n",
    "Why is Thymeleaf better than creating a regular table? What are any potential pros and cons of Thymeleaf tables?"
   ]
  },
  {
   "cell_type": "markdown",
   "metadata": {},
   "source": [
    "Thymeleaf is better then creating a regular table because its able to update dynamically, whereas regular tables cnanot makingi tmuch easier to utilize, anothe reason why I think thymeleaf is better. Pass in variables into htmls and list and dynamic makes it much easier even though its in javascripts is a lot easier, MOre client side processsing and it requires one request rather then 2 are all very good pros, cons are that it doesnt support custom tags(credit to aadit for teaching me the tech)."
   ]
  }
 ],
 "metadata": {
  "kernelspec": {
   "display_name": "java (IJava/j!)",
   "language": "java",
   "name": "jbang-ijava"
  },
  "language_info": {
   "codemirror_mode": {
    "name": "ipython",
    "version": 3
   },
   "file_extension": ".py",
   "mimetype": "text/x-python",
   "name": "java",
   "nbconvert_exporter": "python",
   "pygments_lexer": "ipython3",
   "version": "3.12.5"
  },
  "orig_nbformat": 4
 },
 "nbformat": 4,
 "nbformat_minor": 2
}
