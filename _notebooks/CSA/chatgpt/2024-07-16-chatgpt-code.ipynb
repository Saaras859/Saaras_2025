{
 "cells": [
  {
   "cell_type": "raw",
   "metadata": {
    "vscode": {
     "languageId": "raw"
    }
   },
   "source": [
    "---\n",
    "layout: post\n",
    "title: 2014 AP CSA MCQ test review\n",
    "description: important docmentation for GPT chatbot\n",
    "type: ccc\n",
    "courses: { csa: {week: 7}  }\n",
    "menu: nav/GPT_overview.html\n",
    "toc: true\n",
    "comments: true\n",
    "permalink: /GPT_overview/chatbot_code\n",
    "---"
   ]
  },
  {
   "cell_type": "markdown",
   "metadata": {},
   "source": [
    "# Explanation\n",
    "\n",
    "![Screenshot 1](https://github.com/user-attachments/assets/8b385cbf-951d-4d1f-b93f-9cd6e14ccb39)\n",
    "\n",
    "Doesn't work in regards to syntax, and if it's less than 0 it will prevent it from outbreaking and breaking out of the loop because we won’t go below 0. And if it’s less than or equal to 0, it will ignore the first element making it **B**.\n",
    "\n",
    "---\n",
    "\n",
    "![Screenshot 2](https://github.com/user-attachments/assets/fa48c762-c902-4dbc-942f-c54c1bed6990)\n",
    "\n",
    "1-2 is \"om,\" and then we go with 3-4 so \"tr,\" and then we end without going out of range, so that it's complete.\n",
    "\n",
    "---\n",
    "\n",
    "![Screenshot 3](https://github.com/user-attachments/assets/f7d928d5-9a88-4757-8522-fa2d396244de)\n",
    "\n",
    "In order to replace `/*expression*/` we are iterating through a loop, so we use `v`, and then we have to call a method, so we do `v.getMileage()`.\n",
    "\n",
    "---\n",
    "\n",
    "![Screenshot 4](https://github.com/user-attachments/assets/7db546db-8f8f-4df7-a659-c91dde6e55ce)\n",
    "\n",
    "Answer **D** is correct because if I just do it normally, then it would replace my current index. So, what I have to do is `k + a1.length` so it doesn’t overlap, unlike how I did it.\n",
    "\n",
    "--- \n",
    "\n",
    "![Screenshot 5](https://github.com/user-attachments/assets/08c1b691-8b4a-456d-b085-c6fe02b2a5af)\n",
    "\n",
    "At point **B**, you need to be greater than 2 because otherwise, it just won’t run.\n",
    "\n",
    "---\n",
    "\n",
    "![Screenshot 6](https://github.com/user-attachments/assets/de09b2d8-e0dd-4cdb-98d4-23f4a4bab7dd)\n",
    "\n",
    "In order to construct, we are using `Point` and then assigning it `x = a` and `y = b`, which we need to do to successfully create a point; otherwise, it will not work.\n",
    "\n",
    "---\n",
    "\n",
    "![Screenshot 7](https://github.com/user-attachments/assets/bdc71350-c10f-403a-9519-8fbc40df8497)\n",
    "\n",
    "We are using `elif` here, so I am incorrect. In order to test evens, we can use 8, and then for odd/non-odd + ede, we can use 9, and for greater than that, we can use 11.\n",
    "\n",
    "---\n",
    "\n",
    "![Screenshot 8](https://github.com/user-attachments/assets/19964577-98f3-48c9-b66e-e80e5a855abe)\n",
    "\n",
    "I misread this—it calls it twice. If we plug in 27, it gives us 9, and then we call it again and get 18 because of `n *= 2`.\n"
   ]
  }
 ],
 "metadata": {
  "kernelspec": {
   "display_name": "java (IJava/j!)",
   "language": "java",
   "name": "jbang-ijava"
  },
  "language_info": {
   "codemirror_mode": "java",
   "file_extension": ".jshell",
   "mimetype": "text/x-java-source",
   "name": "Java",
   "pygments_lexer": "java",
   "version": "17.0.12+7"
  }
 },
 "nbformat": 4,
 "nbformat_minor": 2
}
