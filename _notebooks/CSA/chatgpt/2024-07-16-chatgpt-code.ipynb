{
 "cells": [
  {
   "cell_type": "raw",
   "metadata": {
    "vscode": {
     "languageId": "raw"
    }
   },
   "source": [
    "---\n",
    "layout: post\n",
    "title: GPT chatbot code breakdown\n",
    "description: important docmentation for GPT chatbot\n",
    "type: ccc\n",
    "courses: { csa: {week: 7}  }\n",
    "menu: nav/GPT_overview.html\n",
    "toc: true\n",
    "comments: true\n",
    "permalink: /GPT_overview/chatbot_code\n",
    "---"
   ]
  },
  {
   "cell_type": "markdown",
   "metadata": {},
   "source": [
    "> this part is for developers who want to add features to this chatbot. This code overview will be most helpful if you have gotten the chatbot working and are now working on new features to add."
   ]
  },
  {
   "cell_type": "markdown",
   "metadata": {},
   "source": [
    "# notable frontend code:\n",
    "\n",
    "most frontend code is just for handling the response and formatting it for display on the frontend. There is one method which you should know exists in the frontend though. However \n",
    "you won't need to make any changes likely. This function just handles sending the request to the api. Different endpoints are called by creating new methods which call this method, but pass in a different url."
   ]
  },
  {
   "cell_type": "code",
   "execution_count": 1,
   "metadata": {
    "vscode": {
     "languageId": "java"
    }
   },
   "outputs": [
    {
     "ename": "CompilationException",
     "evalue": "",
     "output_type": "error",
     "traceback": [
      "\u001b[1m\u001b[30m|   \u001b[1m\u001b[30masync function\u001b[0m\u001b[1m\u001b[30m\u001b[41m\u001b[0m\u001b[1m\u001b[30m fetchData(url, method = \"GET\", data = null) {\u001b[0m",
      "\u001b[1m\u001b[31m';' expected\u001b[0m",
      ""
     ]
    }
   ],
   "source": [
    "//in /assets/js/chatbot.js\n",
    "\n",
    "// Function to fetch data from the API\n",
    "async function fetchData(url, method = \"GET\", data = null) {\n",
    "    const options = {\n",
    "      method, // HTTP method (GET, POST, DELETE, etc.)\n",
    "      headers: { \"Content-Type\": \"application/json\" }, // Headers for the request\n",
    "      mode: \"cors\", // Cross-origin resource sharing\n",
    "      cache: \"no-cache\", // No caching\n",
    "      credentials: \"same-origin\", // Same-origin credentials\n",
    "      redirect: \"follow\", // Follow redirects\n",
    "      referrerPolicy: \"no-referrer\", // No referrer policy\n",
    "    };\n",
    "    if (data) options.body = JSON.stringify(data); // Add body data if provided\n",
    "    const response = await fetch(url, options); // Fetch data from the API //:)\n",
    "    if (!response.ok){\n",
    "      const errorMsg = 'AI Bot Error: ' + response.status;\n",
    "      console.log(errorMsg);\n",
    "  \n",
    "      return Promise.reject(errorMsg);\n",
    "    }\n",
    "    console.log(response); // Log the response for debugging\n",
    "    return response.json(); // Return the response text\n",
    "  }\n"
   ]
  },
  {
   "cell_type": "markdown",
   "metadata": {},
   "source": [
    "See how this delete method uses this method, but passes in different parameters:"
   ]
  },
  {
   "cell_type": "code",
   "execution_count": null,
   "metadata": {
    "vscode": {
     "languageId": "java"
    }
   },
   "outputs": [],
   "source": [
    "async function deleteChat(id){\n",
    "  const chats = await fetchData(`${urls.deleteChat}${id}?personid=${elements.personid.value}`, \"DELETE\"); // Send a DELETE request to clear chat history\n",
    "  // it returns the update chat history\n",
    "  // display updated chat history\n",
    "  console.log(chats);\n",
    "  elements.chat.innerHTML = \"\"; // Clear the chat display area\n",
    "  appendMessage(assets.botName, assets.botImg, \"left\", \"Your updated chat history!\", assets.botTitle, \"\", formatDate(new Date())); // Inform the user that the chat history is loaded\n",
    "\n",
    "  chats.forEach(chat => { // Loop through each chat message\n",
    "    console.log(chat);\n",
    "    appendMessage(assets.personName, assets.personImg, \"right\", chat['chatMessage'], assets.personTitle, chat['id'], formatMessageDate(chat['timestamp'])); // Append user's message\n",
    "    appendMessage(assets.botName, assets.botImg, \"left\", chat['chatResponse'], assets.botTitle, chat['id'], formatMessageDate(chat['timestamp'])); // Append bot's response\n",
    "  });\n",
    "  \n",
    "}"
   ]
  },
  {
   "cell_type": "markdown",
   "metadata": {},
   "source": [
    "# backend code\n",
    "\n",
    "The most important file to take note of from the chathistory folder is the AIChatbotController.java. This contains all of the endpoints and the methods associated with them. So if you wanted to add a new backend endpoint for new functionality, you would likely start here with creating the endpoint and method.\n",
    "\n",
    "In the file itself, most of the methods are self explanatory. This method however is incredibly important, so I will go over it here:\n"
   ]
  },
  {
   "cell_type": "code",
   "execution_count": 2,
   "metadata": {
    "vscode": {
     "languageId": "java"
    }
   },
   "outputs": [
    {
     "ename": "CompilationException",
     "evalue": "",
     "output_type": "error",
     "traceback": [
      "\u001b[1m\u001b[30m|   \u001b[1m\u001b[30m@GetMapping(\"/chat\")\u001b[0m",
      "\u001b[1m\u001b[30m|   \u001b[1m\u001b[30mpublic ResponseEntity<?> chat(@RequestParam String message,@RequestParam Long personid) {\u001b[0m",
      "\u001b[1m\u001b[30m|   \u001b[1m\u001b[30m    try {\u001b[0m",
      "\u001b[1m\u001b[30m|   \u001b[1m\u001b[30m        // user sends a message that is sent to chat gpt and a response is returned\u001b[0m",
      "\u001b[1m\u001b[30m|   \u001b[1m\u001b[30m        String response = getResponseFromAI(message);\u001b[0m",
      "\u001b[1m\u001b[30m|   \u001b[1m\u001b[30m        // getResponseFromAI method is used to send actual request.\u001b[0m",
      "\u001b[1m\u001b[30m|   \u001b[1m\u001b[30m        System.out.println(\"Chat: \" + message);\u001b[0m",
      "\u001b[1m\u001b[30m|   \u001b[1m\u001b[30m        System.out.println(\"Response: \" + response);\u001b[0m",
      "\u001b[1m\u001b[30m|   \u001b[1m\u001b[30m        \u001b[0m",
      "\u001b[1m\u001b[30m|   \u001b[1m\u001b[30m        Chat chat = new Chat(message, response, new Date(System.currentTimeMillis()), personid);\u001b[0m",
      "\u001b[1m\u001b[30m|   \u001b[1m\u001b[30m        Chat chatUpdated = chatJpaRepository.save(chat);\u001b[0m",
      "\u001b[1m\u001b[30m|   \u001b[1m\u001b[30m        System.out.println(\"Chat saved in db: \" + chatUpdated.getId());\u001b[0m",
      "\u001b[1m\u001b[30m|   \u001b[1m\u001b[30m        return new ResponseEntity<Chat>(chatUpdated, HttpStatus.OK);\u001b[0m",
      "\u001b[1m\u001b[30m|   \u001b[1m\u001b[30m        //return response\u001b[0m",
      "\u001b[1m\u001b[30m|   \u001b[1m\u001b[30m    } catch (Exception e) {\u001b[0m",
      "\u001b[1m\u001b[30m|   \u001b[1m\u001b[30m        e.printStackTrace();\u001b[0m",
      "\u001b[1m\u001b[30m|   \u001b[1m\u001b[30m        return new ResponseEntity<String>(e.getMessage(), HttpStatus.INTERNAL_SERVER_ERROR);\u001b[0m",
      "\u001b[1m\u001b[30m|   \u001b[1m\u001b[30m    }\u001b[0m",
      "\u001b[1m\u001b[30m|   \u001b[1m\u001b[30m}\u001b[0m",
      "\u001b[1m\u001b[31mUnresolved dependencies:\u001b[0m",
      "\u001b[1m\u001b[31m   - class ResponseEntity\u001b[0m",
      "\u001b[1m\u001b[31m   - class RequestParam\u001b[0m",
      "\u001b[1m\u001b[31m   - class GetMapping\u001b[0m",
      "\u001b[1m\u001b[31m   - method getResponseFromAI(java.lang.String)\u001b[0m",
      "\u001b[1m\u001b[31m   - class Chat\u001b[0m",
      "\u001b[1m\u001b[31m   - variable chatJpaRepository\u001b[0m",
      "\u001b[1m\u001b[31m   - variable HttpStatus\u001b[0m"
     ]
    }
   ],
   "source": [
    "@GetMapping(\"/chat\")\n",
    "public ResponseEntity<?> chat(@RequestParam String message,@RequestParam Long personid) {\n",
    "    try {\n",
    "        // user sends a message that is sent to chat gpt and a response is returned\n",
    "        String response = getResponseFromAI(message);\n",
    "        // getResponseFromAI method is used to send actual request.\n",
    "        System.out.println(\"Chat: \" + message);\n",
    "        System.out.println(\"Response: \" + response);\n",
    "        \n",
    "        Chat chat = new Chat(message, response, new Date(System.currentTimeMillis()), personid);\n",
    "        Chat chatUpdated = chatJpaRepository.save(chat);\n",
    "        System.out.println(\"Chat saved in db: \" + chatUpdated.getId());\n",
    "        return new ResponseEntity<Chat>(chatUpdated, HttpStatus.OK);\n",
    "        //return response\n",
    "    } catch (Exception e) {\n",
    "        e.printStackTrace();\n",
    "        return new ResponseEntity<String>(e.getMessage(), HttpStatus.INTERNAL_SERVER_ERROR);\n",
    "    }\n",
    "}"
   ]
  },
  {
   "cell_type": "markdown",
   "metadata": {},
   "source": [
    "this method is the endpoint which sends the response using the message from the frontend. Look at this function in conjunction with the frontend to understand how it works.\n",
    "\n",
    "If you want to develop new methods, consider looking at other methods and taking inspiration from their implementations."
   ]
  }
 ],
 "metadata": {
  "kernelspec": {
   "display_name": "java (IJava/j!)",
   "language": "java",
   "name": "jbang-ijava"
  },
  "language_info": {
   "codemirror_mode": "java",
   "file_extension": ".jshell",
   "mimetype": "text/x-java-source",
   "name": "Java",
   "pygments_lexer": "java",
   "version": "17.0.12+7"
  }
 },
 "nbformat": 4,
 "nbformat_minor": 2
}
