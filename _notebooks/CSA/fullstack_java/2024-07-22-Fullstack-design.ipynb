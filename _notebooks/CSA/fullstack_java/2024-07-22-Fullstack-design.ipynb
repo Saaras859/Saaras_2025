{
 "cells": [
  {
   "cell_type": "raw",
   "metadata": {
    "vscode": {
     "languageId": "raw"
    }
   },
   "source": [
    "---\n",
    "layout: post\n",
    "title: Design a Fullstack Feature\n",
    "description: Starting the project with brainstorming and visualizing of features is an important step in the development process. This article will introduce you through the design process of a fullstack feature. \n",
    "permalink: /fullstack/java/design\n",
    "menu: nav/fullstack_java.html\n",
    "toc: true\n",
    "comments: true\n",
    "author: Finn Carpenter\n",
    "---"
   ]
  },
  {
   "cell_type": "markdown",
   "metadata": {},
   "source": [
    "## Designing a Full Stack Feature \n",
    "There are a few ways people typically get started with designing a Full Stack application. In a team setting, having an idea and dividing the design into layers helps get everyone on the same page. This process, best tackled collaboratively, allows for flexibility and creativity in implementation, encouraging students to explore various tools and methodologies.  This process is best approached as a back-and-forth dialogue between designers of UI, API enpoints, and Database.\n",
    "\n",
    "### Frontend View Layer, UI\n",
    "Often called User Interface Design or User Experience, this involves visualizing what your frontend will look like and how a user completes a task. A successful visualization design features interactive screens that not only guide users through their tasks but also incorporate thoughtful style elements and themes. \n",
    "\n",
    "### Backend Control Layer, API endpoints\n",
    "An interface design, known as an Application Programming Interface (API), contains endpoints. Each API endpoint describes how frontend requests will be answered by backend responses, providing the connections between presentation and model. To get started, a designer typically begins by defining the basic Create, Read, Update, and Delete (CRUD) API endpoints.\n",
    "\n",
    "### Backend Model Layer, Database\n",
    "Modeling data and creating a database in the Java language often starts by designing Plain Old Java Objects (POJOs). These can initially be defined using a Unified Modeling Language (UML) diagramming tool (e.g., Draw.io). The key concept is to design your data and data relationships, then write your Java POJOs. "
   ]
  },
  {
   "cell_type": "markdown",
   "metadata": {},
   "source": [
    "--- This Document should continue with example designs using User database examples ---"
   ]
  }
 ],
 "metadata": {
  "kernelspec": {
   "display_name": "Java",
   "language": "java",
   "name": "java"
  },
  "language_info": {
   "codemirror_mode": "java",
   "file_extension": ".jshell",
   "mimetype": "text/x-java-source",
   "name": "java",
   "pygments_lexer": "java",
   "version": "17.0.11+0"
  }
 },
 "nbformat": 4,
 "nbformat_minor": 2
}
