{
 "cells": [
  {
   "cell_type": "raw",
   "metadata": {},
   "source": [
    "---\n",
    "layout: post\n",
    "title: Frontend Fullstack Development\n",
    "description: Guide to the backend development of you're feature\n",
    "permalink: /fullstack/java/frontend\n",
    "menu: nav/fullstack_java.html\n",
    "toc: true\n",
    "comments: true\n",
    "author: Finn Carpenter\n",
    "---"
   ]
  },
  {
   "cell_type": "markdown",
   "metadata": {},
   "source": [
    "## HTML Auto-Generation\n",
    "> Coding less == more\n",
    "- Your aim for projects is to make the least amount of static HTML in your projects\n",
    "- 75% of your feature should be created using data fetched from API's\n",
    "- To show you a example, I show you all the code behind displaying my announcements\n",
    "\n",
    "<br>"
   ]
  },
  {
   "cell_type": "code",
   "execution_count": null,
   "metadata": {
    "vscode": {
     "languageId": "html"
    }
   },
   "outputs": [],
   "source": [
    "<!-- The only piece of HTML -->\n",
    " \n",
    "<div class=\"Abox\"></div>\n",
    "\n",
    "\n",
    "<!-- All the JS used to create the rest-->\n",
    "<script>\n",
    "    if (location.hostname === \"localhost\") {\n",
    "            uri = \"http://localhost:8085\";\n",
    "    } else if (location.hostname === \"127.0.0.1\") {\n",
    "            uri = \"http://127.0.0.1:8085\";\n",
    "    } else {\n",
    "            uri = \"https://flask2.nighthawkcodingsociety.com\";\n",
    "    }\n",
    "    \n",
    "    function generateAnnouncements() {\n",
    "      var myHeaders = new Headers();\n",
    "      myHeaders.append(\"Content-Type\", \"application/json\");\n",
    "    \n",
    "      var requestOptions = {\n",
    "        method: 'GET',\n",
    "        headers: myHeaders,\n",
    "        credentials: 'include',\n",
    "        redirect: 'follow'\n",
    "      };\n",
    "        \n",
    "      fetch(\"http://localhost:8085/api/announcements\", requestOptions)\n",
    "        .then(response => response.json())\n",
    "        .then(result => {\n",
    "          result.reverse(); // Reverse the order of announcements\n",
    "          console.log(result);\n",
    "          for (let i = 0; i < result.length; i++) { // Change to '<'\n",
    "            var a = result[i];\n",
    "            createAnnouncement(a.title, a.author, a.tags, a.timestamp, a.body);\n",
    "          }\n",
    "        })\n",
    "        .catch(error => console.log('error', error));\n",
    "    }\n",
    "    \n",
    "    function createAnnouncement(title, author, tags, timestamp, body) {\n",
    "      var location = document.querySelector(\".Abox:last-of-type\"); // Correctly target an element\n",
    "    \n",
    "      // Check if tags is an array; if not, convert it into an array\n",
    "      if (typeof tags === 'string') {\n",
    "        tags = [tags]; // Convert string to array\n",
    "      } else if (!Array.isArray(tags)) {\n",
    "        tags = []; // Default to empty array if tags is not an array\n",
    "      }\n",
    "    \n",
    "      var tagElements = tags.map(tag => `<span class=\"tag\">${tag}</span>`).join(''); // Create tag elements\n",
    "    \n",
    "      var announcement = `\n",
    "        <div id=\"ann\">\n",
    "          <div class=\"announcement-header\">\n",
    "            <h1 class=\"announcement-title\">${title}</h1>\n",
    "            <div class=\"announcement-meta\">\n",
    "              <span class=\"announcement-author\">Author: ${author}</span><br>\n",
    "              <span class=\"announcement-timestamp\">Timestamp: ${timestamp}</span>\n",
    "            </div>\n",
    "          </div>\n",
    "          <p class=\"announcement-body\">${body}</p>\n",
    "          <div class=\"announcement-tags\">\n",
    "            ${tagElements} <!-- Insert the tags here -->\n",
    "          </div>\n",
    "        </div>\n",
    "      `;\n",
    "    \n",
    "      location.insertAdjacentHTML('beforeend', announcement); // Use insertAdjacentHTML to add the announcement\n",
    "    }\n",
    "    \n",
    "    \n",
    "      generateAnnouncements();\n",
    "    </script>"
   ]
  },
  {
   "cell_type": "markdown",
   "metadata": {},
   "source": [
    "## TODO Talk about when to use Static\n",
    "## TODO Talk about creating static in the beginning auto\n",
    "## TODO Talk about JS\n",
    "## TODO Talk about form building\n",
    "## TODO Talk about Fetch and headers"
   ]
  }
 ],
 "metadata": {
  "language_info": {
   "name": "python"
  }
 },
 "nbformat": 4,
 "nbformat_minor": 2
}
