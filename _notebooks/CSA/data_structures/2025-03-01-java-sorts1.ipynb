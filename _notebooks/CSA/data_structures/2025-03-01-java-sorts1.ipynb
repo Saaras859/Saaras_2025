{
 "cells": [
  {
   "attachments": {},
   "cell_type": "raw",
   "metadata": {
    "vscode": {
     "languageId": "raw"
    }
   },
   "source": [
    "---\n",
    "title: Sorts Part 1\n",
    "comments: true\n",
    "layout: post\n",
    "description: Learn and perform Algo Rythmic interpretation of Classes, Queues, performing Sorts.\n",
    "author: John Mortensen\n",
    "type: ccc\n",
    "courses: { csa: {week: 25} }\n",
    "---\n"
   ]
  },
  {
   "attachments": {},
   "cell_type": "markdown",
   "metadata": {},
   "source": [
    "## Algo Rythmics Planning and Coding Week\n",
    "> There is a craze in either Dancing or Algo Rythmic societies to combine Coding and Dancing.  Plus, Computer Science at Del Norte needs a traditional activity (aka Physics Boat races)!!!   You will be first gneraction to perform.  Here are some samples ...\n",
    "- [Bubble-sort with Hungarian (\"Csángó\") folk dance](https://www.youtube.com/watch?v=lyZQPjUT5B4)\n",
    "- [Multiple Sorts](https://www.i-programmer.info/programming/theory/3531-sorting-algorithms-as-dances.html)\n",
    "\n",
    "> This is a two week mini project containing Sorting Code and Algo Rythmic performance of your favorite algorithm.  Have fun and don't be afraid to be creative."
   ]
  },
  {
   "attachments": {},
   "cell_type": "markdown",
   "metadata": {},
   "source": [
    "### Information about Selection Sort, Insertion Sort, Merge Sort\n",
    "> For the AP exam, there are three main sort algorithms you will need to know and be able to use fluently: insertion, merge, and selection sort.\n",
    "\n",
    "-  **Selection Sort** [Lecture on Arrays/ArrayLists](https://apclassroom.collegeboard.org/8/home?apd=c764t0gw1z&unit=7)\n",
    "\n",
    "    Selection sort is a linear sort algorithm as it moves from index [0] to [n-1]. In the inner loop which is a second linear loop it compares two elements (like seen in the visual below) and notes which is smallest, after cycling to the end it swaps the smallest number to beginning position in the round.\n",
    "\n",
    "![](https://www.w3resource.com/w3r_images/selection-short.png)\n",
    "\n",
    "- **Insertion Sort** [Lecture on Arrays/ArrayLists](https://apclassroom.collegeboard.org/8/home?apd=dq1xzt1e35&unit=7) -- [Sample code that Sorts Objects](https://github.com/nighthawkcoders/nighthawk_csa/blob/master/src/main/java/com/nighthawk/csa/utility/LinkedLists/CircleQueue.java#L168-L209)\n",
    "\n",
    "    Insertion sort is another linear algorithm that sorts elements from index [0] to index [n-1].  In the inner loop of this algorithm, it finds the gap, insertion point for the next item and inserts it.  Each inner loop leave the list partially sorted according to outer loops index.\n",
    "\n",
    "![](https://media.geeksforgeeks.org/wp-content/uploads/insertion_sort-recursion.png)\n",
    "\n",
    "- **Merge Sort** [Algorithm part 1](https://apclassroom.collegeboard.org/8/home?apd=14ybgme7em&unit=10), [Algorithm part 2](https://apclassroom.collegeboard.org/8/home?apd=yrqb7lfza1&unit=10)\n",
    "\n",
    "    This algorithm uses a divide and conquer algorithm, versus linear algorithm of insertion or selection sort.  Looking at it can be complicated, but it is more simple than it looks. It divides the array into two different groups recursively, until it gets only two to compare, swaps if necessary.   Then it pops out of the recursion, observe the cascading and then the inverted assembly in illustration, after pop it puts each split group back together using a sorted comparison.  \n",
    "\n",
    "![](https://miro.medium.com/max/661/1*7Kox4Bll0Ddvb0td1tiXsg.png)\n"
   ]
  }
 ],
 "metadata": {
  "kernelspec": {
   "display_name": "Java",
   "language": "java",
   "name": "java"
  },
  "language_info": {
   "name": "java",
   "version": "3.9.12"
  },
  "orig_nbformat": 4,
  "vscode": {
   "interpreter": {
    "hash": "07efb0c17bd1bebb54bd0de05e4d4c769f7a564dddf5b4c65148f358f9195f99"
   }
  }
 },
 "nbformat": 4,
 "nbformat_minor": 2
}
