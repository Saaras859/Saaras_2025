{
 "cells": [
  {
   "cell_type": "markdown",
   "metadata": {},
   "source": [
    "---\n",
    "title: Sorts HW\n",
    "comments: true\n",
    "layout: post\n",
    "description: Learn and perform Algo Rythmic interpretation of Classes, Queues, performing Sorts.\n",
    "author: Saaras Kodali\n",
    "type: ccc\n",
    "courses: { csa: {week: 25} }\n",
    "---\n"
   ]
  },
  {
   "cell_type": "code",
   "execution_count": 2,
   "metadata": {
    "vscode": {
     "languageId": "java"
    }
   },
   "outputs": [
    {
     "name": "stdout",
     "output_type": "stream",
     "text": [
      "Initial array:\n",
      "42 17 29 8 35 \n",
      "\n",
      "Step 1: Insert 17\n",
      "42 42 29 8 35 \n",
      "17 42 29 8 35 \n",
      "\n",
      "Step 2: Insert 29\n",
      "17 42 42 8 35 \n",
      "17 29 42 8 35 \n",
      "\n",
      "Step 3: Insert 8\n",
      "17 29 42 42 35 \n",
      "17 29 29 42 35 \n",
      "17 17 29 42 35 \n",
      "8 17 29 42 35 \n",
      "\n",
      "Step 4: Insert 35\n",
      "8 17 29 42 42 \n",
      "8 17 29 35 42 \n",
      "\n",
      "Sorted array:\n",
      "8 17 29 35 42 \n",
      "Total comparisons: 8\n",
      "Total swaps: 6\n",
      "Best-case time complexity: O(n)\n",
      "Worst-case time complexity: O(n^2)\n"
     ]
    }
   ],
   "source": [
    "public class InsertionSortDemo {\n",
    "    public static void insertionSort(int[] arr) {\n",
    "        int n = arr.length;\n",
    "        int comparisons = 0;\n",
    "        int swaps = 0;\n",
    "\n",
    "        System.out.println(\"Initial array:\");\n",
    "        printArray(arr);\n",
    "        System.out.println();\n",
    "\n",
    "        for (int i = 1; i < n; i++) {\n",
    "            int key = arr[i];\n",
    "            int j = i - 1;\n",
    "\n",
    "            System.out.println(\"Step \" + i + \": Insert \" + key);\n",
    "            while (j >= 0 && arr[j] > key) {\n",
    "                comparisons++;\n",
    "                arr[j + 1] = arr[j];\n",
    "                swaps++;\n",
    "                j--;\n",
    "                printArray(arr);\n",
    "            }\n",
    "            if (j >= 0) {\n",
    "                comparisons++; // Count comparison when key is not inserted\n",
    "            }\n",
    "            arr[j + 1] = key;\n",
    "            printArray(arr);\n",
    "            System.out.println();\n",
    "        }\n",
    "\n",
    "        System.out.println(\"Sorted array:\");\n",
    "        printArray(arr);\n",
    "        System.out.println(\"Total comparisons: \" + comparisons);\n",
    "        System.out.println(\"Total swaps: \" + swaps);\n",
    "    }\n",
    "\n",
    "    public static void printArray(int[] arr) {\n",
    "        for (int num : arr) {\n",
    "            System.out.print(num + \" \");\n",
    "        }\n",
    "        System.out.println();\n",
    "    }\n",
    "\n",
    "    public static void main(String[] args) {\n",
    "        int[] arr = {42, 17, 29, 8, 35};\n",
    "        insertionSort(arr);\n",
    "        \n",
    "        // Time complexity analysis\n",
    "        System.out.println(\"Best-case time complexity: O(n)\");\n",
    "        System.out.println(\"Worst-case time complexity: O(n^2)\");\n",
    "    }\n",
    "}\n",
    "InsertionSortDemo.main(new String[0]); // Run the program"
   ]
  }
 ],
 "metadata": {
  "kernelspec": {
   "display_name": "java (IJava/j!)",
   "language": "java",
   "name": "jbang-ijava"
  },
  "language_info": {
   "codemirror_mode": "java",
   "file_extension": ".jshell",
   "mimetype": "text/x-java-source",
   "name": "Java",
   "pygments_lexer": "java",
   "version": "17.0.12+8-LTS-286"
  }
 },
 "nbformat": 4,
 "nbformat_minor": 2
}
