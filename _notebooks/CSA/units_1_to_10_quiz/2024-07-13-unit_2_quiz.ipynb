{
 "cells": [
  {
   "cell_type": "raw",
   "metadata": {
    "vscode": {
     "languageId": "raw"
    }
   },
   "source": [
    "---\n",
    "layout: post\n",
    "title: Quiz Questions for APCSA Unit 2\n",
    "description: Quiz Questions and Code Cells for APCSA Unit 2 \n",
    "categories: [CSA-Quiz]\n",
    "permalink: /csa/units/quiz2\n",
    "menu: nav/CSA_Units/csa_unit2.html\n",
    "author: Soham Kamat & Aniket Chakradeo\n",
    "---"
   ]
  },
  {
   "cell_type": "markdown",
   "metadata": {},
   "source": [
    "## Unit 2: Using Objects Quiz"
   ]
  },
  {
   "cell_type": "markdown",
   "metadata": {},
   "source": [
    "### Question 1\n",
    "**Which method can be used to convert a string to lowercase in Java?**\n",
    "\n",
    "a) `toLowerCase()`\n",
    "\n",
    "b) `lower()`\n",
    "\n",
    "c) `toLower()`\n",
    "\n",
    "d) `toLowerCase(String str)`\n",
    "\n",
    "**Answer:** a) `toLowerCase()`\n",
    "\n",
    "---\n",
    "\n"
   ]
  },
  {
   "cell_type": "code",
   "execution_count": null,
   "metadata": {
    "vscode": {
     "languageId": "java"
    }
   },
   "outputs": [],
   "source": [
    "// Hack Q1,1: comment code (focus on Primitives, Arrays, Objects, and Methods)\n",
    "// Hack Q1,2: make a class with main method to test all the failure cases\n",
    "\n",
    "String[] arr1 = {\"a\", \"b\", \"c\", \"d\"};\n",
    "String[] arr2 = {\"A\", \"B\", \"C\", \"D\"};\n",
    "\n",
    "String msg = \"The arrays are equal\";\n",
    "\n",
    "if (arr1.length != arr2.length) {\n",
    "    msg = \"The arrays are not uniform\";\n",
    "} else {\n",
    "    for (int i = 0; i < arr1.length; i++) {\n",
    "        if (!arr1[i].toLowerCase().equals(arr2[i].toLowerCase())) {\n",
    "            msg = \"The arrays contain differences in elements\";\n",
    "            break;\n",
    "        }\n",
    "    }\n",
    "}\n",
    "\n",
    "System.out.println(msg);\n"
   ]
  },
  {
   "cell_type": "markdown",
   "metadata": {},
   "source": [
    "### Question 2\n",
    "**What is the output of the following code?**\n",
    "\n",
    "```java\n",
    "String s = \"Hello World!\";\n",
    "System.out.println(s.length());\n",
    "```\n",
    "\n",
    "a) `11`\n",
    "\n",
    "b) `12`\n",
    "\n",
    "c) `13`\n",
    "\n",
    "d) `10`\n",
    "\n",
    "Answer: \n",
    "\n",
    "---\n"
   ]
  },
  {
   "cell_type": "code",
   "execution_count": null,
   "metadata": {
    "vscode": {
     "languageId": "java"
    }
   },
   "outputs": [],
   "source": [
    "// Answer Q2\n",
    "// Hack: Prove it with code"
   ]
  },
  {
   "cell_type": "markdown",
   "metadata": {},
   "source": [
    "### Question 3\n",
    "\n",
    "**Which of the following is a correct way to create an instance of the String class?**\n",
    "\n",
    "a) `String s = 'Hello';`\n",
    "\n",
    "b) `String s = new String(\"Hello\");`\n",
    "\n",
    "c) `String s = String(\"Hello\");`\n",
    "\n",
    "d) `String s = Hello;`\n",
    "\n",
    "Answer: \n",
    "\n",
    "---"
   ]
  },
  {
   "cell_type": "code",
   "execution_count": null,
   "metadata": {
    "vscode": {
     "languageId": "java"
    }
   },
   "outputs": [],
   "source": [
    "// Answer Q3, be careful with answer\n",
    "// Hack: Prove it with code"
   ]
  }
 ],
 "metadata": {
  "kernelspec": {
   "display_name": "Java",
   "language": "java",
   "name": "java"
  },
  "language_info": {
   "codemirror_mode": "java",
   "file_extension": ".jshell",
   "mimetype": "text/x-java-source",
   "name": "Java",
   "pygments_lexer": "java",
   "version": "17.0.12+0"
  }
 },
 "nbformat": 4,
 "nbformat_minor": 2
}
