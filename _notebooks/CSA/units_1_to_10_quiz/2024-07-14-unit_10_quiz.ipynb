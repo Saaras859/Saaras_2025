{
 "cells": [
  {
   "cell_type": "raw",
   "metadata": {
    "vscode": {
     "languageId": "raw"
    }
   },
   "source": [
    "---\n",
    "layout: post\n",
    "title: Quiz Questions for APCSA Unit 10\n",
    "description: Questions and Code Cells for the Quiz on Unit 10\n",
    "categories: [CSA-Quiz]\n",
    "permalink: /csa/units/quiz10\n",
    "author: Soham Kamat & Aniket Chakradeo\n",
    "---"
   ]
  },
  {
   "cell_type": "markdown",
   "metadata": {},
   "source": [
    "## Unit 10: Recursion\n",
    "\n",
    "Which of the following is an example of a recursive method?<br>\n",
    "a) A method that calls itself<br>\n",
    "b) A method that calls another method<br>\n",
    "c) A method that runs indefinitely<br>\n",
    "d) A method that returns a value\n",
    "\n",
    "Answer: a) A method that calls itself\n",
    "\n",
    "What is the base case in a recursive method?<br>\n",
    "a) The condition under which the method stops calling itself<br>\n",
    "b) The first call to the recursive method<br>\n",
    "c) The last call to the recursive method<br>\n",
    "d) The condition under which the method calls itself\n",
    "\n",
    "Answer: a) The condition under which the method stops calling itself\n",
    "\n",
    "What will be the output of the following recursive method when called with factorial(3)?\n",
    "```java\n",
    "public int factorial(int n) {\n",
    "    if (n == 0) {\n",
    "        return 1;\n",
    "    }\n",
    "    return n * factorial(n - 1);\n",
    "}\n",
    "```\n",
    "a) 6<br>\n",
    "b) 3<br>\n",
    "c) 0<br>\n",
    "d) 1\n",
    "\n",
    "Answer: a) 6"
   ]
  }
 ],
 "metadata": {
  "language_info": {
   "name": "python"
  }
 },
 "nbformat": 4,
 "nbformat_minor": 2
}
