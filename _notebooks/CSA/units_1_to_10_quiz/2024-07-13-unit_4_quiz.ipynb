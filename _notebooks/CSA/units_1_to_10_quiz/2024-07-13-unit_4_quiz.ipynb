{
 "cells": [
  {
   "cell_type": "raw",
   "metadata": {
    "vscode": {
     "languageId": "raw"
    }
   },
   "source": [
    "---\n",
    "layout: post\n",
    "title: Quiz Questions for APCSA Unit 4\n",
    "description: Questions and Code Cells for the Quiz on Unit 4\n",
    "categories: [CSA-Quiz]\n",
    "permalink: /csa/units/quiz4\n",
    "menu: nav/CSA_Units/csa_unit4.html\n",
    "author: Soham Kamat & Aniket Chakradeo\n",
    "---"
   ]
  },
  {
   "cell_type": "markdown",
   "metadata": {},
   "source": [
    "## Unit 4: Iteration\n",
    "What is the output of the following code?\n",
    "```java\n",
    "for (int i = 0; i < 5; i++) {\n",
    "    System.out.print(i + \" \");\n",
    "}\n",
    "```\n",
    "a) 0 1 2 3 4<br>\n",
    "b) 1 2 3 4 5<br>\n",
    "c) 0 1 2 3 4 5<br>\n",
    "d) 1 2 3 4\n",
    "\n",
    "Answer: a) 0 1 2 3 4\n",
    "\n",
    "How many times will the loop execute?\n",
    "```java\n",
    "int count = 0;\n",
    "while (count < 3) {\n",
    "    count++;\n",
    "}\n",
    "```\n",
    "a) 2<br>\n",
    "b) 3<br>\n",
    "c) 4<br>\n",
    "d) 1\n",
    "\n",
    "Answer: b) 3\n",
    "\n",
    "Which type of loop is guaranteed to execute at least once?<br>\n",
    "a) for<br>\n",
    "b) while<br>\n",
    "c) do-while<br>\n",
    "d) none of the above\n",
    "\n",
    "Answer: c) do-while"
   ]
  }
 ],
 "metadata": {
  "language_info": {
   "name": "python"
  }
 },
 "nbformat": 4,
 "nbformat_minor": 2
}
