{
 "cells": [
  {
   "cell_type": "raw",
   "metadata": {
    "vscode": {
     "languageId": "raw"
    }
   },
   "source": [
    "---\n",
    "layout: post\n",
    "title: Quiz Questions for APCSA Unit 8\n",
    "description: Questions and Code Cells for the Quiz on Unit 8\n",
    "categories: [CSA-Quiz]\n",
    "permalink: /csa/units/quiz8\n",
    "author: Soham Kamat & Aniket Chakradeo\n",
    "---"
   ]
  },
  {
   "cell_type": "markdown",
   "metadata": {},
   "source": [
    "## Unit 8: 2D Array\n",
    "\n",
    "How do you declare a 2D array of integers in Java?<br>\n",
    "a) int[][] array;<br>\n",
    "b) int array[][];<br>\n",
    "c) int[] array[];<br>\n",
    "d) All of the above\n",
    "\n",
    "Answer: d) All of the above\n",
    "\n",
    "What is the output of the following code?\n",
    "```java\n",
    "int[][] arr = { {1, 2}, {3, 4} };\n",
    "System.out.println(arr[1][0]);\n",
    "```\n",
    "a) 1<br>\n",
    "b) 2<br>\n",
    "c) 3<br>\n",
    "d) 4\n",
    "\n",
    "Answer: c) 3\n",
    "\n",
    "Which of the following correctly initializes a 2D array with 3 rows and 4 columns?<br>\n",
    "a) int[][] arr = new int[3][4];<br>\n",
    "b) int[] arr = new int[3][4];<br>\n",
    "c) int[][] arr = new int[4][3];<br>\n",
    "d) int[] arr = new int[4][3];\n",
    "\n",
    "Answer: a) int[][] arr = new int[3][4];"
   ]
  },
  {
   "cell_type": "markdown",
   "metadata": {},
   "source": [
    "## Unit 9: Inheritance\n",
    "Which keyword is used to inherit a class in Java?<br>\n",
    "a) inherits<br>\n",
    "b) extends<br>\n",
    "c) implements<br>\n",
    "d) super\n",
    "\n",
    "Answer: b) extends\n",
    "\n",
    "What is the correct way to call a parent class's constructor in a subclass?<br>\n",
    "a) super();<br>\n",
    "b) parent();<br>\n",
    "c) base();<br>\n",
    "d) this();\n",
    "\n",
    "Answer: a) super();\n",
    "\n",
    "Which of the following statements about inheritance is true?<br>\n",
    "a) A subclass can inherit private members of a superclass.<br>\n",
    "b) A subclass cannot override methods of a superclass.<br>\n",
    "c) A subclass can only have one superclass.<br>\n",
    "d) A subclass must have the same name as the superclass.\n",
    "\n",
    "Answer: c) A subclass can only have one superclass."
   ]
  },
  {
   "cell_type": "markdown",
   "metadata": {},
   "source": [
    "## Unit 10: Recursion\n",
    "\n",
    "Which of the following is an example of a recursive method?<br>\n",
    "a) A method that calls itself<br>\n",
    "b) A method that calls another method<br>\n",
    "c) A method that runs indefinitely<br>\n",
    "d) A method that returns a value\n",
    "\n",
    "Answer: a) A method that calls itself\n",
    "\n",
    "What is the base case in a recursive method?<br>\n",
    "a) The condition under which the method stops calling itself<br>\n",
    "b) The first call to the recursive method<br>\n",
    "c) The last call to the recursive method<br>\n",
    "d) The condition under which the method calls itself\n",
    "\n",
    "Answer: a) The condition under which the method stops calling itself\n",
    "\n",
    "What will be the output of the following recursive method when called with factorial(3)?\n",
    "```java\n",
    "public int factorial(int n) {\n",
    "    if (n == 0) {\n",
    "        return 1;\n",
    "    }\n",
    "    return n * factorial(n - 1);\n",
    "}\n",
    "```\n",
    "a) 6<br>\n",
    "b) 3<br>\n",
    "c) 0<br>\n",
    "d) 1\n",
    "\n",
    "Answer: a) 6"
   ]
  }
 ],
 "metadata": {
  "language_info": {
   "name": "python"
  }
 },
 "nbformat": 4,
 "nbformat_minor": 2
}
