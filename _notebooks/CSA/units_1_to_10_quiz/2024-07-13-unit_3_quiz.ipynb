{
 "cells": [
  {
   "cell_type": "raw",
   "metadata": {
    "vscode": {
     "languageId": "raw"
    }
   },
   "source": [
    "---\n",
    "layout: post\n",
    "title: Quiz Questions for APCSA Unit 3\n",
    "description: Questions and Code Cells for the Quiz on Unit 3\n",
    "categories: [CSA-Quiz]\n",
    "permalink: /csa/units/quiz3\n",
    "menu: nav/CSA_Units/csa_unit3.html\n",
    "author: Soham Kamat & Aniket Chakradeo\n",
    "---"
   ]
  },
  {
   "cell_type": "markdown",
   "metadata": {},
   "source": [
    "## Unit 3: Boolean Expressions and if Statements\n",
    "\n",
    "What will be the output of the following code?\n",
    "```java\n",
    "int x = 10;\n",
    "if (x > 5) {\n",
    "    System.out.println(\"x is greater than 5\");\n",
    "} else {\n",
    "    System.out.println(\"x is not greater than 5\");\n",
    "}\n",
    "```\n",
    "a) x is not greater than 5<br>\n",
    "b) x is greater than 5<br>\n",
    "c) No output<br>\n",
    "d) Compile-time error\n",
    "\n",
    "Answer: b) x is greater than 5\n",
    "\n",
    "What is the result of the boolean expression !(false || true)?<br>\n",
    "a) true<br>\n",
    "b) false<br>\n",
    "c) null<br>\n",
    "d) Compile-time error\n",
    "\n",
    "Answer: b) false\n",
    "\n",
    "Which of the following expressions will evaluate to true?<br>\n",
    "a) (5 > 10) && (3 < 4)<br>\n",
    "b) (5 > 10) || (3 < 4)<br>\n",
    "c) (5 < 10) && (3 > 4)<br>\n",
    "d) (5 < 10) || (3 > 4)\n",
    "\n",
    "Answer: b) (5 > 10) || (3 < 4)"
   ]
  }
 ],
 "metadata": {
  "language_info": {
   "name": "python"
  }
 },
 "nbformat": 4,
 "nbformat_minor": 2
}
