{
 "cells": [
  {
   "cell_type": "raw",
   "metadata": {
    "vscode": {
     "languageId": "raw"
    }
   },
   "source": [
    "---\n",
    "layout: post\n",
    "toc: true\n",
    "title: Unit 3 - Boolean Expressions and if Statements Examples\n",
    "description: Boolean Expressions and if Statements Examples\n",
    "authors: Aniket Chakradeo, Soham Kamat\n",
    "menu: nav/CSA_Units/csa_unit3.html\n",
    "type: ccc\n",
    "permalink: /unit3lessonexamples\n",
    "---"
   ]
  },
  {
   "cell_type": "markdown",
   "metadata": {},
   "source": [
    "## Simple if Statement with Boolean Expression Example"
   ]
  },
  {
   "cell_type": "code",
   "execution_count": null,
   "metadata": {},
   "outputs": [],
   "source": [
    "public class Main {\n",
    "    public static void main(String[] args) {\n",
    "        int age = 18;\n",
    "        \n",
    "        // Check if age is greater than or equal to 18\n",
    "        if (age >= 18) {\n",
    "            System.out.println(\"You are eligible to vote.\");\n",
    "        } else {\n",
    "            System.out.println(\"You are not eligible to vote.\");\n",
    "        }\n",
    "    }\n",
    "}\n",
    "\n",
    "Main.main(null);"
   ]
  },
  {
   "cell_type": "markdown",
   "metadata": {},
   "source": [
    "## Nested if Statements with Complex Boolean Expressions Example"
   ]
  },
  {
   "cell_type": "code",
   "execution_count": null,
   "metadata": {},
   "outputs": [],
   "source": [
    "public class Main {\n",
    "    public static void main(String[] args) {\n",
    "        int score = 85;\n",
    "        boolean hasGoodAttendance = true;\n",
    "\n",
    "        // Check if score is greater than or equal to 90\n",
    "        if (score >= 90) {\n",
    "            System.out.println(\"Grade: A\");\n",
    "        } \n",
    "        // Check if score is between 80 and 89 inclusive\n",
    "        else if (score >= 80 && score < 90) {\n",
    "            // Check for good attendance\n",
    "            if (hasGoodAttendance) {\n",
    "                System.out.println(\"Grade: B+\");\n",
    "            } else {\n",
    "                System.out.println(\"Grade: B\");\n",
    "            }\n",
    "        } \n",
    "        // Check if score is between 70 and 79 inclusive\n",
    "        else if (score >= 70 && score < 80) {\n",
    "            System.out.println(\"Grade: C\");\n",
    "        } \n",
    "        // If score is below 70\n",
    "        else {\n",
    "            System.out.println(\"Grade: F\");\n",
    "        }\n",
    "    }\n",
    "}\n",
    "\n",
    "Main.main(null);"
   ]
  }
 ],
 "metadata": {
  "kernelspec": {
   "display_name": "Java",
   "language": "java",
   "name": "java"
  },
  "language_info": {
   "codemirror_mode": "java",
   "file_extension": ".jshell",
   "mimetype": "text/x-java-source",
   "name": "java",
   "pygments_lexer": "java",
   "version": "19.0.2+7-44"
  }
 },
 "nbformat": 4,
 "nbformat_minor": 2
}
