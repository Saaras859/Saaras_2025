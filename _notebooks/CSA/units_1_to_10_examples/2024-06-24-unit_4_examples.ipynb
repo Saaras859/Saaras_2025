{
 "cells": [
  {
   "cell_type": "raw",
   "metadata": {
    "vscode": {
     "languageId": "raw"
    }
   },
   "source": [
    "---\n",
    "layout: post\n",
    "toc: true\n",
    "title: Unit 4 - Iterations Examples\n",
    "description: Iteration Examples\n",
    "authors: Aniket Chakradeo, Soham Kamat\n",
    "menu: nav/CSA_Units/csa_unit4.html\n",
    "type: ccc\n",
    "permalink: /unit4lessonexamples\n",
    "---"
   ]
  },
  {
   "cell_type": "markdown",
   "metadata": {},
   "source": [
    "## Iterating with a `for` Loop Example"
   ]
  },
  {
   "cell_type": "code",
   "execution_count": null,
   "metadata": {},
   "outputs": [],
   "source": [
    "public class Main {\n",
    "    public static void main(String[] args) {\n",
    "        // An array of integers\n",
    "        int[] numbers = {12, 7, 19, 4, 21, 8, 14};\n",
    "\n",
    "        // Use a for loop to iterate over the array\n",
    "        for (int i = 0; i < numbers.length; i++) {\n",
    "            int number = numbers[i];\n",
    "\n",
    "            // Check if the number is even or odd\n",
    "            if (number % 2 == 0) {\n",
    "                System.out.println(\"Number \" + number + \" is even.\");\n",
    "            } else {\n",
    "                System.out.println(\"Number \" + number + \" is odd.\");\n",
    "            }\n",
    "\n",
    "            // Additional check for numbers greater than 10\n",
    "            if (number > 10) {\n",
    "                System.out.println(\"Number \" + number + \" is greater than 10.\");\n",
    "            } else {\n",
    "                System.out.println(\"Number \" + number + \" is less than or equal to 10.\");\n",
    "            }\n",
    "\n",
    "            // Separator for clarity in the output\n",
    "            System.out.println(\"-----------------------\");\n",
    "        }\n",
    "    }\n",
    "}\n",
    "\n",
    "Main.main(null);"
   ]
  },
  {
   "cell_type": "markdown",
   "metadata": {},
   "source": [
    "## Refrence Types Example"
   ]
  },
  {
   "cell_type": "code",
   "execution_count": null,
   "metadata": {},
   "outputs": [],
   "source": [
    "public class Main {\n",
    "    public static void main(String[] args) {\n",
    "        Scanner scanner = new Scanner(System.in);\n",
    "        int sum = 0;\n",
    "        int count = 0;\n",
    "\n",
    "        // Continue to ask the user for input until they enter a negative number\n",
    "        while (true) {\n",
    "            System.out.print(\"Enter a positive number (or a negative number to stop): \");\n",
    "            int number = scanner.nextInt();\n",
    "\n",
    "            // Check if the entered number is negative\n",
    "            if (number < 0) {\n",
    "                break; // Exit the loop\n",
    "            }\n",
    "\n",
    "            // Accumulate the sum\n",
    "            sum += number;\n",
    "            count++;\n",
    "\n",
    "            // Print the current total\n",
    "            System.out.println(\"Current total sum: \" + sum);\n",
    "        }\n",
    "\n",
    "        // Check if any numbers were entered\n",
    "        if (count > 0) {\n",
    "            System.out.println(\"You entered \" + count + \" numbers. Final sum is: \" + sum);\n",
    "        } else {\n",
    "            System.out.println(\"No positive numbers were entered.\");\n",
    "        }\n",
    "\n",
    "        scanner.close(); // Close the scanner to prevent resource leaks\n",
    "    }\n",
    "}\n",
    "\n",
    "Main.main(null);"
   ]
  }
 ],
 "metadata": {
  "kernelspec": {
   "display_name": "Java",
   "language": "java",
   "name": "java"
  },
  "language_info": {
   "codemirror_mode": "java",
   "file_extension": ".jshell",
   "mimetype": "text/x-java-source",
   "name": "java",
   "pygments_lexer": "java",
   "version": "19.0.2+7-44"
  }
 },
 "nbformat": 4,
 "nbformat_minor": 2
}
