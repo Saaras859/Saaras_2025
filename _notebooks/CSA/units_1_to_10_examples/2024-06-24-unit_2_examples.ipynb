{
 "cells": [
  {
   "cell_type": "raw",
   "metadata": {
    "vscode": {
     "languageId": "raw"
    }
   },
   "source": [
    "---\n",
    "layout: post\n",
    "toc: true\n",
    "title: Unit 2 - Using Objects Examples\n",
    "description: Using Objects Examples\n",
    "authors: Aniket Chakradeo, Soham Kamat\n",
    "menu: nav/CSA_Units/csa_unit2.html\n",
    "type: ccc\n",
    "permalink: /unit2lessonexamples\n",
    "---"
   ]
  },
  {
   "cell_type": "markdown",
   "metadata": {},
   "source": [
    "## Simple Object Creation and Method Invocation Example"
   ]
  },
  {
   "cell_type": "code",
   "execution_count": null,
   "metadata": {},
   "outputs": [],
   "source": [
    "// Define a class named Car\n",
    "class Car {\n",
    "    // Attributes of the Car class\n",
    "    String make;\n",
    "    String model;\n",
    "    int year;\n",
    "\n",
    "    // Constructor for initializing Car objects\n",
    "    Car(String make, String model, int year) {\n",
    "        this.make = make;\n",
    "        this.model = model;\n",
    "        this.year = year;\n",
    "    }\n",
    "\n",
    "    // Method to display car details\n",
    "    void displayDetails() {\n",
    "        System.out.println(\"Car Make: \" + make);\n",
    "        System.out.println(\"Car Model: \" + model);\n",
    "        System.out.println(\"Car Year: \" + year);\n",
    "    }\n",
    "}\n",
    "\n",
    "public class Main {\n",
    "    public static void main(String[] args) {\n",
    "        // Create a Car object using the constructor\n",
    "        Car myCar = new Car(\"Toyota\", \"Corolla\", 2020);\n",
    "\n",
    "        // Call the method to display car details\n",
    "        myCar.displayDetails();\n",
    "    }\n",
    "}\n",
    "\n",
    "Main.main(null);"
   ]
  },
  {
   "cell_type": "markdown",
   "metadata": {},
   "source": [
    "## Object Interaction and Passing Objects as Arguments Example"
   ]
  },
  {
   "cell_type": "code",
   "execution_count": null,
   "metadata": {},
   "outputs": [],
   "source": [
    "// Define a class named Rectangle\n",
    "class Rectangle {\n",
    "    // Attributes of the Rectangle class\n",
    "    double length;\n",
    "    double width;\n",
    "\n",
    "    // Constructor to initialize Rectangle objects\n",
    "    Rectangle(double length, double width) {\n",
    "        this.length = length;\n",
    "        this.width = width;\n",
    "    }\n",
    "\n",
    "    // Method to calculate the area of the rectangle\n",
    "    double calculateArea() {\n",
    "        return length * width;\n",
    "    }\n",
    "}\n",
    "\n",
    "// Define a class named AreaCalculator\n",
    "class AreaCalculator {\n",
    "    // Method to calculate and display the area of a Rectangle object\n",
    "    void printArea(Rectangle rect) {\n",
    "        double area = rect.calculateArea();\n",
    "        System.out.println(\"Area of the rectangle: \" + area);\n",
    "    }\n",
    "}\n",
    "\n",
    "public class Main {\n",
    "    public static void main(String[] args) {\n",
    "        // Create a Rectangle object\n",
    "        Rectangle myRectangle = new Rectangle(5.0, 3.5);\n",
    "\n",
    "        // Create an AreaCalculator object\n",
    "        AreaCalculator calculator = new AreaCalculator();\n",
    "\n",
    "        // Pass the Rectangle object to the printArea method\n",
    "        calculator.printArea(myRectangle);\n",
    "    }\n",
    "}\n",
    "\n",
    "Main.main(null);"
   ]
  }
 ],
 "metadata": {
  "kernelspec": {
   "display_name": "Java",
   "language": "java",
   "name": "java"
  },
  "language_info": {
   "codemirror_mode": "java",
   "file_extension": ".jshell",
   "mimetype": "text/x-java-source",
   "name": "java",
   "pygments_lexer": "java",
   "version": "19.0.2+7-44"
  }
 },
 "nbformat": 4,
 "nbformat_minor": 2
}
