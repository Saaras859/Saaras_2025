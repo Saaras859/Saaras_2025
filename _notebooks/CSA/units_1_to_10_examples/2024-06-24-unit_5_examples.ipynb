{
 "cells": [
  {
   "cell_type": "raw",
   "metadata": {
    "vscode": {
     "languageId": "raw"
    }
   },
   "source": [
    "---\n",
    "layout: post\n",
    "toc: true\n",
    "title: Unit 5 - Writing Classes Examples\n",
    "description: Writing Classes Examples\n",
    "authors: Aniket Chakradeo, Soham Kamat\n",
    "menu: nav/CSA_Units/csa_unit5.html\n",
    "type: ccc\n",
    "permalink: /unit5lessonexamples\n",
    "---"
   ]
  },
  {
   "cell_type": "markdown",
   "metadata": {},
   "source": [
    "## Primitive Types Example"
   ]
  },
  {
   "cell_type": "code",
   "execution_count": null,
   "metadata": {},
   "outputs": [],
   "source": [
    "// Define a class named Person\n",
    "class Person {\n",
    "    // Attributes of the Person class\n",
    "    String name;\n",
    "    int age;\n",
    "    String address;\n",
    "\n",
    "    // Constructor to initialize Person objects\n",
    "    Person(String name, int age, String address) {\n",
    "        this.name = name;\n",
    "        this.age = age;\n",
    "        this.address = address;\n",
    "    }\n",
    "\n",
    "    // Method to display the details of the person\n",
    "    void displayDetails() {\n",
    "        System.out.println(\"Name: \" + name);\n",
    "        System.out.println(\"Age: \" + age);\n",
    "        System.out.println(\"Address: \" + address);\n",
    "    }\n",
    "\n",
    "    // Method to calculate the birth year based on age\n",
    "    int calculateBirthYear() {\n",
    "        int currentYear = 2024;\n",
    "        return currentYear - age;\n",
    "    }\n",
    "}\n",
    "\n",
    "public class Main {\n",
    "    public static void main(String[] args) {\n",
    "        // Create an object of the Person class\n",
    "        Person person1 = new Person(\"Alice\", 30, \"123 Main St, Springfield\");\n",
    "\n",
    "        // Call methods on the object\n",
    "        person1.displayDetails();\n",
    "        int birthYear = person1.calculateBirthYear();\n",
    "        System.out.println(\"Birth Year: \" + birthYear);\n",
    "    }\n",
    "}\n",
    "\n",
    "Main.main(null);"
   ]
  },
  {
   "cell_type": "markdown",
   "metadata": {},
   "source": [
    "## Refrence Types Example"
   ]
  },
  {
   "cell_type": "code",
   "execution_count": null,
   "metadata": {},
   "outputs": [],
   "source": [
    "// Base class Animal\n",
    "class Animal {\n",
    "    // Attribute of the Animal class\n",
    "    String name;\n",
    "\n",
    "    // Constructor to initialize Animal objects\n",
    "    Animal(String name) {\n",
    "        this.name = name;\n",
    "    }\n",
    "\n",
    "    // Method to make the animal speak\n",
    "    void speak() {\n",
    "        System.out.println(name + \" makes a sound.\");\n",
    "    }\n",
    "}\n",
    "\n",
    "// Subclass Dog that inherits from Animal\n",
    "class Dog extends Animal {\n",
    "\n",
    "    // Constructor to initialize Dog objects\n",
    "    Dog(String name) {\n",
    "        super(name); // Call the constructor of the superclass\n",
    "    }\n",
    "\n",
    "    // Overridden method to make the dog speak\n",
    "    @Override\n",
    "    void speak() {\n",
    "        System.out.println(name + \" barks.\");\n",
    "    }\n",
    "\n",
    "    // Method specific to the Dog class\n",
    "    void fetch() {\n",
    "        System.out.println(name + \" is fetching the ball!\");\n",
    "    }\n",
    "}\n",
    "\n",
    "public class Main {\n",
    "    public static void main(String[] args) {\n",
    "        // Create an object of the Animal class\n",
    "        Animal genericAnimal = new Animal(\"Generic Animal\");\n",
    "        genericAnimal.speak(); // Output: Generic Animal makes a sound.\n",
    "\n",
    "        // Create an object of the Dog class\n",
    "        Dog dog = new Dog(\"Buddy\");\n",
    "        dog.speak(); // Output: Buddy barks.\n",
    "        dog.fetch(); // Output: Buddy is fetching the ball!\n",
    "    }\n",
    "}\n",
    "\n",
    "Main.main(null);"
   ]
  }
 ],
 "metadata": {
  "kernelspec": {
   "display_name": "Java",
   "language": "java",
   "name": "java"
  },
  "language_info": {
   "codemirror_mode": "java",
   "file_extension": ".jshell",
   "mimetype": "text/x-java-source",
   "name": "java",
   "pygments_lexer": "java",
   "version": "19.0.2+7-44"
  }
 },
 "nbformat": 4,
 "nbformat_minor": 2
}
