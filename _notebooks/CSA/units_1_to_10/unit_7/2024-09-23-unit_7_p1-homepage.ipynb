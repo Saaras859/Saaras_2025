{
 "cells": [
  {
   "cell_type": "raw",
   "metadata": {
    "vscode": {
     "languageId": "raw"
    }
   },
   "source": [
    "---\n",
    "layout: post\n",
    "toc: true\n",
    "title: Unit 7 ArrayLists P1 \n",
    "description: ArrayLists Home Page\n",
    "authors: Aidan Lau, Saathvik Gampa, Sri Surapaneni, Tanav Kambhampati\n",
    "categories: [AP CSA]\n",
    "courses: {'csa': {'week': 6}}\n",
    "type: ccc\n",
    "permalink: /csa/unit7-p1/unit7-homepage\n",
    "menu: nav/CSA_Units/csa_unit7_p1.html\n",
    "---"
   ]
  },
  {
   "cell_type": "markdown",
   "metadata": {},
   "source": [
    "## AP Computer Science A - Unit 6 Home Page\n",
    "### Main Idea\n",
    "> ** ArrayLists are used to store data and algorithms and can be used to access, traverse, and sort through this data.**\n",
    "### Why ArrayLists?\n",
    "> ArrayLists don't have a fixed size like Arrays and we can add and remove items from them, making them more verstaile and having more functions\n",
    "### Key Topics:\n",
    "Topic 7.1 - Intro to Arraylists (Sri)\n",
    "Topic 7.2 - Methods with Arraylists (Sri & Saathvik)\n",
    "Topic 7.3 - Traversing ArrayLists (Tanav)\n",
    "Topic 7.4 - Developing Algorithms Using ArrayLists (Tanav)\n",
    "Topic 7.5 - Searching (Aidan)\n",
    "Topic 7.6 - Sorting (Aidan)\n",
    "Topic 7.7 - Ethical Issues Around Data Collection (Saathvik)\n",
    "### AP Exam Details\n",
    "- 2.5-7.5% of the test\n",
    "- 1 to 2 mc questions\n",
    "- Might be on an FRQ (making ArrayLists and ArrayList algorithms)\n",
    "\n",
    "<img width=\"318\" alt=\"Screenshot 2024-09-24 at 9 34 30 PM\" src=\"https://github.com/user-attachments/assets/b632ce82-0b07-4c0c-ae4c-a3b94e146f3c\">"
   ]
  }
 ],
 "metadata": {
  "language_info": {
   "name": "python"
  }
 },
 "nbformat": 4,
 "nbformat_minor": 2
}
