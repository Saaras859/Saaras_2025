{
 "cells": [
  {
   "cell_type": "raw",
   "metadata": {
    "vscode": {
     "languageId": "raw"
    }
   },
   "source": [
    "---\n",
    "layout: post\n",
    "toc: true\n",
    "title: 7.6 Sorting\n",
    "description: Sorting ArrayLists\n",
    "authors: Aidan Lau, Saathvik Gampa, Sri Surapaneni, Tanav Kambhampati\n",
    "categories: [AP CSA]\n",
    "type: ccc\n",
    "permalink: /csa/unit7-p1/unit7-6\n",
    "menu: nav/CSA_Units/csa_unit7_p1.html\n",
    "---"
   ]
  },
  {
   "cell_type": "markdown",
   "metadata": {},
   "source": [
    "# 7.6 Sorting\n",
    "\n",
    "> Two of the following sorting algorithms will be on the AP exam.(merge sort is discussed in Unit 10)\n",
    "- <mark>Selection sort</mark>: Look for the smallest element, swap with first element. Look for the second smallest, swap with second element, etc…\n",
    "- <mark>Insertion sort</mark>: Build an increasingly large sorted front portion of array.\n",
    "#### All sorting algorithms have...\n",
    "- comparison-based sorting, which determines order of elements by comparing them to each other. Ways to compare are:\n",
    "    - <, >, compareTo "
   ]
  },
  {
   "cell_type": "markdown",
   "metadata": {},
   "source": [
    "<h2 style=\"color: ##FF5733\">Selection Sort</h2>\n",
    "\n",
    "> <mark>Process</mark>: Orders a list of values by repeatedly putting the smallest or largest unplaced value into its final position.\n",
    "- Look through the list to find the smallest value.\n",
    "- Swap it so that it is at index 0.\n",
    "- Look through the list to find the second-smallest value.\n",
    "- Swap it so that it is at index 1.\n",
    "- ...\n",
    "- Repeat until all values are in their proper places.\n",
    "\n",
    "> Visualize this diagram as you go through the code\n",
    "- ![Selection Sort GIF](https://github.com/user-attachments/assets/5887afde-3f2d-427d-bb7c-d7a30a7f876f)\n",
    "\n",
    "### Code Implementation:"
   ]
  },
  {
   "cell_type": "code",
   "execution_count": 3,
   "metadata": {
    "vscode": {
     "languageId": "java"
    }
   },
   "outputs": [
    {
     "name": "stdout",
     "output_type": "stream",
     "text": [
      "[3, 86, -20, 14, 40]\n",
      "[-20, 3, 14, 40, 86]\n"
     ]
    }
   ],
   "source": [
    "import java.util.ArrayList;\n",
    "\n",
    "public static void selectionSort(ArrayList<Integer> elements)\n",
    "{\n",
    "    // outer loop to iterate through every element in the ArrayList\n",
    "    for (int j = 0; j < elements.size() - 1; j++)\n",
    "    {\n",
    "        // set the current value being compared \n",
    "        int minIndex = j;\n",
    "        // INNER LOOP TO ITERATE EVERY ELEMENT AFTER THE minIndex VALUE\n",
    "        for (int k = j + 1; k < elements.size(); k++)\n",
    "        {\n",
    "            // FIND THE SMALLEST ELEMENT IN THE LIST AND SET IT TO THE minINDEX\n",
    "            if (elements.get(k) < elements.get(minIndex))\n",
    "            {\n",
    "                minIndex = k;\n",
    "            }\n",
    "        }\n",
    "        // swap minIndex value with new smaller value\n",
    "        int temp = elements.get(j);\n",
    "        elements.set(j, elements.get(minIndex));\n",
    "        elements.set(minIndex, temp);\n",
    "    }\n",
    "}\n",
    "\n",
    "// test cases\n",
    "ArrayList<Integer> arr1 = new ArrayList<>();\n",
    "arr1.add(3);\n",
    "arr1.add(86);\n",
    "arr1.add(-20);\n",
    "arr1.add(14);\n",
    "arr1.add(40);\n",
    "System.out.println(arr1.toString());\n",
    "selectionSort(arr1);\n",
    "System.out.println(arr1.toString());"
   ]
  },
  {
   "cell_type": "markdown",
   "metadata": {},
   "source": [
    "<h2 style=\"color: ##FF5733\">Insertion Sort</h2>\n",
    "\n",
    "> <mark>Process</mark>: Shift each element into a sorted sub-array.\n",
    "- To sort a list of n elements.\n",
    "    - Loop through indices i from 1 to n – 1:\n",
    "        - For each value at position i, insert into correct position in the sorted list from index 0 to i – 1.\n",
    "\n",
    "> Visualize this GIF as you go through the code:\n",
    "- ![Insertion Sort GIF](https://github.com/user-attachments/assets/47646078-e11c-4b50-beb6-98982fc3758b)\n",
    "\n",
    "### Code Implementation:"
   ]
  },
  {
   "cell_type": "code",
   "execution_count": 2,
   "metadata": {
    "vscode": {
     "languageId": "java"
    }
   },
   "outputs": [
    {
     "name": "stdout",
     "output_type": "stream",
     "text": [
      "[3, 86, -20, 14, 40]\n",
      "[-20, 3, 14, 40, 86]\n"
     ]
    }
   ],
   "source": [
    "import java.util.ArrayList;\n",
    "\n",
    "\n",
    "public static void insertionSort(ArrayList<Integer> elements)\n",
    "{\n",
    "    // outer loop to iterate through every element in the list\n",
    "    // notice how it starts at 1 because the 0 index is considered \"sorted\"\n",
    "    for (int j = 1; j < elements.size(); j++) {\n",
    "        // store  current element in a temporary variable\n",
    "        int temp = elements.get(j);\n",
    "        // initialize the possible index where the current element might be inserted\n",
    "        int possibleIndex = j;\n",
    "        \n",
    "        // shift elements to the right until the correct position for temp is found\n",
    "        while (possibleIndex > 0 && temp < elements.get(possibleIndex - 1)) \n",
    "        {\n",
    "            // move previous element to the right\n",
    "            elements.set(possibleIndex, elements.get(possibleIndex - 1));\n",
    "            \n",
    "            // decrement index to check values to the left\n",
    "            possibleIndex--;\n",
    "        }\n",
    "        \n",
    "        // insert current element into correct position\n",
    "        elements.set(possibleIndex, temp);\n",
    "    }\n",
    "}\n",
    "\n",
    "// test cases\n",
    "ArrayList<Integer> arr1 = new ArrayList<>();\n",
    "arr1.add(3);\n",
    "arr1.add(86);\n",
    "arr1.add(-20);\n",
    "arr1.add(14);\n",
    "arr1.add(40);\n",
    "System.out.println(arr1.toString());\n",
    "insertionSort(arr1);\n",
    "System.out.println(arr1.toString());\n",
    "\n"
   ]
  },
  {
   "cell_type": "markdown",
   "metadata": {},
   "source": [
    "# Helpful Resources\n",
    "> Watch these if you're still unsure about selection and insertion sort. These helped me a lot. \n",
    "\n",
    "- [Selection Sort Walkthrough](https://www.youtube.com/watch?v=cqh8nQwuKNE)\n",
    "- [Insertion Sort Walkthrough](https://www.youtube.com/watch?v=lCDZ0IprFw4)"
   ]
  },
  {
   "cell_type": "markdown",
   "metadata": {},
   "source": [
    "# Homework\n",
    "\n",
    "- You're a teacher for a computer science class at Rancho Bernardo. You have a list of all the grades of the students in your class but its hard to see who has the highest and lowest grade. Use either insertion sort or selection sort to sort the ArrayList so the grades are easy to see. \n"
   ]
  },
  {
   "cell_type": "code",
   "execution_count": null,
   "metadata": {
    "vscode": {
     "languageId": "java"
    }
   },
   "outputs": [],
   "source": [
    "import java.util.ArrayList;\n",
    "\n",
    "public class SortTest\n",
    "{\n",
    "    public static void someSortingAlgorithm(ArrayList<Integer> elements)\n",
    "    {   \n",
    "        /* code */\n",
    "    }\n",
    "\n",
    "    public static void main(String[] args)\n",
    "    {\n",
    "        ArrayList<Integer> arr1 = new ArrayList<>();\n",
    "        arr1.add(85);\n",
    "        arr1.add(92);\n",
    "        arr1.add(76);\n",
    "        arr1.add(88);\n",
    "        arr1.add(67);\n",
    "        arr1.add(94);\n",
    "        arr1.add(73);\n",
    "        arr1.add(89);\n",
    "        arr1.add(91);\n",
    "        arr1.add(82);\n",
    "        arr1.add(78);\n",
    "        arr1.add(88);\n",
    "        arr1.add(95);\n",
    "        arr1.add(60);\n",
    "        arr1.add(84);\n",
    "        arr1.add(77);\n",
    "        arr1.add(91);\n",
    "        arr1.add(68);\n",
    "        arr1.add(97);\n",
    "        arr1.add(83);\n",
    "\n",
    "        /* code */\n",
    "    }\n",
    "}"
   ]
  }
 ],
 "metadata": {
  "kernelspec": {
   "display_name": "java (IJava/j!)",
   "language": "java",
   "name": "jbang-ijava"
  },
  "language_info": {
   "codemirror_mode": "java",
   "file_extension": ".jshell",
   "mimetype": "text/x-java-source",
   "name": "Java",
   "pygments_lexer": "java",
   "version": "17.0.12+0"
  }
 },
 "nbformat": 4,
 "nbformat_minor": 2
}
