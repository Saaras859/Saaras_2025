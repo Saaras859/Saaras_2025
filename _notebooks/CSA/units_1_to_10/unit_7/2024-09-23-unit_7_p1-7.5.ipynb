{
 "cells": [
  {
   "cell_type": "raw",
   "metadata": {
    "vscode": {
     "languageId": "raw"
    }
   },
   "source": [
    "---\n",
    "layout: post\n",
    "toc: true\n",
    "title: 7.5 Searching\n",
    "description: Searching ArrayLists\n",
    "authors: Aidan Lau, Saathvik Gampa, Sri Surapaneni, Tanav Kambhampati\n",
    "categories: [AP CSA]\n",
    "type: ccc\n",
    "permalink: /csa/unit7-p1/unit7-5\n",
    "menu: nav/CSA_Units/csa_unit7_p1.html\n",
    "---"
   ]
  },
  {
   "cell_type": "markdown",
   "metadata": {},
   "source": [
    "## Binary and Linear Search\n",
    "> There are two search algorithms you will see on the AP exam:\n",
    "- <mark>Linear Search</mark>\n",
    "- <mark>Binary Search</mark>\n",
    "\n",
    "### Linear(Sequential) Search\n",
    "![Linear Search GIF 2](https://github.com/user-attachments/assets/81815823-0e64-4147-babf-5bfacb4bd175)\n",
    "\n",
    "> Search Process\n",
    "1. Remember iteration and selection? Its the same for ArrayLists: a for loop with an if statement inside. \n",
    "2. The for loop parameter uses comparison operators to compare an item inside the ArrayList to the desired searched value\n",
    "3. Keep repeating 1 and 2 until we find the desired searched value\n",
    " \n",
    "\n",
    "### Binary Search\n",
    "![Binary Search GIF 2](https://github.com/user-attachments/assets/17231c38-f0af-4b9f-8efe-6b66292f6e83)\n",
    "> Search Process\n",
    "0. Before anything, the ArrayList HAS to be sorted\n",
    "1. Set the initial minimum, middle, and max of the ArrayList. Your target value is the value you want to find\n",
    "2. Check middle value in comparison with the minimum and maximum\n",
    "    - If the middle value is less than the target value, only check the right half of the ArrayList\n",
    "    - If the middle value is greater than the target value, only check the left half of the ArrayList\n",
    "\n",
    "**Yes its very confusing but just look at the GIF**"
   ]
  },
  {
   "cell_type": "markdown",
   "metadata": {},
   "source": [
    "## Now lets look at an example of Linear Search"
   ]
  },
  {
   "cell_type": "markdown",
   "metadata": {},
   "source": [
    "> Visualize this while going through the code\n",
    "![Linear Searching GIF](https://github.com/user-attachments/assets/9704be28-32ff-48e1-88ff-bbf01b64147c)\n",
    "- A for loop will go through each index and its corresponding value until it finds the desired value. \n",
    "\n",
    "### Code\n"
   ]
  },
  {
   "cell_type": "code",
   "execution_count": 8,
   "metadata": {},
   "outputs": [],
   "source": [
    "import java.util.ArrayList;\n",
    "import java.util.Scanner;\n",
    "\n",
    "public class Main {\n",
    "    public static void main(String[] args) {\n",
    "        ArrayList<Integer> numbers = new ArrayList<Integer>();\n",
    "        \n",
    "        // missing 3, 6, 7, and 10\n",
    "        numbers.add(1);\n",
    "        numbers.add(2);\n",
    "        \n",
    "        numbers.add(4);\n",
    "        numbers.add(5);\n",
    "        \n",
    "      \n",
    "        numbers.add(8);\n",
    "        numbers.add(9);\n",
    "        \n",
    "        \n",
    "        Scanner scanNumber = new Scanner(System.in);\n",
    "        System.out.println(\"Enter a number 1-10\");\n",
    "        Integer desiredNumber = scanNumber.nextInt();\n",
    "        \n",
    "\n",
    "        for (int index = 0; index < numbers.size(); index++) {\n",
    "            // notice how the == operator is used to compare integers\n",
    "            if (numbers.get(index) == desiredNumber) {\n",
    "\n",
    "                System.out.println(desiredNumber + \" is in the list\");\n",
    "                scanNumber.close();\n",
    "            } else {\n",
    "                System.out.println(desiredNumber + \" is not in the list.\");\n",
    "                scanNumber.close();\n",
    "            }\n",
    "        }\n",
    "\n",
    "        \n",
    "    }   \n",
    "\n",
    "}"
   ]
  },
  {
   "cell_type": "markdown",
   "metadata": {},
   "source": [
    "### Things to Remember\n",
    "> To remember linear searching, think:\n",
    "- Iteration and Selection\n",
    "    - **Iteration**\n",
    "        - Iteration is the process of repeating a step multiple times; In this case, we keep searching for a desired value until it is found\n",
    "    - **Selection**\n",
    "        - Selection is the process of finding a specific element within a list. We do this using comparison operators\n",
    "- When comparing ``int`` values, use the == operator.\n",
    "- When comparing ``Object`` values, use the ``.equals()`` method to compare values."
   ]
  },
  {
   "cell_type": "markdown",
   "metadata": {},
   "source": [
    "### Popcorn Hack #1(0.2 mins)\n",
    "\n",
    "![Sequential Searching Flow](https://miro.medium.com/v2/resize:fit:800/0*OWWv4gUnex1Zk2sn.png)\n",
    "\n",
    "> What does each hop or jump represent? What code(look above) is used to achieve this?"
   ]
  },
  {
   "cell_type": "markdown",
   "metadata": {},
   "source": [
    "## Now lets look at an example of Binary Search\n",
    "> Visualize this while going through the code\n",
    "![Binary Search GIF 2](https://github.com/user-attachments/assets/17231c38-f0af-4b9f-8efe-6b66292f6e83)\n",
    "- Repeatedly divide the search range in half until the target is found or the range is empty\n",
    "- **this is a great GIF to visualize binary searching**\n",
    "\n",
    "### Code"
   ]
  },
  {
   "cell_type": "code",
   "execution_count": 9,
   "metadata": {},
   "outputs": [
    {
     "name": "stdout",
     "output_type": "stream",
     "text": [
      "2\n",
      "0\n",
      "4\n",
      "-1\n"
     ]
    }
   ],
   "source": [
    "import java.util.ArrayList;\n",
    "import java.util.Collections;\n",
    "\n",
    "\n",
    "public static int binarySearch(ArrayList<Integer> elements, int target)\n",
    "{\n",
    "    // min and max is the RANGE of the ArrayList\n",
    "    int min = 0;\n",
    "    int max = elements.size() - 1;\n",
    "\n",
    "    // while loop will ensure the array continues to be split in half until target is found\n",
    "    while (min <= max)\n",
    "    {\n",
    "        // this middle value is the INDEX not VALUE. \n",
    "        int middle = (min + max) / 2;\n",
    "\n",
    "        // now we check if the middle VALUE is less than the number we want. \n",
    "        // *remember* the list is sorted so...\n",
    "        // if middle is less than the target, you want to split the array into the UPPER HALF\n",
    "        // if middle is more than the target, you want to split the array into the LOWER HALF\n",
    "        if (elements.get(middle) < target) { // too low\n",
    "            min = middle + 1;\n",
    "        } else if (elements.get(middle) > target) { // too high\n",
    "            max = middle - 1;\n",
    "        } else if (elements.get(middle) == target) { // just right\n",
    "            return middle;\n",
    "        }\n",
    "    }\n",
    "\n",
    "    return -1;\n",
    "}\n",
    "\n",
    "ArrayList<Integer> numbers = new ArrayList<>();\n",
    "numbers.add(-20);\n",
    "numbers.add(3);\n",
    "numbers.add(15);\n",
    "numbers.add(81);\n",
    "numbers.add(432);\n",
    "\n",
    "// binary searches HAVE to be sorted\n",
    "Collections.sort(numbers);\n",
    "\n",
    "\n",
    "int index = binarySearch(numbers, 15);\n",
    "System.out.println(index);\n",
    "\n",
    "index = binarySearch(numbers, -20);\n",
    "System.out.println(index);\n",
    "\n",
    "index = binarySearch(numbers, 432);\n",
    "System.out.println(index);\n",
    "\n",
    "index = binarySearch(numbers, 53);\n",
    "System.out.println(index);\n",
    "\n"
   ]
  },
  {
   "cell_type": "markdown",
   "metadata": {},
   "source": [
    "# Homework\n",
    "- Imagine you're an online E-store that sells video games. Use linear searching to help Aidan find if the game, Grand Theft Auto V, is offered in the E-store. If it is, tell him the price. If it isn't, tell him where he can find it"
   ]
  },
  {
   "cell_type": "code",
   "execution_count": null,
   "metadata": {},
   "outputs": [],
   "source": [
    "import java.util.ArrayList;\n",
    "\n",
    "public class searchString {\n",
    "    public static void main(String[] args) {\n",
    "        ArrayList<String> videoGames = new ArrayList<String>();\n",
    "        videoGames.add(\"Roblox\");\n",
    "        videoGames.add(\"Fortnite\");\n",
    "        videoGames.add(\"Valorant\");\n",
    "        videoGames.add(\"Apex Legends\");\n",
    "        videoGames.add(\"GTA V\");\n",
    "\n",
    "        // *code*\n",
    "}"
   ]
  }
 ],
 "metadata": {
  "kernelspec": {
   "display_name": "java (IJava/j!)",
   "language": "java",
   "name": "jbang-ijava"
  },
  "language_info": {
   "codemirror_mode": "java",
   "file_extension": ".jshell",
   "mimetype": "text/x-java-source",
   "name": "java",
   "pygments_lexer": "java",
   "version": "17.0.12+0"
  }
 },
 "nbformat": 4,
 "nbformat_minor": 2
}
