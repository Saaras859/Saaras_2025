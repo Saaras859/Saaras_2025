{
 "cells": [
  {
   "cell_type": "raw",
   "metadata": {
    "vscode": {
     "languageId": "raw"
    }
   },
   "source": [
    "---\n",
    "layout: post\n",
    "toc: true\n",
    "title: 7.3 - Traversing Arraylists\n",
    "description: ArrayLists Lesson\n",
    "authors: Aidan Lau, Saathvik Gampa, Sri Surapaneni, Tanav Kambhampati\n",
    "categories: [AP CSA]\n",
    "type: ccc\n",
    "permalink: /csa/unit7-p1/unit7-3\n",
    "menu: nav/CSA_Units/csa_unit7_p1.html\n",
    "---"
   ]
  },
  {
   "cell_type": "markdown",
   "metadata": {},
   "source": [
    "# 7.3 Traversing Arraylists\n",
    "\n",
    "You can traverse through the elements in an ArrayList using loops. In order to traverse ArrayLists, we can use iterative statements, or loops. We can use **For Each Loops**, **For Loops**, and **While Loops**\n",
    "\n",
    "The following code uses a **For Each** loop to traverse through the ArrayList."
   ]
  },
  {
   "cell_type": "code",
   "execution_count": 1,
   "metadata": {
    "vscode": {
     "languageId": "plaintext"
    }
   },
   "outputs": [
    {
     "name": "stdout",
     "output_type": "stream",
     "text": [
      "50\n",
      "30\n",
      "20\n"
     ]
    }
   ],
   "source": [
    "//7.3.1: For Each Loop\n",
    "ArrayList<Integer> myList = new ArrayList<Integer>();\n",
    "        myList.add(50);\n",
    "        myList.add(30);\n",
    "        myList.add(20);\n",
    "        for (Integer value : myList)\n",
    "        {\n",
    "            System.out.println(value);\n",
    "        }"
   ]
  },
  {
   "cell_type": "markdown",
   "metadata": {},
   "source": [
    "### Popcorn Hack #1:\n",
    "\n",
    "Modify the code above so that it prints out the sum of all the elements in the list. "
   ]
  },
  {
   "cell_type": "code",
   "execution_count": null,
   "metadata": {
    "vscode": {
     "languageId": "plaintext"
    }
   },
   "outputs": [],
   "source": []
  },
  {
   "cell_type": "markdown",
   "metadata": {},
   "source": [
    "The problem with For Each loops is that you can't modify the ArrayList. To do that, you will need to use another type of loop. If you attempt to modify the ArrayList, you will get a **ConcurrentModificationException** error.\n",
    "\n",
    "## ConcurrentModificationException Error:\n",
    "- Happens when you try to modify the structure of an ArrayList using a For Each loop.\n",
    "\n",
    "Think about it this way:\n",
    "Imagine you are standing in a line at the store and then somebody cuts the line. The order of the line has changed. \n",
    "The store doesn't want people cutting the line becaues it changes the order and creates confusion. So, it throws out a ConcurrentModificationError to alert you that something is wrong and that you shouldn't do it. \n",
    "\n",
    "It's the same for For Each Loops in Java - You can't add or remove elements because it changes the structure of the loop. \n",
    "\n",
    "![image](https://github.com/user-attachments/assets/27a0d094-f4bf-47af-b047-bef393f05627)\n",
    "\n"
   ]
  },
  {
   "cell_type": "markdown",
   "metadata": {},
   "source": [
    "#### Common mistakes with For Each Loops:\n",
    "1. Make sure that the data type of your variable is the same as the data type of the ArrayList\n",
    "2. Don't try to modify the ArrayList!!!!!! I can't stress this enough\n",
    "\n",
    "![image](https://github.com/user-attachments/assets/c6c2c194-ea02-48f6-acb8-efdf4aeb180b)\n"
   ]
  },
  {
   "cell_type": "markdown",
   "metadata": {},
   "source": [
    "### For Loops\n",
    "Here's how to traverse through an arraylist using a **For Loop**. The following code will give you an **IndexOutOfBounds** error, do you know how to fix this error?\n",
    "\n",
    "There are three major parts of a for loop:\n",
    "- Initialisation, this is where you declare the variable index\n",
    "\n",
    "- Boolean condition, this is where you declare the stop condition, when it's true, it stops.\n",
    "\n",
    "- Update, this is the increment value, i++ is increment and i-- is decrement"
   ]
  },
  {
   "cell_type": "code",
   "execution_count": 8,
   "metadata": {
    "vscode": {
     "languageId": "java"
    }
   },
   "outputs": [
    {
     "name": "stdout",
     "output_type": "stream",
     "text": [
      "50\n",
      "30\n",
      "20\n"
     ]
    },
    {
     "ename": "EvalException",
     "evalue": "Index 3 out of bounds for length 3",
     "output_type": "error",
     "traceback": [
      "\u001b[1m\u001b[31m---------------------------------------------------------------------------\u001b[0m",
      "\u001b[1m\u001b[31mjava.lang.IndexOutOfBoundsException: Index 3 out of bounds for length 3\u001b[0m",
      "\u001b[1m\u001b[31m\tat java.base/jdk.internal.util.Preconditions.outOfBounds(Preconditions.java:64)\u001b[0m",
      "\u001b[1m\u001b[31m\tat java.base/jdk.internal.util.Preconditions.outOfBoundsCheckIndex(Preconditions.java:70)\u001b[0m",
      "\u001b[1m\u001b[31m\tat java.base/jdk.internal.util.Preconditions.checkIndex(Preconditions.java:266)\u001b[0m",
      "\u001b[1m\u001b[31m\tat java.base/java.util.Objects.checkIndex(Objects.java:361)\u001b[0m",
      "\u001b[1m\u001b[31m\tat java.base/java.util.ArrayList.get(ArrayList.java:427)\u001b[0m",
      "\u001b[1m\u001b[31m\tat .(#46:1)\u001b[0m"
     ]
    }
   ],
   "source": [
    "// 7.3.2 For Loops\n",
    "ArrayList<Integer> myList = new ArrayList<Integer>();\n",
    "        myList.add(50);\n",
    "        myList.add(30);\n",
    "        myList.add(20);\n",
    "        for (int i = 0; i <= myList.size(); i++)  \n",
    "        {\n",
    "            System.out.println(myList.get(i));\n",
    "        }\n"
   ]
  },
  {
   "cell_type": "markdown",
   "metadata": {},
   "source": [
    "## IndexOutOfBoundsException\n",
    "\n",
    "- This happens when the program is trying to fetch something that isn't there. If we have the equals since in the for loop, it will try to fetch up to index 3 because thats the list size. When we remove the equals sign, it goes to whatever is <3, which is 2. So, it fetches up to index 2, meaning 3 elements. "
   ]
  },
  {
   "cell_type": "markdown",
   "metadata": {},
   "source": [
    "#### Popcorn Hack 2:\n",
    "Suppose we have an arraylist named grades, and we want to remove the entries that are lower than 70. Use a for loop to achieve this.\n",
    "\n",
    "![image](https://github.com/user-attachments/assets/6964847e-0eec-4275-9d47-1d06136466b4)\n"
   ]
  },
  {
   "cell_type": "code",
   "execution_count": 3,
   "metadata": {
    "vscode": {
     "languageId": "java"
    }
   },
   "outputs": [
    {
     "ename": "CompilationException",
     "evalue": "",
     "output_type": "error",
     "traceback": [
      "\u001b[1m\u001b[30m|   \u001b[1m\u001b[30m        for(int i = 0; i<=\u001b[0m\u001b[1m\u001b[30m\u001b[41m\u001b[0m\u001b[1m\u001b[30m; i++){\u001b[0m",
      "\u001b[1m\u001b[31millegal start of expression\u001b[0m",
      "",
      "\u001b[1m\u001b[30m|   \u001b[1m\u001b[30m                \u001b[0m\u001b[1m\u001b[30m\u001b[41m\u001b[0m\u001b[1m\u001b[30m???\u001b[0m",
      "\u001b[1m\u001b[31millegal start of expression\u001b[0m",
      "",
      "\u001b[1m\u001b[30m|   \u001b[1m\u001b[30m                ?\u001b[0m\u001b[1m\u001b[30m\u001b[41m\u001b[0m\u001b[1m\u001b[30m??\u001b[0m",
      "\u001b[1m\u001b[31millegal start of expression\u001b[0m",
      "",
      "\u001b[1m\u001b[30m|   \u001b[1m\u001b[30m                ??\u001b[0m\u001b[1m\u001b[30m\u001b[41m\u001b[0m\u001b[1m\u001b[30m?\u001b[0m",
      "\u001b[1m\u001b[31millegal start of expression\u001b[0m",
      "",
      "\u001b[1m\u001b[30m|   \u001b[1m\u001b[30m            \u001b[0m\u001b[1m\u001b[30m\u001b[41m\u001b[0m\u001b[1m\u001b[30m}\u001b[0m",
      "\u001b[1m\u001b[31millegal start of expression\u001b[0m",
      ""
     ]
    }
   ],
   "source": [
    "import java.util.ArrayList;\n",
    "import java.util.List;\n",
    "\n",
    "public class Main {\n",
    "    public static void main(String[] args) {\n",
    "        ArrayList<int> grades = new ArrayList<>();\n",
    "        grades.add(68.9);\n",
    "        grades.add(71);\n",
    "        grades.add(100);\n",
    "        grades.add(80);\n",
    "        for(int i = 0; i<=; i++){\n",
    "            if(grades.get(i)<70){\n",
    "                //remember, use grades.remove(index) \n",
    "                ???\n",
    "            }\n",
    "        }\n",
    "        System.out.println(grades);\n",
    "    }\n",
    "}"
   ]
  },
  {
   "cell_type": "markdown",
   "metadata": {},
   "source": [
    "# While Loops\n",
    "\n",
    "Here is the final example of traversing through ArrayLists using while loops"
   ]
  },
  {
   "cell_type": "code",
   "execution_count": 4,
   "metadata": {
    "vscode": {
     "languageId": "java"
    }
   },
   "outputs": [
    {
     "name": "stdout",
     "output_type": "stream",
     "text": [
      "apple\n",
      "banana\n",
      "orange\n"
     ]
    }
   ],
   "source": [
    "ArrayList<String> fruits = new ArrayList<>();\n",
    "fruits.add(\"apple\");\n",
    "fruits.add(\"banana\");\n",
    "fruits.add(\"orange\");\n",
    "\n",
    "int index = 0;\n",
    "while (index < fruits.size()) {\n",
    "    System.out.println(fruits.get(index));\n",
    "    index++;\n",
    "}"
   ]
  }
 ],
 "metadata": {
  "kernelspec": {
   "display_name": "Java",
   "language": "java",
   "name": "java"
  },
  "language_info": {
   "codemirror_mode": "java",
   "file_extension": ".jshell",
   "mimetype": "text/x-java-source",
   "name": "Java",
   "pygments_lexer": "java",
   "version": "17.0.12+7-Ubuntu-1ubuntu224.04"
  }
 },
 "nbformat": 4,
 "nbformat_minor": 4
}
