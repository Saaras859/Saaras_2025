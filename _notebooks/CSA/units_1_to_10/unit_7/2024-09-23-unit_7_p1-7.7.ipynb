{
 "cells": [
  {
   "cell_type": "raw",
   "metadata": {
    "vscode": {
     "languageId": "raw"
    }
   },
   "source": [
    "---\n",
    "layout: post\n",
    "toc: true\n",
    "title: 7.7 - Ethical Issues around Data Collection\n",
    "description: Ethical issues around data collection with ArrayLists\n",
    "authors: Aidan Lau, Saathvik Gampa, Sri Surapaneni, Tanav Kambhampati\n",
    "categories: [AP CSA]\n",
    "type: ccc\n",
    "permalink: /csa/unit7-p1/unit7-7\n",
    "menu: nav/CSA_Units/csa_unit7_p1.html\n",
    "---"
   ]
  },
  {
   "cell_type": "markdown",
   "metadata": {},
   "source": [
    "# 7.7: Ethical issues around Data Collection"
   ]
  },
  {
   "cell_type": "markdown",
   "metadata": {},
   "source": [
    "### Learning Objectives:\n",
    "- Explaining the risks of privacy from collecting and storing personal data on computer systems.\n",
    "\n",
    "### Essential Knowledge:\n",
    "- Data Collection: Methods (cookies, tracking, etc.)\n",
    "- Ethical Data Use: Identifying Personal data (Personal Identifiable Information, Sensitive Personal Information)\n",
    "- Security Practices: Data Encryption, Data Anonymization, Data Minimization"
   ]
  },
  {
   "cell_type": "markdown",
   "metadata": {},
   "source": [
    "## Privacy Protection mechanisms\n",
    "- Encryption: Encode data for only authorized users to access.\n",
    "- Anonymization: Remove personal information from data.\n",
    "- Data Minimization: Collect only necessary data.\n",
    "- User Control: Allowing users to control how their data is used\n"
   ]
  },
  {
   "cell_type": "code",
   "execution_count": 4,
   "metadata": {
    "vscode": {
     "languageId": "java"
    }
   },
   "outputs": [
    {
     "name": "stdout",
     "output_type": "stream",
     "text": [
      "Original Data: mySecretPassword123\n",
      "Hash Code: 1107444891\n",
      "Same Data Hash: 1107444891\n",
      "Modified Data: mySecretPassword124\n",
      "Modified Data Hash: 1107444892\n"
     ]
    }
   ],
   "source": [
    "// Example string data\n",
    "String originalData = \"mySecretPassword123\";\n",
    "\n",
    "// Generate a hash code for the string\n",
    "int hash = originalData.hashCode();\n",
    "\n",
    "// Display the original data and its hash\n",
    "System.out.println(\"Original Data: \" + originalData);\n",
    "System.out.println(\"Hash Code: \" + hash);\n",
    "\n",
    "// Demonstrate that the same string always produces the same hash\n",
    "String sameData = \"mySecretPassword123\";\n",
    "int sameHash = sameData.hashCode();\n",
    "System.out.println(\"Same Data Hash: \" + sameHash);\n",
    "\n",
    "// Demonstrate that a small change in data produces a different hash\n",
    "String modifiedData = \"mySecretPassword124\";\n",
    "int modifiedHash = modifiedData.hashCode();\n",
    "System.out.println(\"Modified Data: \" + modifiedData);\n",
    "System.out.println(\"Modified Data Hash: \" + modifiedHash);"
   ]
  },
  {
   "cell_type": "markdown",
   "metadata": {},
   "source": [
    "### Uses of Hashing\n",
    "- Hashing is used to store passwords securely but it is not enough for large scale industries.\n",
    "- Hashing is used to conceal sensitive information like credit card information but not enough to protect it entirely."
   ]
  },
  {
   "cell_type": "markdown",
   "metadata": {},
   "source": [
    "### Hashing with Salt\n",
    "\n",
    "As we talked about earlier in the hashing section, hashing is a one-way function. This means that once you hash a value, you can't get the original value back. This is useful for storing passwords, but it also means that if two users have the same password, they will have the same hash. This is a problem because if an attacker gets access to the hash, they can use a rainbow table to look up the hash and find the original password.\n",
    "\n",
    "Thus, we use Hasing with Salt which means that even if 2 users have the same password, they will have different hashes because we add a random value to the password before hashing it. This random value is called a salt."
   ]
  },
  {
   "cell_type": "markdown",
   "metadata": {},
   "source": [
    "## Homework"
   ]
  },
  {
   "cell_type": "markdown",
   "metadata": {},
   "source": [
    "### Homework Problem: Exploring Hashing and Privacy Protection (Extra Credit)\n",
    "\n",
    "#### **Problem:**\n",
    "Write a Java program that simulates how hashing works in protecting passwords. You will implement the following tasks:\n",
    "\n",
    "1. **Task 1: Basic Password Hashing**\n",
    "   - Write a program that accepts a user's password input and generates a hash using the **`hashCode()`** method.\n",
    "   - Display the original password and the hash to show how the same input always produces the same hash.\n",
    "\n",
    "2. **Task 2: Salting the Password**\n",
    "   - Enhance the program by generating a random **salt** for the password. Append the salt to the password before hashing, and display both the salt and the hashed password.\n",
    "   - Store the salt separately and demonstrate that the same password with a different salt produces a different hash.\n",
    "\n",
    "3. **Task 3: Verifying the Password**\n",
    "   - Write a method that simulates logging in by taking a password and salt as input, hashing them again, and comparing the result to the previously stored hash.\n",
    "   - If the hash matches, display \"Login Successful\"; otherwise, display \"Login Failed.\"\n",
    "\n",
    "#### **Extra Challenge (Optional):**\n",
    "- Research and use the **`MessageDigest`** class in Java to implement password hashing with a more secure algorithm like **SHA-256**. Modify your program to use this instead of `hashCode()`.\n",
    "\n"
   ]
  },
  {
   "cell_type": "code",
   "execution_count": 5,
   "metadata": {
    "vscode": {
     "languageId": "java"
    }
   },
   "outputs": [
    {
     "name": "stdout",
     "output_type": "stream",
     "text": [
      "Enter your password: Original Password: Copegoat9988\n",
      "Hashed Password (Task 1): fSj2J/ZZPT8kIjyIjYFXcwhdm/JFe+ZK3on7MnZ7okA=\n",
      "\n",
      "Salt: JO+e/WXGLrGZNJxPRszJYQ==\n",
      "Hashed Password with Salt (Task 2): a2z1lDroUWT2wzJuKqkTwzNV4qmBXThtsHzV4LQeo/E=\n",
      "\n",
      "Enter your password again to login: Login Successful\n"
     ]
    }
   ],
   "source": [
    "import java.security.MessageDigest;\n",
    "import java.security.NoSuchAlgorithmException;\n",
    "import java.security.SecureRandom;\n",
    "import java.util.Arrays;\n",
    "import java.util.Base64;\n",
    "import java.util.Scanner;\n",
    "\n",
    "public class PasswordHashing {\n",
    "    \n",
    "    // Task 1: Basic Password Hashing using SHA-256\n",
    "    public static String hashPassword(String password) throws NoSuchAlgorithmException {\n",
    "        MessageDigest md = MessageDigest.getInstance(\"SHA-256\");\n",
    "        byte[] hash = md.digest(password.getBytes());\n",
    "        return Base64.getEncoder().encodeToString(hash);\n",
    "    }\n",
    "    \n",
    "    // Task 2: Salting the Password\n",
    "    public static String hashPasswordWithSalt(String password, byte[] salt) throws NoSuchAlgorithmException {\n",
    "        MessageDigest md = MessageDigest.getInstance(\"SHA-256\");\n",
    "        md.update(salt);  // Add salt to the hashing process\n",
    "        byte[] hash = md.digest(password.getBytes());\n",
    "        return Base64.getEncoder().encodeToString(hash);\n",
    "    }\n",
    "    \n",
    "    // Generate random salt\n",
    "    public static byte[] generateSalt() {\n",
    "        SecureRandom random = new SecureRandom();\n",
    "        byte[] salt = new byte[16];  // 16 bytes salt\n",
    "        random.nextBytes(salt);\n",
    "        return salt;\n",
    "    }\n",
    "    \n",
    "    // Task 3: Verifying the password\n",
    "    public static boolean verifyPassword(String enteredPassword, String storedHash, byte[] storedSalt) throws NoSuchAlgorithmException {\n",
    "        String newHash = hashPasswordWithSalt(enteredPassword, storedSalt);\n",
    "        return newHash.equals(storedHash);\n",
    "    }\n",
    "    \n",
    "    public static void main() {\n",
    "        Scanner scanner = new Scanner(System.in);\n",
    "        \n",
    "        try {\n",
    "            // Input the password\n",
    "            System.out.print(\"Enter your password: \");\n",
    "            String password = scanner.nextLine();\n",
    "        \n",
    "            // Task 1: Hash the password\n",
    "            String hashedPassword = hashPassword(password);\n",
    "            System.out.println(\"Original Password: \" + password);\n",
    "            System.out.println(\"Hashed Password (Task 1): \" + hashedPassword);\n",
    "            \n",
    "            // Task 2: Salt the password and hash again\n",
    "            byte[] salt = generateSalt();\n",
    "            String hashedPasswordWithSalt = hashPasswordWithSalt(password, salt);\n",
    "            System.out.println(\"\\nSalt: \" + Base64.getEncoder().encodeToString(salt));\n",
    "            System.out.println(\"Hashed Password with Salt (Task 2): \" + hashedPasswordWithSalt);\n",
    "        \n",
    "            // Task 3: Verify the password\n",
    "            System.out.print(\"\\nEnter your password again to login: \");\n",
    "            String enteredPassword = scanner.nextLine();\n",
    "        \n",
    "            if (verifyPassword(enteredPassword, hashedPasswordWithSalt, salt)) {\n",
    "                System.out.println(\"Login Successful\");\n",
    "            } else {\n",
    "                System.out.println(\"Login Failed\");\n",
    "            }\n",
    "        } catch (NoSuchAlgorithmException e) {\n",
    "            System.err.println(\"Hashing algorithm not found: \" + e.getMessage());\n",
    "        }\n",
    "        \n",
    "        scanner.close();\n",
    "    }\n",
    "}\n",
    "PasswordHashing.main()"
   ]
  }
 ],
 "metadata": {
  "kernelspec": {
   "display_name": "java (IJava/j!)",
   "language": "java",
   "name": "jbang-ijava"
  },
  "language_info": {
   "codemirror_mode": "java",
   "file_extension": ".jshell",
   "mimetype": "text/x-java-source",
   "name": "Java",
   "pygments_lexer": "java",
   "version": "17.0.12+8-LTS-286"
  }
 },
 "nbformat": 4,
 "nbformat_minor": 2
}
