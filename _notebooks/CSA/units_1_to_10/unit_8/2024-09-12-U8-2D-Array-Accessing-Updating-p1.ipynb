{
 "cells": [
  {
   "cell_type": "raw",
   "metadata": {
    "vscode": {
     "languageId": "raw"
    }
   },
   "source": [
    "---\n",
    "layout: post\n",
    "toc: true\n",
    "title: Unit 8 - 2D Arrays Accessing and Updating\n",
    "description: 2D Arrays Lesson\n",
    "authors: Anusha Khobare\n",
    "categories: [AP CSA]\n",
    "type: ccc\n",
    "permalink: /unit8lesson-p1-accessing-updating\n",
    "menu: nav/CSA_Units/csa_unit8_p1.html\n",
    "---"
   ]
  },
  {
   "cell_type": "markdown",
   "metadata": {},
   "source": [
    "## Accessing and updating the values of a 2D array\n",
    "In Java, accessing and updating values in a 2D array is done using the row and column indices. The general format is:\n",
    "\n",
    "~~~\n",
    "- **Accessing a value**: array[row][column]\n",
    "- **Updating a value**: array[row][column] = newValue;\n",
    "~~~\n",
    "\n",
    "![image](https://github.com/user-attachments/assets/b1f79b97-f81b-4ea5-951d-5c098fae0767)\n"
   ]
  },
  {
   "cell_type": "markdown",
   "metadata": {},
   "source": [
    "### Popcorn Hack 1 (Part 2)\n",
    "- **Update the values of the array, you made in part 1 to the group members in another group**"
   ]
  },
  {
   "cell_type": "code",
   "execution_count": 5,
   "metadata": {
    "vscode": {
     "languageId": "java"
    }
   },
   "outputs": [
    {
     "name": "stdout",
     "output_type": "stream",
     "text": [
      "Srijan Ian \n",
      "Jon Tarun \n"
     ]
    }
   ],
   "source": [
    "String [][] people = {\n",
    "    {\"Srijan\", \"Ian\"},\n",
    "    {\"Jonathan\", \"Taboon\"},\n",
    "};\n",
    "String[][] people2 = new String[2][2];\n",
    "people2[0][0] = \"Srijan\";\n",
    "people2[0][1] = \"Ian\";\n",
    "people2[1][0] = \"Jon\";\n",
    "people2[1][1] = \"Tarun\";\n",
    "\n",
    "String[] names = {\n",
    "    \"Srijan\", \"Ian\",\n",
    "    \"Jon\", \"Tarun\"\n",
    "};\n",
    "String[][] people3 = new String[2][2];\n",
    "for (int i = 0; i < 2; i++){\n",
    "    for (int j = 0; j<2;j++){\n",
    "        people3[i][j] = names[2*i + j];\n",
    "    }\n",
    "}\n",
    "\n",
    "for (int i = 0; i < 2; i++) {\n",
    "    for (int j = 0; j < 2; j++) {\n",
    "        System.out.print(people3[i][j] + \" \");\n",
    "    }\n",
    "    System.out.println();\n",
    "}\n",
    "\n"
   ]
  }
 ],
 "metadata": {
  "kernelspec": {
   "display_name": "java (IJava/j!)",
   "language": "java",
   "name": "jbang-ijava"
  },
  "language_info": {
   "codemirror_mode": "java",
   "file_extension": ".jshell",
   "mimetype": "text/x-java-source",
   "name": "Java",
   "pygments_lexer": "java",
   "version": "17.0.12+8-LTS-286"
  },
  "orig_nbformat": 4
 },
 "nbformat": 4,
 "nbformat_minor": 2
}
