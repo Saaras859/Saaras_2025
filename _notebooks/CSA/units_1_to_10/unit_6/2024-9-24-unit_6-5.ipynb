{
 "cells": [
  {
   "cell_type": "markdown",
   "metadata": {},
   "source": [
    "---\n",
    "layout: post\n",
    "type: collab\n",
    "title: Unit 6.5 - Arrays\n",
    "description: Unit 6 Team Teach - Arrays\n",
    "comments: true\n",
    "permalink: /csa/unit6-p1/unit6-5\n",
    "menu: nav/CSA_Units/csa_unit6_p1.html\n",
    "---"
   ]
  },
  {
   "cell_type": "markdown",
   "metadata": {},
   "source": [
    "https://saaras859.github.io/Saaras_2025/csa/unit6-p1/unit6-1    \n",
    "https://saaras859.github.io/Saaras_2025/csa/unit6-p1/unit6-2    \n",
    "https://saaras859.github.io/Saaras_2025/csa/unit6-p1/unit6-3   \n",
    "https://saaras859.github.io/Saaras_2025/csa/unit6-p1/unit6-4   "
   ]
  }
 ],
 "metadata": {
  "language_info": {
   "name": "python"
  }
 },
 "nbformat": 4,
 "nbformat_minor": 2
}
