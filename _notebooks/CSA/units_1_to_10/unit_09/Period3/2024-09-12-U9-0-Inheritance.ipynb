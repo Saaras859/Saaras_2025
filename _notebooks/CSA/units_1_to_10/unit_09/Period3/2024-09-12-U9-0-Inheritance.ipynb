{
 "cells": [
  {
   "cell_type": "raw",
   "metadata": {
    "vscode": {
     "languageId": "raw"
    }
   },
   "source": [
    "---\n",
    "layout: post\n",
    "title:  Unit 9 - Java Inheritance \n",
    "description:  Team Teach for Java Unit 9 Inheritance\n",
    "courses: { csa: {week: 6} }\n",
    "type: ccc \n",
    "categories: [AP CSA]\n",
    "menu: nav/inheritance.html\n",
    "permalink: /inheritance\n",
    "comments: true\n",
    "author: Bella, Trystan, Nikhil, Dylan\n",
    "---"
   ]
  },
  {
   "cell_type": "markdown",
   "metadata": {},
   "source": [
    "## Introduction to Inheritance in Java\n",
    "\n",
    "Inheritance is a fundamental concept in object-oriented programming (OOP) that allows one class (the subclass) to inherit fields and methods from another class (the superclass). This promotes code reusability and establishes a natural hierarchical relationship between classes.\n",
    "\n",
    "### Key Concepts of Inheritance:\n",
    "\n",
    "1. **Superclass and Subclass**:\n",
    "   - **Superclass (Parent Class)**: The class whose features are inherited. It provides common attributes and behaviors that can be shared by subclasses.\n",
    "   - **Subclass (Child Class)**: The class that inherits from the superclass. It can extend or modify the behavior of the superclass and add its own unique features.\n",
    "\n",
    "2. **Basic Syntax**:\n",
    "   - To declare a subclass, use the `extends` keyword.\n",
    "   ```java\n",
    "   public class Subclass extends Superclass {\n",
    "       // Subclass-specific fields and methods\n",
    "   }\n",
    "\n",
    "**Topics to Explore**:\n",
    "To learn more, you can explore the tabs on the navigation bar to explore additional units within the CollegeBoard curriculum."
   ]
  },
  {
   "cell_type": "code",
   "execution_count": 1,
   "metadata": {},
   "outputs": [
    {
     "name": "stdout",
     "output_type": "stream",
     "text": [
      "As you can see my Car also has the inherited varible hasMovement\n",
      "myCar.hasMovement: true\n"
     ]
    }
   ],
   "source": [
    "public class Vehicle {\n",
    "    float miles = 0;\n",
    "    float milesTraveled(float milesToAdd){\n",
    "        this.miles += milesToAdd;\n",
    "        return this.miles;\n",
    "    }\n",
    "    boolean hasMovement = true;\n",
    "}\n",
    "\n",
    "public class Car extends Vehicle {\n",
    "    boolean canFly = true;\n",
    "}\n",
    "\n",
    "public class Plane extends Vehicle {\n",
    "    boolean canFly = true;\n",
    "}\n",
    "\n",
    "Car myCar = new Car();\n",
    "System.out.println(\"As you can see my Car also has the inherited varible hasMovement\");\n",
    "System.out.println(\"myCar.hasMovement: \"+(new Boolean(myCar.hasMovement)).toString());"
   ]
  }
 ],
 "metadata": {
  "kernelspec": {
   "display_name": "java (IJava/j!)",
   "language": "java",
   "name": "jbang-ijava"
  },
  "language_info": {
   "codemirror_mode": "java",
   "file_extension": ".jshell",
   "mimetype": "text/x-java-source",
   "name": "java",
   "pygments_lexer": "java",
   "version": "17.0.12+8-LTS-286"
  }
 },
 "nbformat": 4,
 "nbformat_minor": 2
}
