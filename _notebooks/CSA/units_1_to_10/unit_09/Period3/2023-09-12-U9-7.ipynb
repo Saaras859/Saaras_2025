{
 "cells": [
  {
   "cell_type": "raw",
   "metadata": {},
   "source": [
    "---\n",
    "layout: post\n",
    "title:  9.7 Object Superclass\n",
    "courses: { csse: {week: 1}, csp: {week: 1}, csa: {week: 1} }\n",
    "categories: [DevOps]\n",
    "permalink: /inheritance/object-superclass\n",
    "menu: nav/inheritance.html\n",
    "comments: true\n",
    "sticky_rank: 1\n",
    "---"
   ]
  },
  {
   "cell_type": "markdown",
   "metadata": {},
   "source": [
    "## Object Superclass"
   ]
  },
  {
   "cell_type": "markdown",
   "metadata": {},
   "source": [
    "Learning Targets: \n",
    "   * What is the *Object* class\n",
    "   * Why is the *Object* class important to remember"
   ]
  },
  {
   "cell_type": "markdown",
   "metadata": {},
   "source": [
    "***"
   ]
  },
  {
   "cell_type": "markdown",
   "metadata": {},
   "source": [
    "Every class and object created **without** the ```extends``` keyword will be implicitly extended from the **[Object Superclass](https://docs.oracle.com/javase/8/docs/api/java/lang/Object.html)**. This means it will inherit some basic methods. Some notable methods are:\n",
    "1. ```getClass()```\n",
    "2. ```toString()```\n",
    "3. ```equals()```"
   ]
  },
  {
   "cell_type": "markdown",
   "metadata": {},
   "source": [
    "### So What?\n",
    "Well its important to keep in mind when writing out your class. If you are planning to have a **method** in your class/object that **matches** the basic **Object**, then it **must** be a ```public override``` because all of the Object methods are public.\n",
    "* are some methods from Object such as **getClass()** that you **cannot** override."
   ]
  },
  {
   "cell_type": "code",
   "execution_count": 9,
   "metadata": {
    "vscode": {
     "languageId": "java"
    }
   },
   "outputs": [],
   "source": [
    "// this will return an error\n",
    "class Shape {\n",
    "    String toString(){\n",
    "        return \"Shape\";\n",
    "    }\n",
    "}"
   ]
  },
  {
   "cell_type": "code",
   "execution_count": 2,
   "metadata": {
    "vscode": {
     "languageId": "java"
    }
   },
   "outputs": [],
   "source": [
    "// this will be fine\n",
    "class Shape{\n",
    "    @Override\n",
    "    public String toString(){\n",
    "        return \"Shape\";\n",
    "    }\n",
    "}"
   ]
  },
  {
   "cell_type": "markdown",
   "metadata": {},
   "source": [
    "## Popcorn Hacks\n",
    "Create an example where you execute an unchanged method from *Object*, then execute a different method from *Object* that you changed."
   ]
  },
  {
   "cell_type": "code",
   "execution_count": 10,
   "metadata": {
    "vscode": {
     "languageId": "java"
    }
   },
   "outputs": [
    {
     "name": "stdout",
     "output_type": "stream",
     "text": [
      "The class of the object is: class REPL.$JShell$13$Champion\n",
      "Custom toString() for Jinx: Champion: Jinx, Role: ADC\n",
      "Custom toString() for Lee Sin: Champion: Lee Sin, Role: Jungle\n"
     ]
    }
   ],
   "source": [
    "class Champion {\n",
    "    private String name;\n",
    "    private String role;\n",
    "\n",
    "    public Champion(String name, String role) {\n",
    "        this.name = name;\n",
    "        this.role = role;\n",
    "    }\n",
    "\n",
    "    @Override\n",
    "    public String toString() {\n",
    "        return \"Champion: \" + name + \", Role: \" + role;\n",
    "    }\n",
    "}\n",
    "\n",
    "public class Main {\n",
    "    public static void main(String[] args) {\n",
    "        Champion jinx = new Champion(\"Jinx\", \"ADC\");\n",
    "        Champion leeSin = new Champion(\"Lee Sin\", \"Jungle\");\n",
    "\n",
    "        System.out.println(\"The class of the object is: \" + jinx.getClass());\n",
    "\n",
    "        System.out.println(\"Custom toString() for Jinx: \" + jinx.toString());\n",
    "\n",
    "        System.out.println(\"Custom toString() for Lee Sin: \" + leeSin.toString());\n",
    "    }\n",
    "}\n",
    "Main.main(null)"
   ]
  }
 ],
 "metadata": {
  "kernelspec": {
   "display_name": "java (IJava/j!)",
   "language": "java",
   "name": "jbang-ijava"
  },
  "language_info": {
   "codemirror_mode": "java",
   "file_extension": ".jshell",
   "mimetype": "text/x-java-source",
   "name": "Java",
   "pygments_lexer": "java",
   "version": "17.0.12+8-LTS-286"
  }
 },
 "nbformat": 4,
 "nbformat_minor": 2
}
