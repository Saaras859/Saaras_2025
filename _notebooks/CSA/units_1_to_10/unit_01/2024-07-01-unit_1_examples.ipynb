{
 "cells": [
  {
   "cell_type": "raw",
   "metadata": {
    "vscode": {
     "languageId": "raw"
    }
   },
   "source": [
    "---\n",
    "layout: post\n",
    "toc: true\n",
    "title: Unit 1 - Primitive & Reference Types Examples\n",
    "description: Primitive & Reference Types Examples\n",
    "authors: Aniket Chakradeo, Soham Kamat\n",
    "menu: nav/CSA_Units/csa_unit1.html\n",
    "type: ccc\n",
    "permalink: /unit1lessonexamples\n",
    "---"
   ]
  },
  {
   "cell_type": "markdown",
   "metadata": {},
   "source": [
    "## Primitive Data Types\n",
    "In your personal blog you should have a comprehensive example that help you recall Primitive Data Types."
   ]
  },
  {
   "cell_type": "code",
   "execution_count": 1,
   "metadata": {
    "vscode": {
     "languageId": "java"
    }
   },
   "outputs": [
    {
     "name": "stdout",
     "output_type": "stream",
     "text": [
      "Byte value: 10\n",
      "Short value: 32000\n",
      "Int value: 123456\n",
      "Long value: 123456789\n",
      "Float value: 3.14\n",
      "Double value: 3.14159\n",
      "Char value: A\n",
      "Boolean value: true\n",
      "Sum of myInt and 1000: 124456\n",
      "Division of myFloat by 2: 1.57\n",
      "Is myByte equal to 10? true\n"
     ]
    }
   ],
   "source": [
    "public class PrimitiveTypesDemo {\n",
    "    public static void main(String[] args) {\n",
    "        // Declare and initialize variables of different primitive types\n",
    "        byte myByte = 10; // 8-bit integer\n",
    "        short myShort = 32000; // 16-bit integer\n",
    "        int myInt = 123456; // 32-bit integer\n",
    "        long myLong = 123456789L; // 64-bit integer\n",
    "\n",
    "        float myFloat = 3.14f; // 32-bit floating-point\n",
    "        double myDouble = 3.14159; // 64-bit floating-point\n",
    "\n",
    "        char myChar = 'A'; // 16-bit Unicode character\n",
    "        boolean myBoolean = true; // true or false\n",
    "\n",
    "        // Perform some operations\n",
    "        int sum = myInt + 1000;\n",
    "        float division = myFloat / 2;\n",
    "        boolean isEqual = myByte == 10;\n",
    "\n",
    "        // Print the results\n",
    "        System.out.println(\"Byte value: \" + myByte);\n",
    "        System.out.println(\"Short value: \" + myShort);\n",
    "        System.out.println(\"Int value: \" + myInt);\n",
    "        System.out.println(\"Long value: \" + myLong);\n",
    "        System.out.println(\"Float value: \" + myFloat);\n",
    "        System.out.println(\"Double value: \" + myDouble);\n",
    "        System.out.println(\"Char value: \" + myChar);\n",
    "        System.out.println(\"Boolean value: \" + myBoolean);\n",
    "\n",
    "        System.out.println(\"Sum of myInt and 1000: \" + sum);\n",
    "        System.out.println(\"Division of myFloat by 2: \" + division);\n",
    "        System.out.println(\"Is myByte equal to 10? \" + isEqual);\n",
    "    }\n",
    "}\n",
    "\n",
    "PrimitiveTypesDemo.main(null);"
   ]
  },
  {
   "cell_type": "markdown",
   "metadata": {},
   "source": [
    "## Refrence Types Examples\n",
    "In your Personal Blog you should create a class that captures key reference type in Java.   In fact, there is at least one common reference type we will be testing on in AP CSA that is not represented below."
   ]
  },
  {
   "cell_type": "code",
   "execution_count": 2,
   "metadata": {
    "vscode": {
     "languageId": "java"
    }
   },
   "outputs": [],
   "source": [
    "class Person {\n",
    "    // Fields (attributes) of the Person class\n",
    "    String name;\n",
    "    int age;\n",
    "\n",
    "    // Constructor to initialize the Person object\n",
    "    Person(String name, int age) {\n",
    "        this.name = name;\n",
    "        this.age = age;\n",
    "    }\n",
    "\n",
    "    // Method to introduce the person\n",
    "    void introduce() {\n",
    "        System.out.println(\"Hello, my name is \" + name + \" and I am \" + age + \" years old.\");\n",
    "    }\n",
    "\n",
    "    // Method to simulate having a birthday\n",
    "    void haveBirthday() {\n",
    "        age++;\n",
    "        System.out.println(\"Happy Birthday! I am now \" + age + \" years old.\");\n",
    "    }\n",
    "}"
   ]
  },
  {
   "cell_type": "code",
   "execution_count": 3,
   "metadata": {
    "vscode": {
     "languageId": "java"
    }
   },
   "outputs": [
    {
     "name": "stdout",
     "output_type": "stream",
     "text": [
      "Hello, my name is John and I am 25 years old.\n",
      "Happy Birthday! I am now 26 years old.\n",
      "Array contents:\n",
      "1\n",
      "2\n",
      "3\n",
      "4\n",
      "5\n",
      "2D array contents:\n",
      "A1 B1 C1 \n",
      "A2 B2 C2 \n",
      "A3 B3 C3 \n"
     ]
    }
   ],
   "source": [
    "public class ReferenceTypesDemo {\n",
    "    public static void main(String[] args) {\n",
    "        // Create an instance of the Person class (a custom reference type)\n",
    "        Person person = new Person(\"John\", 25);\n",
    "\n",
    "        // Call methods on the Person object\n",
    "        person.introduce();\n",
    "        person.haveBirthday();\n",
    "\n",
    "        // Create and initialize an array of integers\n",
    "        int[] numbers = {1, 2, 3, 4, 5};\n",
    "\n",
    "        // Print the contents of the integer array\n",
    "        System.out.println(\"Array contents:\");\n",
    "        for (int number : numbers) {\n",
    "            System.out.println(number);\n",
    "        }\n",
    "\n",
    "        // Create and initialize a 2D array of strings\n",
    "        String[][] matrix = {\n",
    "            {\"A1\", \"B1\", \"C1\"},\n",
    "            {\"A2\", \"B2\", \"C2\"},\n",
    "            {\"A3\", \"B3\", \"C3\"}\n",
    "        };\n",
    "\n",
    "        // Print the contents of the 2D string array\n",
    "        System.out.println(\"2D array contents:\");\n",
    "        for (int i = 0; i < matrix.length; i++) {\n",
    "            for (int j = 0; j < matrix[i].length; j++) {\n",
    "                System.out.print(matrix[i][j] + \" \");\n",
    "            }\n",
    "            System.out.println();\n",
    "        }\n",
    "    }\n",
    "}\n",
    "\n",
    "\n",
    "\n",
    "ReferenceTypesDemo.main(null);"
   ]
  }
 ],
 "metadata": {
  "kernelspec": {
   "display_name": "java (IJava/j!)",
   "language": "java",
   "name": "jbang-ijava"
  },
  "language_info": {
   "codemirror_mode": "java",
   "file_extension": ".jshell",
   "mimetype": "text/x-java-source",
   "name": "Java",
   "pygments_lexer": "java",
   "version": "17.0.12+8-LTS-286"
  }
 },
 "nbformat": 4,
 "nbformat_minor": 2
}
