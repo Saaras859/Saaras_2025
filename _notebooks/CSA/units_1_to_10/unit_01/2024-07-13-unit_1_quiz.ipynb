{
 "cells": [
  {
   "cell_type": "raw",
   "metadata": {
    "vscode": {
     "languageId": "raw"
    }
   },
   "source": [
    "---\n",
    "layout: post\n",
    "title: Quiz Questions for APCSA Unit 1\n",
    "description: Questions and Code Cells for the Quiz on Unit 1\n",
    "categories: [CSA-Quiz]\n",
    "permalink: /csa/units/quiz1\n",
    "menu: nav/CSA_Units/csa_unit1.html\n",
    "author: Soham Kamat & Aniket Chakradeo\n",
    "---"
   ]
  },
  {
   "cell_type": "markdown",
   "metadata": {},
   "source": [
    "## Unit 1: Primitive Types"
   ]
  },
  {
   "cell_type": "markdown",
   "metadata": {},
   "source": [
    "### Question 1\n",
    "\n",
    "Which of the following is a valid declaration of a variable of type int in Java?<br>\n",
    "a) int 123variable;<br>\n",
    "b) int variable123;<br>\n",
    "c) int variable#123;<br>\n",
    "d) int variable 123;\n",
    "\n",
    "Answer: b) int variable123;\n"
   ]
  },
  {
   "cell_type": "code",
   "execution_count": 1,
   "metadata": {
    "vscode": {
     "languageId": "java"
    }
   },
   "outputs": [
    {
     "name": "stdout",
     "output_type": "stream",
     "text": [
      "123\n"
     ]
    }
   ],
   "source": [
    "// Q1 Hack: Define variables according to Java naming conventions.\n",
    "// For instance, is it snake_case, camelCase, or PascalCase?\n",
    "\n",
    "int variable123 = 123;\n",
    "System.out.println(variable123);"
   ]
  },
  {
   "cell_type": "markdown",
   "metadata": {},
   "source": [
    "### Question 2\n",
    "\n",
    "What is the value of the following expression in Java: 5 / 2?<br>\n",
    "a) 2.5<br>\n",
    "b) 3<br>\n",
    "c) 2<br>\n",
    "d) 2.0\n",
    "\n",
    "Answer: c) 2\n"
   ]
  },
  {
   "cell_type": "code",
   "execution_count": 3,
   "metadata": {
    "vscode": {
     "languageId": "java"
    }
   },
   "outputs": [
    {
     "name": "stdout",
     "output_type": "stream",
     "text": [
      "61.5\n"
     ]
    },
    {
     "name": "stdout",
     "output_type": "stream",
     "text": [
      "61.5\n",
      "61\n"
     ]
    }
   ],
   "source": [
    "// Q2.1 Hack: Show in code difference between integer and floating point division.\n",
    "float variable23 = 123;\n",
    "System.out.println(variable23/2);\n",
    "// Q2.2 Hack: Show in code the differnt number types in Java and how they behave.\n",
    "// Behave means definition and assignment.\n",
    "float vriable23 = 123;\n",
    "int vaiable23 = 123;\n",
    "System.out.println(vriable23/2);\n",
    "System.out.println(vaiable23/2);\n"
   ]
  },
  {
   "cell_type": "markdown",
   "metadata": {
    "vscode": {
     "languageId": "raw"
    }
   },
   "source": [
    "### Question 3\n",
    "\n",
    "Which primitive type is used to represent a single character in Java?<br>\n",
    "a) char<br>\n",
    "b) String<br>\n",
    "c) int<br>\n",
    "d) byte\n",
    "\n",
    "Answer: a) char"
   ]
  },
  {
   "cell_type": "code",
   "execution_count": 6,
   "metadata": {
    "vscode": {
     "languageId": "java"
    }
   },
   "outputs": [
    {
     "name": "stdout",
     "output_type": "stream",
     "text": [
      "aA\n"
     ]
    }
   ],
   "source": [
    "// Q3.1 Hack: Show in code all the the non-number Java primitive data types and how they behave.]\n",
    "char a='a';\n",
    "String b=\"A\";\n",
    "// Q3.2 Hack: Show in code the String data type and how it behaves.\\\\\n",
    "System.out.println(a+b);\n"
   ]
  },
  {
   "cell_type": "markdown",
   "metadata": {},
   "source": [
    "### Question 4\n",
    "\n",
    "Answer the following questions based on the code cell:\n",
    "* a) What kind of types are person1 and person2? \n",
    "* Answer: object\n",
    "* b) Do person1 and person3 point to the same value in memory?\n",
    "* Answer: yes\n",
    "* c) Is the integer \"number\" stored in the heap or in the stack?\n",
    "* Answer: stack\n",
    "* d) Is the value that \"person1\" points to stored in the heap or in the stack?\n",
    "* Answer: heap"
   ]
  },
  {
   "cell_type": "code",
   "execution_count": null,
   "metadata": {
    "vscode": {
     "languageId": "java"
    }
   },
   "outputs": [],
   "source": [
    "public class Person {\n",
    "    String name;\n",
    "    int age;\n",
    "    int height;\n",
    "    String job;\n",
    "\n",
    "    public Person(String name, int age, int height, String job) {\n",
    "        this.name = name;\n",
    "        this.age = age;\n",
    "        this.height = height;\n",
    "        this.job = job;\n",
    "    }\n",
    "}\n",
    "\n",
    "public static void main(String[] args) {\n",
    "    Person person1 = new Person(\"Carl\", 25, 165, \"Construction Worker\");\n",
    "    Person person2 = new Person(\"Adam\", 29, 160, \"Truck Driver\");\n",
    "    Person person3 = person1;\n",
    "    int number = 16;\n",
    "    System.out.println(number);\n",
    "}\n",
    "main(null); // This is required in Jupiter Notebook to run the main method."
   ]
  },
  {
   "cell_type": "markdown",
   "metadata": {},
   "source": [
    "### Question 5 \n",
    "\n",
    "(a) Define primitive types and reference types in Java. The application is for banking, where you need to represent customer information.\n",
    "\n",
    "(b) Add comments for primitive types and reference types. In terms of memory allocation, discuss concepts like instance, stack, and heap where it adds value.\n",
    "\n",
    "(c) To assist in requirements, here are some required elements:\n",
    "- Create multiple customers from the `public class Account`.\n",
    "- Consider key class variables that a Bank may require: `name`, `balance`, `accountNumber`.\n",
    "- Create a two argument constructor using `name` and `balance`.\n",
    "- Consider in constructor how you will create a unique account number using `static int lastAccountNumber`\n",
    "- Define a method `calculateInterest` that works with getting and setting `double balance` using `private static double interestRate`."
   ]
  },
  {
   "cell_type": "code",
   "execution_count": 11,
   "metadata": {
    "vscode": {
     "languageId": "java"
    }
   },
   "outputs": [
    {
     "name": "stdout",
     "output_type": "stream",
     "text": [
      "Account Number: 1001\n",
      "Name: Alice\n",
      "Balance: 1000.0\n",
      "Account Number: 1002\n",
      "Name: Bob\n",
      "Balance: 1500.0\n",
      "Updated balance for customer1: 1020.0\n"
     ]
    }
   ],
   "source": [
    "public class Account {\n",
    "    // Fields representing customer data\n",
    "    String name;  // Reference type: stored in heap\n",
    "    double balance;  // Primitive type: double stored in heap\n",
    "    int accountNumber;  // Primitive type: int stored in heap\n",
    "\n",
    "    // Static field to manage unique account numbers across all customers\n",
    "    private static int lastAccountNumber = 1000;  // Class-level static variable\n",
    "\n",
    "    // Static field for a global interest rate, applicable to all accounts\n",
    "    private static double interestRate = 0.02;  // Interest rate shared across instances\n",
    "\n",
    "    // Constructor to initialize new customers with a name and starting balance\n",
    "    public Account(String name, double balance) {\n",
    "        this.name = name;\n",
    "        this.balance = balance;\n",
    "        this.accountNumber = ++lastAccountNumber;  // Ensures unique account numbers\n",
    "    }\n",
    "\n",
    "    // Method to calculate interest on the balance\n",
    "    public void calculateInterest() {\n",
    "        double interest = this.balance * interestRate;  // Calculates interest\n",
    "        this.balance += interest;  // Adds interest to the balance\n",
    "    }\n",
    "\n",
    "    // Getter for balance\n",
    "    public double getBalance() {\n",
    "        return this.balance;\n",
    "    }\n",
    "\n",
    "    // Setter for balance\n",
    "    public void setBalance(double balance) {\n",
    "        this.balance = balance;\n",
    "    }\n",
    "\n",
    "    // Method to display the account information\n",
    "    public void displayAccountInfo() {\n",
    "        System.out.println(\"Account Number: \" + this.accountNumber);\n",
    "        System.out.println(\"Name: \" + this.name);\n",
    "        System.out.println(\"Balance: \" + this.balance);\n",
    "    }\n",
    "\n",
    "    public static void main(String[] args) {\n",
    "        // Creating multiple customer accounts\n",
    "        Account customer1 = new Account(\"Alice\", 1000.00);\n",
    "        Account customer2 = new Account(\"Bob\", 1500.00);\n",
    "        \n",
    "        // Displaying account info\n",
    "        customer1.displayAccountInfo();\n",
    "        customer2.displayAccountInfo();\n",
    "        \n",
    "        // Calculating interest and displaying updated balance\n",
    "        customer1.calculateInterest();\n",
    "        System.out.println(\"Updated balance for customer1: \" + customer1.getBalance());\n",
    "    }\n",
    "}\n",
    "Account.main(null)"
   ]
  }
 ],
 "metadata": {
  "kernelspec": {
   "display_name": "java (IJava/j!)",
   "language": "java",
   "name": "jbang-ijava"
  },
  "language_info": {
   "codemirror_mode": "java",
   "file_extension": ".jshell",
   "mimetype": "text/x-java-source",
   "name": "Java",
   "pygments_lexer": "java",
   "version": "17.0.12+8-LTS-286"
  }
 },
 "nbformat": 4,
 "nbformat_minor": 2
}
