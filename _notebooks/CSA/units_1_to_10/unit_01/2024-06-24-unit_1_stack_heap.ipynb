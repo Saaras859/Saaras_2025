{
 "cells": [
  {
   "cell_type": "raw",
   "metadata": {
    "vscode": {
     "languageId": "raw"
    }
   },
   "source": [
    "---\n",
    "layout: post\n",
    "toc: true\n",
    "title: Unit 1 - Stack & Heap Memory \n",
    "description: An overview of stack and heap memory in Java\n",
    "authors: Aniket Chakradeo, Soham Kamat\n",
    "menu: nav/CSA_Units/csa_unit1.html\n",
    "permalink: /csa/unit1/stack_heap\n",
    "---"
   ]
  },
  {
   "cell_type": "markdown",
   "metadata": {},
   "source": [
    "## Memory Allocation: Stack and Heap\n",
    "\n",
    "In Java, memory allocation for variables occurs in two main areas: the stack and the heap."
   ]
  },
  {
   "cell_type": "markdown",
   "metadata": {},
   "source": [
    "### Stack Memory\n",
    "\n",
    "Stack memory is a region of memory that stores temporary variables created by each function (including the main function). It is managed by the execution stack and follows a last-in-first-out (LIFO) order.\n",
    "\n",
    "- Stores primitive data types and references to objects.\n",
    "- Memory is allocated in a last-in-first-out (LIFO) manner.\n",
    "- Each thread has its own stack, ensuring thread safety.\n",
    "\n",
    "Example:\n",
    "```java\n",
    "int number = 100; // Stored in the stack\n",
    "```\n",
    "\n",
    "\n",
    "#### Stack Variables Tips\n",
    "\n",
    "College Board often asks questions about stack usage.\n",
    "\n",
    "- Since primitives are always on the stack, they point directly to the content. This is best observed in a debugger.\n",
    "- A reference type contains an address to the content on the stack.\n",
    "- Passing a stack variable to a method creates a copy of the content of that variable.\n",
    "- Changes to the content of a primitive type will not return back to the method caller; this is called pass-by-value.\n",
    "- Since a reference type contains an address to the heap, the reference is copied when calling a method. This is called pass-by-reference, as data type changes are then performed according to the reference.\n"
   ]
  },
  {
   "cell_type": "markdown",
   "metadata": {},
   "source": [
    "### Heap Memory\n",
    "\n",
    "Heap memory is a region of memory used for dynamic memory allocation. It is managed by Java's memory management system.\n",
    "\n",
    "- Used for storing objects and arrays.\n",
    "- Shared among all threads, requiring synchronization for thread safety.\n",
    "- Managed by the garbage collector, which reclaims memory when objects are no longer in use.\n",
    "\n",
    "Example:\n",
    "```java\n",
    "// Long form showing new\n",
    "String message = new String(\"Hello\");\n",
    "\n",
    "// Short form Java performs new find the scenes\n",
    "String message = \"Hello\";\n",
    "```\n",
    "\n",
    "### Heap Variables Tips\n",
    "\n",
    "- Heap variables stay alive as long as a stack variable points to them.\n",
    "- By nature, all reference data types refer to an address on the stack but change content on the heap.\n",
    "- Objects created in the heap are globally accessible and can be shared among multiple methods, this creates concurrency issues when programming.\n",
    "- The garbage collector automatically reclaims memory from objects that are no longer referenced, helping to prevent memory leaks."
   ]
  },
  {
   "cell_type": "markdown",
   "metadata": {},
   "source": [
    "## Popcorn Hack: literal vs input\n",
    "\n",
    "A value that is directly in code is called a literal.  Often developers will say this value is hard coded value.\n",
    "- Literal: In source code representation of a fixed value, e.g. 17. A hard coded number.\n",
    "- String Literal: In sourced code set of letters within quotes, e.g. \"blue\", A hard coded string.\n",
    "\n",
    "Q1: Define some literal data.\n",
    "Q2: Obtain that data from input versus hard coded."
   ]
  },
  {
   "cell_type": "code",
   "execution_count": 1,
   "metadata": {
    "vscode": {
     "languageId": "java"
    }
   },
   "outputs": [],
   "source": [
    "// Hard code literal values\n",
    "\n",
    "int literalAge = 17;\n",
    "String literalFavoriteColor = \"blue\";"
   ]
  },
  {
   "cell_type": "code",
   "execution_count": 2,
   "metadata": {
    "vscode": {
     "languageId": "java"
    }
   },
   "outputs": [
    {
     "name": "stdout",
     "output_type": "stream",
     "text": [
      "Enter age\n",
      "My Age is: 24\n"
     ]
    }
   ],
   "source": [
    "// Input your age\n",
    "Scanner scanObj = new Scanner(System.in);  // Create a Scanner object\n",
    "System.out.println(\"Enter age\");\n",
    "int inputAge = scanObj.nextInt();  // Read user input\n",
    "System.out.println(\"My Age is: \" + inputAge);  // Output user input"
   ]
  },
  {
   "cell_type": "markdown",
   "metadata": {},
   "source": [
    "## Popcorn Hack: pass-by-value, pass-by-reference\n",
    "For College Articulation in Data Structures and College Board AP Exam you will need to understand pass-by-value and pass-br-reference.  \n",
    "\n",
    "- If you pass primitives to a method they WILL NOT change the callers value.\n",
    "- If you wrap the primitive in a refrence type, in the example below using a class, then you can change the original.\n",
    "\n",
    "Q1: Describe approache difference between IntByValue and IntByReference.\n",
    "Q2: Try to make a changeInt method that change would persist after it is called.  Be careful, this will require a change in approach. "
   ]
  },
  {
   "cell_type": "markdown",
   "metadata": {},
   "source": [
    "## When you pass a primitive type (like int) to a method, Java creates a copy of that value. This means any changes made inside the method do not affect the original variable in the calling method. The method changeInt in your example only modifies the copy of n, so the original value of n in the main method remains unchanged.\n",
    "\n",
    "\n",
    "## To actually change the original value, you need to pass an object reference instead of a primitive. Java doesn't support true \"pass-by-reference,\" but when you pass an object, you are passing the reference to that object. Changes made to the object's fields or properties inside the method will reflect in the original object since the reference to the object remains the same."
   ]
  },
  {
   "cell_type": "code",
   "execution_count": 3,
   "metadata": {
    "vscode": {
     "languageId": "java"
    }
   },
   "outputs": [
    {
     "name": "stdout",
     "output_type": "stream",
     "text": [
      "Main method before changeInt(n): n = 5\n",
      "In changeInt method\n",
      "\tBefore n += 10: n = 5\n",
      "\tAfter n += 10: n = 15\n",
      "Main method after changeInt(n): n = 5\n"
     ]
    }
   ],
   "source": [
    "public class IntByValue {\n",
    "    \n",
    "    public static void changeInt(int n) {\n",
    "        System.out.println(\"In changeInt method\");\n",
    "        System.out.println(\"\\tBefore n += 10: n = \" + n); // prints 5\n",
    "        n = n += 10;\n",
    "        System.out.println(\"\\tAfter n += 10: n = \" + n); // prints 10\n",
    "    }\n",
    "\n",
    "    public static void main(String[] args) {\n",
    "        int n = 5;\n",
    "        System.out.println(\"Main method before changeInt(n): n = \" + n); // prints 5\n",
    "        changeInt(n);\n",
    "        System.out.println(\"Main method after changeInt(n): n = \" + n); // still prints 5\n",
    "    }\n",
    "}\n",
    "IntByValue.main(null);"
   ]
  },
  {
   "cell_type": "code",
   "execution_count": 4,
   "metadata": {
    "vscode": {
     "languageId": "java"
    }
   },
   "outputs": [
    {
     "name": "stdout",
     "output_type": "stream",
     "text": [
      "Before: 21 16\n",
      "After: 16 21\n",
      "\n",
      "Before: 16 21\n",
      "After: 16 21\n",
      "\n",
      "Before: 16 -1\n",
      "After: -1 16\n",
      "\n"
     ]
    }
   ],
   "source": [
    "public class IntByReference {\n",
    "    private int value;\n",
    "\n",
    "    public IntByReference(Integer value) {\n",
    "        this.value = value;\n",
    "    }\n",
    "\n",
    "    public String toString() {\n",
    "        return (String.format(\"%d\", this.value));\n",
    "    }\n",
    "\n",
    "    public void swapToLowHighOrder(IntByReference i) {\n",
    "        if (this.value > i.value) {\n",
    "            int tmp = this.value;\n",
    "            this.value = i.value;\n",
    "            i.value = tmp;\n",
    "        }\n",
    "    }\n",
    "\n",
    "    public static void swapper(int n0, int n1) {\n",
    "        IntByReference a = new IntByReference(n0);\n",
    "        IntByReference b = new IntByReference(n1);\n",
    "        System.out.println(\"Before: \" + a + \" \" + b);\n",
    "        a.swapToLowHighOrder(b);  // conditionally build swap method to change values of a, b\n",
    "        System.out.println(\"After: \" + a + \" \" + b);\n",
    "        System.out.println();\n",
    "    }\n",
    "\n",
    "    public static void main(String[] ags) {\n",
    "        IntByReference.swapper(21, 16);\n",
    "        IntByReference.swapper(16, 21);\n",
    "        IntByReference.swapper(16, -1);\n",
    "    }\n",
    "\n",
    "}\n",
    "IntByReference.main(null);"
   ]
  }
 ],
 "metadata": {
  "kernelspec": {
   "display_name": "java (IJava/j!)",
   "language": "java",
   "name": "jbang-ijava"
  },
  "language_info": {
   "codemirror_mode": "java",
   "file_extension": ".jshell",
   "mimetype": "text/x-java-source",
   "name": "Java",
   "pygments_lexer": "java",
   "version": "17.0.12+8-LTS-286"
  }
 },
 "nbformat": 4,
 "nbformat_minor": 2
}
