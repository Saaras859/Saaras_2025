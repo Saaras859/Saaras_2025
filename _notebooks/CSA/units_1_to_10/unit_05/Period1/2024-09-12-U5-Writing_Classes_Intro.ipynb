{
 "cells": [
  {
   "cell_type": "raw",
   "metadata": {
    "vscode": {
     "languageId": "raw"
    }
   },
   "source": [
    "---\n",
    "layout: post\n",
    "comments: true\n",
    "title: Unit 5 - Writing Classes P1 \n",
    "courses: {'csa': {'week': 6}}\n",
    "type: ccc\n",
    "permalink: csa/period1/unit5/intro\n",
    "menu: nav/CSA_Units/csa_unit5_p1.html\n",
    "author: Nisarg, Imaad, Tanay, Dinesh\n",
    "---"
   ]
  },
  {
   "cell_type": "markdown",
   "metadata": {},
   "source": [
    "# What will we be teaching?\n",
    "We will be teaching Unit 5, Writing Classes. We will explore the anatomy of a class, fields, methods, and constructors. We will learn how constructors initialize objects and the different types, how mutators (setters) modify object properties, and how static variables belong to the class rather than any instance. By the end, there will be a solid understanding of how to create and manage objects efficiently in Java\n",
    "\n",
    "# Unit 5 Topics For Learning:\n",
    "- 5.1 Anatomy of a Class\n",
    "- 5.2 Constructors \n",
    "- 5.4 Accessor Methods\n",
    "- 5.5 Mutator \n",
    "- 5.7 Static Variables and Methods \n",
    "\n",
    "# Why do we need to write classes?\n",
    "Writing classes in Java is essential because it allows you to organize your code into reusable, modular components. Think of a class as a blueprint for creating objects. Without classes, your code would be cluttered and difficult to manage, especially as projects grow larger. Why not just write all your code in one place? Well, that would make it hard to maintain and update, leading to errors and inefficiency. Classes enable you to encapsulate data and behavior, making your code more flexible, scalable, and easier to troubleshoot. This structured approach is key for building complex, real-world applications.\n",
    "\n",
    "# Homework Assignment: Constructors, Mutators, Accessors, and Static Variables in Java\n",
    "\n",
    "## Objective:\n",
    "Create a `BankAccount` class to practice working with constructors, mutators (setters), accessors (getters), and static variables in Java.\n",
    "\n",
    "## Instructions:\n",
    "\n",
    "### Class: `BankAccount`\n",
    "- **Instance Variables:**\n",
    "  - `String accountHolderName`\n",
    "  - `double balance`\n",
    "- **Static Variable:**\n",
    "  - `static int totalAccounts` (tracks the number of accounts created)\n",
    "\n",
    "### Constructors:\n",
    "- **Default constructor:** Sets `accountHolderName` to `\"Unknown\"` and `balance` to `0.0`.\n",
    "- **Parameterized constructor:** Accepts `accountHolderName` and `balance` as parameters.\n",
    "- Both constructors should increment `totalAccounts`.\n",
    "\n",
    "### Mutator Methods:\n",
    "- `void setAccountHolderName(String name)`: Updates the account holder's name.\n",
    "- `void deposit(double amount)`: Adds money to the balance.\n",
    "- `void withdraw(double amount)`: Subtracts money from the balance (if funds are available).\n",
    "\n",
    "### Accessor Methods:\n",
    "- `String getAccountHolderName()`: Returns the account holder's name.\n",
    "- `double getBalance()`: Returns the account balance.\n",
    "- `static int getTotalAccounts()`: Returns the total number of accounts created.\n",
    "\n",
    "### Main Program (`BankApp`):\n",
    "- Create three `BankAccount` objects.\n",
    "- Modify account holder names and balances using setters.\n",
    "- Print account details using getters.\n",
    "- Display the total number of accounts created.\n",
    "\n",
    "### Example Output:\n",
    "\n",
    "```\n",
    "Account Holder: Alice  \n",
    "Balance: 500.0\n",
    "\n",
    "Account Holder: Bob  \n",
    "Balance: 1000.0\n",
    "\n",
    "Account Holder: Charlie  \n",
    "Balance: 750.0\n",
    "\n",
    "Total number of accounts created: 3\n",
    "```\n",
    "\n",
    "### Submission:\n",
    "Submit a Jupyter Notebook file containing your final code."
   ]
  },
  {
   "cell_type": "code",
   "execution_count": 21,
   "metadata": {
    "vscode": {
     "languageId": "java"
    }
   },
   "outputs": [
    {
     "name": "stdout",
     "output_type": "stream",
     "text": [
      "Account 1 (Saaras) has 5100.00 Balance \n",
      "Account 2 (Hanlun) has 1100.00 Balance \n",
      "Account 3 (Hanlun) has 79510.00 Balance \n",
      "Total of 6 Accounts\n"
     ]
    },
    {
     "data": {
      "text/plain": [
       "java.io.PrintStream@644dd3e3"
      ]
     },
     "execution_count": 21,
     "metadata": {},
     "output_type": "execute_result"
    }
   ],
   "source": [
    "public class BankAccount {\n",
    "    private String holderName; // Changed from accountHolderName to holderName\n",
    "    private double currentBalance; // Changed from balance to currentBalance\n",
    "    private static int accountCount = 0; // Changed from totalAccounts to accountCount\n",
    "\n",
    "    public void setHolderName(String name) {\n",
    "        holderName = name; // Updated to match new variable name\n",
    "    }\n",
    "\n",
    "    public void deposit(double amount) {\n",
    "        currentBalance += amount; // Updated to match new variable name\n",
    "    }\n",
    "\n",
    "    public void withdraw(double amount) {\n",
    "        currentBalance -= amount; // Updated to match new variable name\n",
    "    }\n",
    "\n",
    "    public String getHolderName() { // Updated to match new variable name\n",
    "        return holderName; // Updated to match new variable name\n",
    "    }\n",
    "\n",
    "    public double getCurrentBalance() { // Changed from getBalance to getCurrentBalance\n",
    "        return currentBalance; // Updated to match new variable name\n",
    "    }\n",
    "\n",
    "    public static int getAccountCount() { // Changed from getTotalAccounts to getAccountCount\n",
    "        return accountCount; // Updated to match new variable name\n",
    "    }\n",
    "\n",
    "    public BankAccount(String holderName, double currentBalance) { // Updated to match new variable names\n",
    "        this.holderName = holderName;\n",
    "        this.currentBalance = currentBalance;\n",
    "        accountCount++; // Updated to match new variable name\n",
    "    }\n",
    "}\n",
    "\n",
    "// Creating instances of BankAccount\n",
    "BankAccount account1 = new BankAccount(\"Saaras\", 5000);\n",
    "BankAccount account2 = new BankAccount(\"Hanlun\", 1200.0); // Fixed name typo\n",
    "BankAccount account3 = new BankAccount(\"Arthur\", 79510.0);\n",
    "\n",
    "// Performing transactions\n",
    "account1.deposit(100.0);\n",
    "account2.withdraw(100.0);\n",
    "account3.setHolderName(\"Hanlun\");\n",
    "\n",
    "// Displaying account details\n",
    "// Displaying account details\n",
    "System.out.printf(\"Account 1 (%s) has %.2f Balance \\n\", account1.getHolderName(), account1.getCurrentBalance());\n",
    "System.out.printf(\"Account 2 (%s) has %.2f Balance \\n\", account2.getHolderName(), account2.getCurrentBalance());\n",
    "System.out.printf(\"Account 3 (%s) has %.2f Balance \\n\", account3.getHolderName(), account3.getCurrentBalance());\n",
    "System.out.printf(\"Total of %d Accounts\\n\", BankAccount.getAccountCount());\n"
   ]
  }
 ],
 "metadata": {
  "kernelspec": {
   "display_name": "java (IJava/j!)",
   "language": "java",
   "name": "jbang-ijava"
  },
  "language_info": {
   "codemirror_mode": "java",
   "file_extension": ".jshell",
   "mimetype": "text/x-java-source",
   "name": "Java",
   "pygments_lexer": "java",
   "version": "17.0.12+8-LTS-286"
  }
 },
 "nbformat": 4,
 "nbformat_minor": 2
}
