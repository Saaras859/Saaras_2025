{
 "cells": [
  {
   "cell_type": "raw",
   "metadata": {
    "vscode": {
     "languageId": "raw"
    }
   },
   "source": [
    "---\n",
    "layout: post\n",
    "title: Unit 3 Team Teach - 3.5 Compound Booleans \n",
    "description: Unit 3 Team Teach\n",
    "comments: true\n",
    "menu: nav/CSA_Units/csa_unit3_p1.html\n",
    "permalink: /csa/unit3-p1/unit3-5\n",
    "author: Alisha Hussain, Anika Bhatnagar, Kayden Le, Sharon Kodali\n",
    "---"
   ]
  },
  {
   "cell_type": "markdown",
   "metadata": {},
   "source": [
    "# 3.5 Compund Boolean expressions \n",
    "## Nested conditional statements \n",
    "\n",
    "<a id=\"conditional-statements\"></a>\n",
    "\n",
    "definition: if statements within other if statements "
   ]
  },
  {
   "cell_type": "code",
   "execution_count": 2,
   "metadata": {},
   "outputs": [
    {
     "name": "stdout",
     "output_type": "stream",
     "text": [
      "You are an adult and a student.\n"
     ]
    }
   ],
   "source": [
    "\n",
    "        int age = 20;\n",
    "        boolean isStudent = true;\n",
    "\n",
    "        // Outer if-else block\n",
    "        if (age >= 18) {\n",
    "            // Nested if-else block inside the first condition\n",
    "            if (isStudent) {\n",
    "                System.out.println(\"You are an adult and a student.\");\n",
    "            } else {\n",
    "                System.out.println(\"You are an adult.\");\n",
    "            }\n",
    "        } else {\n",
    "            System.out.println(\"You are not an adult.\");\n",
    "        }\n",
    "    "
   ]
  },
  {
   "cell_type": "markdown",
   "metadata": {},
   "source": [
    "# Simple Example of a Nested Conditional Statement\n",
    "\n",
    "Let's look at a **very basic** example of a nested conditional statement using `if-else` blocks. \n",
    "\n",
    "### Scenario:\n",
    "We want to check if a person is an adult and, if they are, we want to know if they are also a student."
   ]
  },
  {
   "cell_type": "markdown",
   "metadata": {},
   "source": [
    "# Compound Conditional Statement\n",
    "\n",
    "A **compound conditional statement** is when two or more conditions are combined into a single `if` statement using **logical operators** like `&&` (AND), `||` (OR), or `!` (NOT). This allows us to check multiple conditions at once without needing to nest `if` statements.\n",
    "\n",
    "### Logical Operators:\n",
    "- `&&` (AND): True if **both** conditions are true.\n",
    "- `||` (OR): True if **at least one** condition is true.\n",
    "- `!` (NOT): Reverses the result of a condition (true becomes false, and false becomes true).\n",
    "\n",
    "### Example of a Compound Conditional Statement\n",
    "\n",
    "Let's say we want to check if a person is an **adult** and **a student** at the same time. Instead of using a nested `if` statement, we can use a compound conditional statement."
   ]
  },
  {
   "cell_type": "code",
   "execution_count": 3,
   "metadata": {},
   "outputs": [
    {
     "name": "stdout",
     "output_type": "stream",
     "text": [
      "You are an adult and a student.\n"
     ]
    }
   ],
   "source": [
    "\n",
    "        int age = 20;\n",
    "        boolean isStudent = true;\n",
    "\n",
    "        // Compound conditional using && (AND)\n",
    "        if (age >= 18 && isStudent) {\n",
    "            System.out.println(\"You are an adult and a student.\");\n",
    "        } else {\n",
    "            System.out.println(\"Either you are not an adult, or you are not a student.\");\n",
    "        }\n",
    "   "
   ]
  },
  {
   "cell_type": "markdown",
   "metadata": {},
   "source": [
    "### common mistake: Dangling else \n",
    "    - Java does not care about indentation\n",
    "    - else always belongs to the CLOSEST if\n",
    "    - curly braces can be use to format else so it belongs to the FIRST 'if'\n",
    "\n",
    "### Popcorn hack\n",
    "- explain the purpose of this algorithm, and what each if condition is used for\n",
    "- what would be output if input is \n",
    "    - age 20\n",
    "    - anual income 1500\n",
    "    - student status: yes"
   ]
  },
  {
   "cell_type": "code",
   "execution_count": 10,
   "metadata": {},
   "outputs": [
    {
     "name": "stdout",
     "output_type": "stream",
     "text": [
      "Enter your age: "
     ]
    },
    {
     "name": "stdout",
     "output_type": "stream",
     "text": [
      "Enter your annual income: Are you a student? (yes/no): Membership Results:\n",
      "You are eligible for a Student Discount.\n"
     ]
    }
   ],
   "source": [
    "import java.util.ArrayList;\n",
    "import java.util.Scanner;\n",
    "\n",
    "\n",
    "\n",
    "        // Create a Scanner object for user input\n",
    "        Scanner scanner = new Scanner(System.in);\n",
    "\n",
    "        // Get user input\n",
    "        System.out.print(\"Enter your age: \");\n",
    "        int age = scanner.nextInt();  // Example: 20\n",
    "        \n",
    "        System.out.print(\"Enter your annual income: \");\n",
    "        double income = scanner.nextDouble();  // Example: 1500\n",
    "        \n",
    "        System.out.print(\"Are you a student? (yes/no): \");\n",
    "        String isStudentInput = scanner.next().toLowerCase();  // Example: yes\n",
    "        boolean isStudent = isStudentInput.equals(\"yes\");\n",
    "\n",
    "        // Initialize an empty ArrayList to hold results\n",
    "        ArrayList<String> results = new ArrayList<>();\n",
    "\n",
    "        // Check eligibility for different memberships\n",
    "\n",
    "        // Basic Membership\n",
    "        if (age >= 18 && income >= 20000) {\n",
    "            results.add(\"You qualify for Basic Membership.\");\n",
    "        }\n",
    "\n",
    "        // Premium Membership\n",
    "        if (age >= 25 && income >= 50000) {\n",
    "            results.add(\"You qualify for Premium Membership.\");\n",
    "        }\n",
    "\n",
    "        // Student Discount\n",
    "        if (isStudent) {\n",
    "            results.add(\"You are eligible for a Student Discount.\");\n",
    "        }\n",
    "\n",
    "        // Senior Discount\n",
    "        if (age >= 65) {\n",
    "            results.add(\"You qualify for a Senior Discount.\");\n",
    "        }\n",
    "\n",
    "        // If no eligibility, provide a default message\n",
    "        if (results.isEmpty()) {\n",
    "            results.add(\"You do not qualify for any memberships or discounts.\");\n",
    "        }\n",
    "\n",
    "        // Output all results\n",
    "        System.out.println(\"Membership Results:\");\n",
    "        for (String result : results) {\n",
    "            System.out.println(result);\n",
    "        }\n",
    "    \n",
    "\n"
   ]
  },
  {
   "cell_type": "markdown",
   "metadata": {},
   "source": [
    "## Popcorn Hack #2\n",
    "- Write a program that checks if a person can get a discount based on their age and student status. You can define your own discount criteria! Use compound conditionals to determine the output.\n",
    "\n",
    "## I just tweaked the values from above(Anika was the source)"
   ]
  },
  {
   "cell_type": "code",
   "execution_count": null,
   "metadata": {},
   "outputs": [],
   "source": [
    "import java.util.ArrayList;\n",
    "import java.util.Scanner;\n",
    "\n",
    "Scanner scanner = new Scanner(System.in);\n",
    "\n",
    "System.out.print(\"Enter your age: \");\n",
    "int age = scanner.nextInt();\n",
    "\n",
    "System.out.print(\"Enter your annual income: \");\n",
    "double income = scanner.nextDouble();  \n",
    "\n",
    "System.out.print(\"Are you a student? (yes/no): \");\n",
    "String isStudentInput = scanner.next().toLowerCase();  \n",
    "boolean isStudent = isStudentInput.equals(\"yes\");\n",
    "\n",
    "ArrayList<String> results = new ArrayList<>();\n",
    "\n",
    "// Adjusted the income threshold for Basic Membership\n",
    "if (age >= 18 && income >= 15000) {\n",
    "    results.add(\"You qualify for Basic Membership.\");\n",
    "}\n",
    "\n",
    "// Adjusted both age and income thresholds for Premium Membership\n",
    "if (age >= 30 && income >= 60000) {\n",
    "    results.add(\"You qualify for Premium Membership.\");\n",
    "}\n",
    "\n",
    "// Added a check for students\n",
    "if (isStudent && age < 25) {\n",
    "    results.add(\"You are eligible for a Student Discount.\");\n",
    "}\n",
    "\n",
    "// Adjusted the senior discount age threshold\n",
    "if (age >= 60) {\n",
    "    results.add(\"You qualify for a Senior Discount.\");\n",
    "}\n",
    "\n",
    "// If no results, print a default message\n",
    "if (results.isEmpty()) {\n",
    "    results.add(\"You do not qualify for any memberships or discounts.\");\n",
    "}\n",
    "\n",
    "// Output all results\n",
    "System.out.println(\"Membership Results:\");\n",
    "for (String result : results) {\n",
    "    System.out.println(result);\n",
    "}\n"
   ]
  }
 ],
 "metadata": {
  "kernelspec": {
   "display_name": "java (IJava/j!)",
   "language": "java",
   "name": "jbang-ijava"
  },
  "language_info": {
   "codemirror_mode": "java",
   "file_extension": ".jshell",
   "mimetype": "text/x-java-source",
   "name": "java",
   "pygments_lexer": "java",
   "version": "17.0.12+8-LTS-286"
  }
 },
 "nbformat": 4,
 "nbformat_minor": 2
}
