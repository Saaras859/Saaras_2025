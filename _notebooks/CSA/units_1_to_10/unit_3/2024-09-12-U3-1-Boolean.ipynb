{
 "cells": [
  {
   "cell_type": "raw",
   "metadata": {
    "vscode": {
     "languageId": "raw"
    }
   },
   "source": [
    "---\n",
    "layout: post\n",
    "comments: true\n",
    "title: Unit 3 Boolean Expressions - 3.1\n",
    "description: Unit 3 Team Teach\n",
    "categories: [AP CSA]\n",
    "menu: nav/CSA_Units/csa_unit3_p1.html\n",
    "permalink: /csa/unit3-p1/unit3-1\n",
    "author: Alisha Hussain, Anika Bhatnagar, Kayden Le, Sharon Kodali\n",
    "---"
   ]
  },
  {
   "cell_type": "markdown",
   "metadata": {},
   "source": [
    "# 3.1 Boolean Expressions\n",
    "\n",
    "<a id=\"boolean-expressions\"></a>\n",
    "\n",
    "## Java's relational operators\n",
    "\n",
    "- equal to: ==\n",
    "- not equal to: !=\n",
    "- less than: <\n",
    "- greater than: >\n",
    "- less than or equal to: <=\n",
    "- greater than or equal to >="
   ]
  },
  {
   "cell_type": "markdown",
   "metadata": {},
   "source": [
    "<b>Hack!</b>\n",
    "\n",
    "```\n",
    "int myAge = 15;\n",
    "int otherAge = 45; \n",
    "```\n",
    "using these integers, determine weather the following statements are True or False\n",
    "\n",
    "<img width=\"785\" alt=\"Screenshot 2024-09-15 at 10 00 54 PM\" src=\"https://github.com/user-attachments/assets/1f4ec53e-fd9a-4f49-9546-a4945b8a207c\">\n",
    "\n",
    "## Strings"
   ]
  },
  {
   "cell_type": "markdown",
   "metadata": {},
   "source": [
    "## popcorn hack \n",
    "whats wrong with this code? (below)"
   ]
  },
  {
   "cell_type": "code",
   "execution_count": 3,
   "metadata": {
    "vscode": {
     "languageId": "java"
    }
   },
   "outputs": [
    {
     "data": {
      "text/plain": [
       "true"
      ]
     },
     "execution_count": 3,
     "metadata": {},
     "output_type": "execute_result"
    }
   ],
   "source": [
    "\n",
    "String myName = \"Alisha\";\n",
    "\n",
    "myName != \"Anika\";\n",
    "myName == \"Alisha\";"
   ]
  },
  {
   "cell_type": "markdown",
   "metadata": {},
   "source": [
    "comparison of string objects should be done using String methods, NOT integer methods. \n",
    "\n",
    "- .equal\n",
    "- compare to"
   ]
  },
  {
   "cell_type": "code",
   "execution_count": 4,
   "metadata": {
    "vscode": {
     "languageId": "java"
    }
   },
   "outputs": [
    {
     "name": "stdout",
     "output_type": "stream",
     "text": [
      "True\n"
     ]
    }
   ],
   "source": [
    "String myName = \"Alisha\";\n",
    "boolean areNamesEqual = myName.equals(\"Alisha\");  \n",
    "\n",
    "if (areNamesEqual) {\n",
    "    System.out.println(\"True\");\n",
    "} else {\n",
    "    System.out.println(\"False\");\n",
    "}\n"
   ]
  },
  {
   "cell_type": "markdown",
   "metadata": {},
   "source": [
    "### homework question\n",
    "<img width=\"693\" alt=\"Screenshot 2024-09-16 at 8 05 24 AM\" src=\"https://github.com/user-attachments/assets/1fe21854-ca17-4cfd-9e9d-14a92e6e6205\">\n",
    "what is the precondition for num?"
   ]
  }
 ],
 "metadata": {
  "kernelspec": {
   "display_name": "java (IJava/j!)",
   "language": "java",
   "name": "jbang-ijava"
  },
  "language_info": {
   "codemirror_mode": "java",
   "file_extension": ".jshell",
   "mimetype": "text/x-java-source",
   "name": "Java",
   "pygments_lexer": "java",
   "version": "17.0.12+8-LTS-286"
  }
 },
 "nbformat": 4,
 "nbformat_minor": 2
}
