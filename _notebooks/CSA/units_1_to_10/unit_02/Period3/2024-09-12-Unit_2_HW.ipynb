{
 "cells": [
  {
   "cell_type": "raw",
   "metadata": {
    "vscode": {
     "languageId": "raw"
    }
   },
   "source": [
    "---\n",
    "layout: post\n",
    "title: Unit 2 — Recap & Homework\n",
    "description: A recap of everything we covered today.\n",
    "type: collab\n",
    "toc: true\n",
    "permalink: /csa/unit2/period3/homework/\n",
    "menu: nav/CSA_Units/unit2/period3.html\n",
    "comments: true\n",
    "author: Aadit Mathur, Eric Yu, Shuban Pal, Rahul Verma\n",
    "---"
   ]
  },
  {
   "cell_type": "markdown",
   "metadata": {
    "vscode": {
     "languageId": "java"
    }
   },
   "source": [
    "# Homework\n",
    "Now, it's time to practice! The following problem will incorporate the following concepts:\n",
    "- Classes\n",
    "    - Constructors\n",
    "- Methods\n",
    "    - Void methods\n",
    "    - Non-void methods\n",
    "- Math class\n",
    "- `Integer` and `Double` wrapper classes\n",
    "- String methods"
   ]
  },
  {
   "cell_type": "code",
   "execution_count": 2,
   "metadata": {
    "vscode": {
     "languageId": "java"
    }
   },
   "outputs": [
    {
     "name": "stdout",
     "output_type": "stream",
     "text": [
      "Circle 1:\n",
      "Radius: 5.0\n",
      "Circumference: 31.41592653589793\n",
      "Area: 78.53981633974483\n",
      "\n",
      "Circle 2:\n",
      "Radius: 7.0\n",
      "Circumference: 43.982297150257104\n",
      "Area: 153.93804002589985\n",
      "\n",
      "Student 1:\n",
      "Name: Aadit\n",
      "Name Length: 5\n",
      "Grade: 75.0\n",
      "Scaled Grade: 37.5\n",
      "\n",
      "Student 2:\n",
      "Name: Emily\n",
      "Name Length: 5\n",
      "Grade: 45.0\n",
      "Scaled Grade: 22.5\n"
     ]
    }
   ],
   "source": [
    "public class Circle {\n",
    "    double radius;\n",
    "\n",
    "    public Circle(double radius) {\n",
    "        this.radius = radius;\n",
    "    }\n",
    "\n",
    "    public double circumference() {\n",
    "        return 2 * Math.PI * radius;\n",
    "    }\n",
    "\n",
    "    public double area() {\n",
    "        return Math.PI * Math.pow(radius, 2);\n",
    "    }\n",
    "}\n",
    "\n",
    "public class Student {\n",
    "    String name;\n",
    "    Integer grade;\n",
    "\n",
    "    public Student(String name, Integer grade) {\n",
    "        this.name = name;\n",
    "        this.grade = grade;\n",
    "    }\n",
    "\n",
    "    public int nameLength() {\n",
    "        return name.length();\n",
    "    }\n",
    "\n",
    "    public Double getGradeAsDouble() {\n",
    "        return grade.doubleValue();\n",
    "    }\n",
    "\n",
    "    public double getScaledGrade() {\n",
    "        return grade / 2.0;\n",
    "    }\n",
    "}\n",
    "\n",
    "public class Main {\n",
    "    public static void main(String[] args) {\n",
    "        Circle circle1 = new Circle(5.0);\n",
    "        Circle circle2 = new Circle(7.0);\n",
    "\n",
    "        System.out.println(\"Circle 1:\");\n",
    "        System.out.println(\"Radius: \" + circle1.radius);\n",
    "        System.out.println(\"Circumference: \" + circle1.circumference());\n",
    "        System.out.println(\"Area: \" + circle1.area());\n",
    "\n",
    "        System.out.println(\"\\nCircle 2:\");\n",
    "        System.out.println(\"Radius: \" + circle2.radius);\n",
    "        System.out.println(\"Circumference: \" + circle2.circumference());\n",
    "        System.out.println(\"Area: \" + circle2.area());\n",
    "\n",
    "        Student student1 = new Student(\"Aadit\", 75);\n",
    "        Student student2 = new Student(\"Emily\", 45);\n",
    "\n",
    "        System.out.println(\"\\nStudent 1:\");\n",
    "        System.out.println(\"Name: \" + student1.name);\n",
    "        System.out.println(\"Name Length: \" + student1.nameLength());\n",
    "        System.out.println(\"Grade: \" + student1.getGradeAsDouble());\n",
    "        System.out.println(\"Scaled Grade: \" + student1.getScaledGrade());\n",
    "\n",
    "        System.out.println(\"\\nStudent 2:\");\n",
    "        System.out.println(\"Name: \" + student2.name);\n",
    "        System.out.println(\"Name Length: \" + student2.nameLength());\n",
    "        System.out.println(\"Grade: \" + student2.getGradeAsDouble());\n",
    "        System.out.println(\"Scaled Grade: \" + student2.getScaledGrade());\n",
    "    }\n",
    "}\n",
    "Main.main(null)\n"
   ]
  }
 ],
 "metadata": {
  "kernelspec": {
   "display_name": "java (IJava/j!)",
   "language": "java",
   "name": "jbang-ijava"
  },
  "language_info": {
   "codemirror_mode": "java",
   "file_extension": ".jshell",
   "mimetype": "text/x-java-source",
   "name": "Java",
   "pygments_lexer": "java",
   "version": "17.0.12+8-LTS-286"
  }
 },
 "nbformat": 4,
 "nbformat_minor": 2
}
