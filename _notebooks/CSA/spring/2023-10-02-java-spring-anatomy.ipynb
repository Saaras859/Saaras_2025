{
 "cells": [
  {
   "attachments": {},
   "cell_type": "raw",
   "metadata": {
    "vscode": {
     "languageId": "raw"
    }
   },
   "source": [
    "---\n",
    "# this is YAML front matter\n",
    "layout: post\n",
    "title: Anatomy of Java Spring \n",
    "description: A discussion of key elements in a Java Spring backend project.  This includes preparing a project for deployment.\n",
    "courses: { csa: {week: 3} }\n",
    "categories: [Java Spring]\n",
    "type: ccc\n",
    "---"
   ]
  },
  {
   "attachments": {},
   "cell_type": "markdown",
   "metadata": {},
   "source": [
    "## Highlights of a Spring Web Application\n",
    "This article introduces key considerations in setting up a Java Spring Backend project."
   ]
  },
  {
   "attachments": {},
   "cell_type": "markdown",
   "metadata": {},
   "source": [
    "## Overview of files for Spring / Maven / Thymeleaf\n",
    "> Prepare for this review by completing Tools Setup and README instruction to clone and buid.\n",
    "\n",
    "- `README.md`: This file contains instructions and information about the project. It is a standard component of all properly set up GitHub projects.\n",
    "\n",
    "- `pom.xml`: This file is the Maven Project Object Model (POM) file. It defines the project configuration, dependencies, build settings, and other metadata required for building and managing the Java project.\n",
    "\n",
    "- `src/main/java/`: This directory contains your Java source code files, including controllers, services, models, and other backend components of your Spring application.\n",
    "\n",
    "- `src/main/resources/static/`: This directory is the location for static web resources such as CSS, JavaScript, images, and other assets that will be served directly by the web server without any processing.\n",
    "\n",
    "- `src/main/resources/templates/`: This directory contains Thymeleaf template files. These are dynamic HTML templates that can be rendered on the server-side and populated with data from your Java code. Thymeleaf provides powerful templating features and allows you to create dynamic web pages with Java integration.\n",
    "\n",
    "- `application.properties` or `application.yml`: These files contain configuration properties for the Spring application. They can include settings related to the database connection, server port, logging, security, and other application-specific configurations.\n",
    "\n",
    "- `Main.java`: This Java file contains the main entry point of the Spring application. It is annotated with @SpringBootApplication and includes the main method to start the application.\n",
    "\n",
    "- `SecurityConfiguration.java`: This Java file is a Java class that typically plays a crucial role in configuring the security aspects of a web application using Spring Security framework. It is responsible for defining security rules, authentication mechanisms, authorization policies, and other security-related configurations.\n",
    "\n",
    "- `...ApiController.java`: These Java files define the web controllers responsible for handling incoming requests and generating appropriate responses. They typically use annotations like @RestController or @Controller to define the request mapping endpoints.\n",
    "\n",
    "- `...ServiceImpl.java`: These Java files contain the business logic of the application. They encapsulate complex operations and provide services to the controllers. Service classes are often annotated with @Service.\n",
    "\n",
    "- `...JpaRepository.java`: These Java files define the data access layer of the application. They interact with the database or other data sources to perform CRUD operations.\n",
    "\n",
    "Please note that this is a general overview, and the specific file and directory structure can vary as any project progresses or the framework change."
   ]
  },
  {
   "cell_type": "markdown",
   "metadata": {},
   "source": [
    "### Main.java\n",
    "Entry point for Java Spring Application\n",
    "\n",
    "```java\n",
    "@SpringBootApplication\n",
    "public class Main {\n",
    "\n",
    "    // Starts a spring application as a stand-alone application from the main method\n",
    "    public static void main(String[] args) {\n",
    "        SpringApplication.run(Main.class, args);\n",
    "    }\n",
    "\n",
    "}\n",
    "```"
   ]
  },
  {
   "cell_type": "markdown",
   "metadata": {},
   "source": [
    "### application.properties\n",
    "Key properties like server.port, secret keys, and database connections are listed in this file.  "
   ]
  },
  {
   "cell_type": "code",
   "execution_count": null,
   "metadata": {
    "vscode": {
     "languageId": "shellscript"
    }
   },
   "outputs": [],
   "source": [
    "server.error.whitelabel.enabled=false\n",
    "spring.devtools.add-properties=false\n",
    "logging.level.root=warn\n",
    "\n",
    "spring.jpa.database-platform=com.nighthawk.spring_portfolio.SQLDialect\n",
    "spring.jpa.hibernate.ddl-auto=update\n",
    "spring.jpa.show-sql=false\n",
    "spring.jpa.properties.hibernate.format_sql=false\n",
    "spring.jpa.open-in-view=false\n",
    "spring.datasource.url = jdbc:sqlite:volumes/sqlite.db\n",
    "spring.datasource.driver-class-name = org.sqlite.JDBC\n",
    "spring.datasource.username = admin\n",
    "spring.datasource.password = admin\n",
    "\n",
    "server.port=8085\n",
    "\n",
    "jwt.secret=nighthawk"
   ]
  },
  {
   "cell_type": "markdown",
   "metadata": {},
   "source": [
    "### pom.xml\n",
    "All the modules included into the project are listed in this file.  Here you can see some of the dependencies added to make the Java project into Spring Web Application.  As you add features or frameworks you will add to this file.\n",
    "\n",
    "```pom\n",
    "<dependencies>\n",
    "        <!-- Spring -->\n",
    "        <dependency>\n",
    "            <groupId>org.springframework.boot</groupId>\n",
    "            <artifactId>spring-boot-starter-validation</artifactId>\n",
    "        </dependency>\n",
    "        <dependency>\n",
    "            <groupId>org.springframework.boot</groupId>\n",
    "            <artifactId>spring-boot-starter-thymeleaf</artifactId>\n",
    "        </dependency>\n",
    "        <dependency>\n",
    "            <groupId>org.springframework.boot</groupId>\n",
    "            <artifactId>spring-boot-starter-web</artifactId>\n",
    "        </dependency>\n",
    "        <dependency>\n",
    "            <groupId>org.springframework.boot</groupId>\n",
    "            <artifactId>spring-boot-starter-security</artifactId>\n",
    "        </dependency>\n",
    "        <dependency>\n",
    "            <groupId>org.springframework.boot</groupId>\n",
    "            <artifactId>spring-boot-devtools</artifactId>\n",
    "            <scope>runtime</scope>\n",
    "            <optional>true</optional>\n",
    "        </dependency>\n",
    "        <dependency>\n",
    "            <groupId>org.springframework.boot</groupId>\n",
    "            <artifactId>spring-boot-starter-test</artifactId>\n",
    "            <scope>test</scope>\n",
    "        </dependency>\n",
    "        <dependency>\n",
    "            <groupId>org.thymeleaf</groupId>\n",
    "            <artifactId>thymeleaf-spring5</artifactId>\n",
    "            <!-- TODO Remove once available in platform BOM -->\n",
    "            <version>${org.thymeleaf-version}</version>\n",
    "        </dependency>\n",
    "        <dependency>\n",
    "            <groupId>org.thymeleaf.extras</groupId>\n",
    "            <artifactId>thymeleaf-extras-springsecurity4</artifactId>\n",
    "            <!-- TODO Remove version once available in platform BOM -->\n",
    "            <version>${org.thymeleaf.extras.springsecurity4-version}</version>\n",
    "        </dependency>\n",
    "        ...\n",
    "    </dependencies>\n",
    "```"
   ]
  },
  {
   "cell_type": "markdown",
   "metadata": {},
   "source": [
    "### PersonApiController.java\n",
    "Build APIs requires a lot of [annotations](https://www.geeksforgeeks.org/annotations-in-java/#).  This controller in Module View Control (MVC) establish mechanism to receive and respond to API requests.\n",
    "\n",
    "```java\n",
    "@RestController\n",
    "@RequestMapping(\"/api/person\")\n",
    "public class PersonApiController {\n",
    "    //     @Autowired\n",
    "    // private JwtTokenUtil jwtGen;\n",
    "    /*\n",
    "    #### RESTful API ####\n",
    "    Resource: https://spring.io/guides/gs/rest-service/\n",
    "    */\n",
    "\n",
    "    // Autowired enables Control to connect POJO Object through JPA\n",
    "    @Autowired\n",
    "    private PersonJpaRepository repository;\n",
    "\n",
    "    /*\n",
    "    GET List of People\n",
    "     */\n",
    "    @GetMapping(\"/\")\n",
    "    public ResponseEntity<List<Person>> getPeople() {\n",
    "        return new ResponseEntity<>( repository.findAllByOrderByNameAsc(), HttpStatus.OK);\n",
    "    }\n",
    "\n",
    "    /*\n",
    "    GET individual Person using ID\n",
    "     */\n",
    "    @GetMapping(\"/{id}\")\n",
    "    public ResponseEntity<Person> getPerson(@PathVariable long id) {\n",
    "        Optional<Person> optional = repository.findById(id);\n",
    "        if (optional.isPresent()) {  // Good ID\n",
    "            Person person = optional.get();  // value from findByID\n",
    "            return new ResponseEntity<>(person, HttpStatus.OK);  // OK HTTP response: status code, headers, and body\n",
    "        }\n",
    "        // Bad ID\n",
    "        return new ResponseEntity<>(HttpStatus.BAD_REQUEST);       \n",
    "    }\n",
    "\n",
    "    /*\n",
    "    DELETE individual Person using ID\n",
    "     */\n",
    "    @DeleteMapping(\"/delete/{id}\")\n",
    "    public ResponseEntity<Person> deletePerson(@PathVariable long id) {\n",
    "        Optional<Person> optional = repository.findById(id);\n",
    "        if (optional.isPresent()) {  // Good ID\n",
    "            Person person = optional.get();  // value from findByID\n",
    "            repository.deleteById(id);  // value from findByID\n",
    "            return new ResponseEntity<>(person, HttpStatus.OK);  // OK HTTP response: status code, headers, and body\n",
    "        }\n",
    "        // Bad ID\n",
    "        return new ResponseEntity<>(HttpStatus.BAD_REQUEST); \n",
    "    }\n",
    "\n",
    "    /*\n",
    "    POST Aa record by Requesting Parameters from URI\n",
    "     */\n",
    "    @PostMapping( \"/post\")\n",
    "    public ResponseEntity<Object> postPerson(@RequestParam String email,\n",
    "                                             @RequestParam String password,\n",
    "                                             @RequestParam String name,\n",
    "                                             @RequestParam(\"dob\") String dobString) {\n",
    "        Date dob;\n",
    "        try {\n",
    "            dob = new SimpleDateFormat(\"MM-dd-yyyy\").parse(dobString);\n",
    "        } catch (Exception e) {\n",
    "            return new ResponseEntity<>(dobString +\" error; try MM-dd-yyyy\", HttpStatus.BAD_REQUEST);\n",
    "        }\n",
    "        // A person object WITHOUT ID will create a new record with default roles as student\n",
    "        Person person = new Person(email, password, name, dob);\n",
    "        repository.save(person);\n",
    "        return new ResponseEntity<>(email +\" is created successfully\", HttpStatus.CREATED);\n",
    "    }\n",
    "\n",
    "    // ... //\n",
    "\n",
    "}\n",
    "\n",
    "```"
   ]
  },
  {
   "attachments": {},
   "cell_type": "markdown",
   "metadata": {},
   "source": [
    "\n",
    "## Deployment Files\n",
    "> In addition to Java / Spring.   It is always a requirement to consider deployment.  Be sure your docker files are created modifying the templates below to fit you needs."
   ]
  },
  {
   "cell_type": "code",
   "execution_count": null,
   "metadata": {
    "vscode": {
     "languageId": "shellscript"
    }
   },
   "outputs": [],
   "source": [
    "# Dockerfile\n",
    "FROM openjdk:18-alpine3.13\n",
    "WORKDIR /app\n",
    "RUN apk update && apk upgrade && \\\n",
    "    apk add --no-cache git \n",
    "COPY . /app\n",
    "RUN ./mvnw package\n",
    "CMD [\"java\", \"-jar\", \"target/spring-0.0.1-SNAPSHOT.jar\"]\n",
    "EXPOSE 8085"
   ]
  },
  {
   "cell_type": "code",
   "execution_count": null,
   "metadata": {
    "vscode": {
     "languageId": "shellscript"
    }
   },
   "outputs": [],
   "source": [
    "# docker-compose.yml\n",
    "version: '3'\n",
    "services:\n",
    "        web:\n",
    "                image: java_springv1 # Change the image name to something unique to your project, aka my_unique_name_v1\n",
    "                build: .\n",
    "                ports:\n",
    "                        - \"8---:8085\" # Edit the number on the left to match the port you selected \n",
    "                volumes:\n",
    "                        - ./volumes:/volumes\n",
    "                restart: unless-stopped"
   ]
  },
  {
   "cell_type": "markdown",
   "metadata": {},
   "source": [
    "# Hacks\n",
    "Start your own Spring Project: https://github.com/nighthawkcoders/spring_portfolio"
   ]
  }
 ],
 "metadata": {
  "kernelspec": {
   "display_name": "base",
   "language": "python",
   "name": "python3"
  },
  "language_info": {
   "codemirror_mode": {
    "name": "ipython",
    "version": 3
   },
   "file_extension": ".py",
   "mimetype": "text/x-python",
   "name": "python",
   "nbconvert_exporter": "python",
   "pygments_lexer": "ipython3",
   "version": "3.9.12"
  },
  "orig_nbformat": 4
 },
 "nbformat": 4,
 "nbformat_minor": 2
}
