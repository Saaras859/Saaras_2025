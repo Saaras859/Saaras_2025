{
 "cells": [
  {
   "cell_type": "markdown",
   "metadata": {},
   "source": [
    "---\n",
    "layout: post\n",
    "title: Extra Credit Blog\n",
    "categories: [AP CSA]\n",
    "permalink: /extracredit\n",
    "---"
   ]
  },
  {
   "cell_type": "markdown",
   "metadata": {},
   "source": [
    "<img width=\"623\" alt=\"Image\" src=\"https://github.com/user-attachments/assets/ecab2ff7-3bb5-49e7-ae30-92a2bce05f91\" />\n",
    "### Incorporating Team Teach Guidelines for CSA  \n",
    "\n",
    "- **Important Websites**:  \n",
    "  - draw.io, agilemethodology websites just google\n",
    "\n",
    "- **Use Case Diagrams**:  \n",
    "  - Create use case diagrams to visualize interactions between students, assignments, and feedback.  \n",
    "  - Plan workflows for CSA topics, group collaborations, and project timelines.  \n",
    "\n",
    "- **Preparation & Review**:  \n",
    "  - Submit study materials or code for peer review well in advance.  \n",
    "  - Use feedback loops to refine your understanding and improve outputs.  \n",
    "\n",
    "- **Deadlines & Grading**:  \n",
    "  - Adhere to strict timelines, completing mock exams and reviews within 2–7 days.  \n",
    "  - Document lessons and results consistently for tracking and reflection.  \n",
    "\n",
    "---\n",
    "\n",
    "### College Application Use  \n",
    "\n",
    "- **Computer Science Major**:  \n",
    "  - Highlight your use of use case diagrams to demonstrate project planning and collaboration.  \n",
    "  - Showcase how structured deadlines and teamwork led to successful coding projects.  \n",
    "\n",
    "- **Engineering Major**:  \n",
    "  - Emphasize how you applied systematic planning and teamwork to solve technical challenges.  \n",
    "\n",
    "- **Management/Leadership Roles**:  \n",
    "  - Discuss how you implemented review systems, managed deadlines, and led team-based lessons or projects.  \n",
    "\n",
    "\n",
    "### Review for Me:\n",
    "  - Focus on understanding what your code does over just writing it.  \n",
    "  - Communicate clearly and concisely to stand out for internships and jobs.  \n",
    "  - Be engaging and brief when presenting yourself.  \n",
    "  - Practice agile methodology to prepare for corporate settings.  \n",
    "  - Use flowcharts to plan and structure ideas before coding.  \n",
    "  - Learn Git—it’s essential for developers in jobs and internships.  \n"
   ]
  }
 ],
 "metadata": {
  "language_info": {
   "name": "python"
  }
 },
 "nbformat": 4,
 "nbformat_minor": 2
}
